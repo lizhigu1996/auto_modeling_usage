{
 "cells": [
  {
   "cell_type": "code",
   "execution_count": 1,
   "metadata": {
    "ExecuteTime": {
     "end_time": "2019-05-23T03:03:02.388530Z",
     "start_time": "2019-05-23T03:02:56.411187Z"
    }
   },
   "outputs": [],
   "source": [
    "import numpy as np\n",
    "import pandas as pd\n",
    "import os\n",
    "import shap\n",
    "from xgboost import XGBClassifier\n",
    "from lightgbm import LGBMClassifier\n",
    "from sklearn.ensemble import GradientBoostingClassifier, RandomForestClassifier\n",
    "\n",
    "import matplotlib.pyplot as plt\n",
    "%matplotlib inline"
   ]
  },
  {
   "cell_type": "code",
   "execution_count": 2,
   "metadata": {
    "ExecuteTime": {
     "end_time": "2019-05-23T03:03:03.962622Z",
     "start_time": "2019-05-23T03:03:02.483536Z"
    }
   },
   "outputs": [
    {
     "data": {
      "text/html": [
       "<div>\n",
       "<style scoped>\n",
       "    .dataframe tbody tr th:only-of-type {\n",
       "        vertical-align: middle;\n",
       "    }\n",
       "\n",
       "    .dataframe tbody tr th {\n",
       "        vertical-align: top;\n",
       "    }\n",
       "\n",
       "    .dataframe thead th {\n",
       "        text-align: right;\n",
       "    }\n",
       "</style>\n",
       "<table border=\"1\" class=\"dataframe\">\n",
       "  <thead>\n",
       "    <tr style=\"text-align: right;\">\n",
       "      <th></th>\n",
       "      <th>TARGET</th>\n",
       "      <th>AUTH_TIME_YEAR</th>\n",
       "      <th>AUTH_TIME_MONTH</th>\n",
       "      <th>AUTH_TIME_DAY</th>\n",
       "      <th>AUTH_TIME_WEEKDAY</th>\n",
       "      <th>ID_CARD_EXIST</th>\n",
       "      <th>AUTH_TIME_EXIST</th>\n",
       "      <th>PHONE_EXIST</th>\n",
       "      <th>PHONE_HEAD3</th>\n",
       "      <th>APPL_AUTH_TIME</th>\n",
       "      <th>...</th>\n",
       "      <th>BEFORE_COUNT</th>\n",
       "      <th>ORDER_NAME_FRE</th>\n",
       "      <th>ID_LEN</th>\n",
       "      <th>ORDERNUM_MINUS</th>\n",
       "      <th>ORDERNUM_DIVD</th>\n",
       "      <th>ID_CARD_FIRST</th>\n",
       "      <th>COUNT_REC_INFO</th>\n",
       "      <th>REGION_FRE</th>\n",
       "      <th>FIX_PHONE_FRE</th>\n",
       "      <th>DATE</th>\n",
       "    </tr>\n",
       "  </thead>\n",
       "  <tbody>\n",
       "    <tr>\n",
       "      <th>0</th>\n",
       "      <td>1</td>\n",
       "      <td>-1</td>\n",
       "      <td>-1</td>\n",
       "      <td>-1</td>\n",
       "      <td>-1</td>\n",
       "      <td>1</td>\n",
       "      <td>0</td>\n",
       "      <td>0</td>\n",
       "      <td>NaN</td>\n",
       "      <td>NaN</td>\n",
       "      <td>...</td>\n",
       "      <td>1</td>\n",
       "      <td>1.000000</td>\n",
       "      <td>18</td>\n",
       "      <td>0</td>\n",
       "      <td>1.0</td>\n",
       "      <td>4</td>\n",
       "      <td>9.0</td>\n",
       "      <td>2</td>\n",
       "      <td>1.0</td>\n",
       "      <td>2016-10</td>\n",
       "    </tr>\n",
       "    <tr>\n",
       "      <th>1</th>\n",
       "      <td>1</td>\n",
       "      <td>-1</td>\n",
       "      <td>-1</td>\n",
       "      <td>-1</td>\n",
       "      <td>-1</td>\n",
       "      <td>0</td>\n",
       "      <td>0</td>\n",
       "      <td>1</td>\n",
       "      <td>1.0</td>\n",
       "      <td>NaN</td>\n",
       "      <td>...</td>\n",
       "      <td>1</td>\n",
       "      <td>1.000000</td>\n",
       "      <td>18</td>\n",
       "      <td>0</td>\n",
       "      <td>1.0</td>\n",
       "      <td>-1</td>\n",
       "      <td>0.0</td>\n",
       "      <td>-1</td>\n",
       "      <td>1.0</td>\n",
       "      <td>2016-10</td>\n",
       "    </tr>\n",
       "    <tr>\n",
       "      <th>2</th>\n",
       "      <td>1</td>\n",
       "      <td>2017</td>\n",
       "      <td>4</td>\n",
       "      <td>7</td>\n",
       "      <td>4</td>\n",
       "      <td>1</td>\n",
       "      <td>1</td>\n",
       "      <td>1</td>\n",
       "      <td>3.0</td>\n",
       "      <td>-19.0</td>\n",
       "      <td>...</td>\n",
       "      <td>1</td>\n",
       "      <td>1.000000</td>\n",
       "      <td>18</td>\n",
       "      <td>0</td>\n",
       "      <td>1.0</td>\n",
       "      <td>5</td>\n",
       "      <td>0.0</td>\n",
       "      <td>-1</td>\n",
       "      <td>1.0</td>\n",
       "      <td>2017-03</td>\n",
       "    </tr>\n",
       "    <tr>\n",
       "      <th>3</th>\n",
       "      <td>1</td>\n",
       "      <td>2016</td>\n",
       "      <td>8</td>\n",
       "      <td>21</td>\n",
       "      <td>6</td>\n",
       "      <td>1</td>\n",
       "      <td>1</td>\n",
       "      <td>1</td>\n",
       "      <td>1.0</td>\n",
       "      <td>6.0</td>\n",
       "      <td>...</td>\n",
       "      <td>3</td>\n",
       "      <td>0.666667</td>\n",
       "      <td>20</td>\n",
       "      <td>3</td>\n",
       "      <td>0.0</td>\n",
       "      <td>5</td>\n",
       "      <td>2.0</td>\n",
       "      <td>1</td>\n",
       "      <td>1.0</td>\n",
       "      <td>2016-08</td>\n",
       "    </tr>\n",
       "    <tr>\n",
       "      <th>4</th>\n",
       "      <td>1</td>\n",
       "      <td>2016</td>\n",
       "      <td>4</td>\n",
       "      <td>28</td>\n",
       "      <td>3</td>\n",
       "      <td>1</td>\n",
       "      <td>1</td>\n",
       "      <td>1</td>\n",
       "      <td>2.0</td>\n",
       "      <td>351.0</td>\n",
       "      <td>...</td>\n",
       "      <td>1</td>\n",
       "      <td>1.000000</td>\n",
       "      <td>18</td>\n",
       "      <td>1</td>\n",
       "      <td>0.0</td>\n",
       "      <td>3</td>\n",
       "      <td>1.0</td>\n",
       "      <td>-1</td>\n",
       "      <td>0.0</td>\n",
       "      <td>2017-04</td>\n",
       "    </tr>\n",
       "  </tbody>\n",
       "</table>\n",
       "<p>5 rows × 57 columns</p>\n",
       "</div>"
      ],
      "text/plain": [
       "   TARGET  AUTH_TIME_YEAR  AUTH_TIME_MONTH  AUTH_TIME_DAY  AUTH_TIME_WEEKDAY  \\\n",
       "0       1              -1               -1             -1                 -1   \n",
       "1       1              -1               -1             -1                 -1   \n",
       "2       1            2017                4              7                  4   \n",
       "3       1            2016                8             21                  6   \n",
       "4       1            2016                4             28                  3   \n",
       "\n",
       "   ID_CARD_EXIST  AUTH_TIME_EXIST  PHONE_EXIST  PHONE_HEAD3  APPL_AUTH_TIME  \\\n",
       "0              1                0            0          NaN             NaN   \n",
       "1              0                0            1          1.0             NaN   \n",
       "2              1                1            1          3.0           -19.0   \n",
       "3              1                1            1          1.0             6.0   \n",
       "4              1                1            1          2.0           351.0   \n",
       "\n",
       "   ...  BEFORE_COUNT  ORDER_NAME_FRE  ID_LEN  ORDERNUM_MINUS  ORDERNUM_DIVD  \\\n",
       "0  ...             1        1.000000      18               0            1.0   \n",
       "1  ...             1        1.000000      18               0            1.0   \n",
       "2  ...             1        1.000000      18               0            1.0   \n",
       "3  ...             3        0.666667      20               3            0.0   \n",
       "4  ...             1        1.000000      18               1            0.0   \n",
       "\n",
       "   ID_CARD_FIRST  COUNT_REC_INFO  REGION_FRE  FIX_PHONE_FRE     DATE  \n",
       "0              4             9.0           2            1.0  2016-10  \n",
       "1             -1             0.0          -1            1.0  2016-10  \n",
       "2              5             0.0          -1            1.0  2017-03  \n",
       "3              5             2.0           1            1.0  2016-08  \n",
       "4              3             1.0          -1            0.0  2017-04  \n",
       "\n",
       "[5 rows x 57 columns]"
      ]
     },
     "execution_count": 2,
     "metadata": {},
     "output_type": "execute_result"
    }
   ],
   "source": [
    "with open(r'..\\usage\\data\\test_data.csv') as data:\n",
    "    data = pd.read_csv(data, low_memory=False)\n",
    "data.columns = [x.upper() for x in data.columns]\n",
    "data['DATE'] = data['APPL_SBM_TM'].apply(lambda x:x[0:7])\n",
    "data.drop(['APPL_SBM_TM','ID'],axis=1,inplace=True)\n",
    "\n",
    "data.head()"
   ]
  },
  {
   "cell_type": "code",
   "execution_count": 3,
   "metadata": {
    "ExecuteTime": {
     "end_time": "2019-05-23T03:03:08.541881Z",
     "start_time": "2019-05-23T03:03:04.153632Z"
    }
   },
   "outputs": [],
   "source": [
    "os.chdir('..') \n",
    "import auto_modeling as am"
   ]
  },
  {
   "cell_type": "code",
   "execution_count": 4,
   "metadata": {
    "ExecuteTime": {
     "end_time": "2019-05-23T03:03:10.944023Z",
     "start_time": "2019-05-23T03:03:08.766897Z"
    }
   },
   "outputs": [
    {
     "name": "stdout",
     "output_type": "stream",
     "text": [
      ">> 数据集自动划分成功,按时间升序,后50%样本作为跨时间测试集\n",
      ">> 训练集样本数: 9328\n",
      ">> 测试集样本数: 3999\n",
      ">> 跨时间测试集样本数: 20734\n",
      ">> 训练集目标情况如下:\n",
      "   训练集TARGET为 0 的数量: 8343  占比: 89.2%\n",
      "   训练集TARGET为 1 的数量: 985  占比: 10.2%\n"
     ]
    }
   ],
   "source": [
    "# 本usage统一用自动划分数据集作为后面的演示\n",
    "X_train, Y_train, X_test, Y_test, X_time_test, Y_time_test = am.data_split(data=data, test_size=0.3, time_test_type=True)"
   ]
  },
  {
   "cell_type": "code",
   "execution_count": 5,
   "metadata": {
    "ExecuteTime": {
     "end_time": "2019-05-23T03:03:11.739068Z",
     "start_time": "2019-05-23T03:03:11.735067Z"
    }
   },
   "outputs": [],
   "source": [
    "keep_cols = ['CREDIT_SCORE', 'APPL_AUTH_TIME', 'BANKPRED', 'NULL_COUNT', 'ID_LEN', 'BANK_RATE_AVG', 'AMT_ORDER_SUM', \n",
    "             'ACCOUNT_GRADE', 'OVERTIME_DELTA', 'ORDER_NULL_AVG']"
   ]
  },
  {
   "cell_type": "code",
   "execution_count": 6,
   "metadata": {
    "ExecuteTime": {
     "end_time": "2019-05-23T03:03:12.777124Z",
     "start_time": "2019-05-23T03:03:12.698120Z"
    }
   },
   "outputs": [],
   "source": [
    "# 转换数据集\n",
    "X_train_trans, X_test_trans, X_time_test_trans, num_cols, char_cols = am.get_coltype_datalist(X_train, X_test, X_time_test, keep_cols)"
   ]
  },
  {
   "cell_type": "code",
   "execution_count": 7,
   "metadata": {
    "ExecuteTime": {
     "end_time": "2019-05-23T03:03:13.515167Z",
     "start_time": "2019-05-23T03:03:13.510167Z"
    }
   },
   "outputs": [],
   "source": [
    "# 封装变量处理方法\n",
    "mapper = am.get_mapper(num_cols, char_cols)"
   ]
  },
  {
   "cell_type": "code",
   "execution_count": 8,
   "metadata": {
    "ExecuteTime": {
     "end_time": "2019-05-23T03:03:14.641231Z",
     "start_time": "2019-05-23T03:03:14.633233Z"
    }
   },
   "outputs": [],
   "source": [
    "mapper.fit(X_train_trans)\n",
    "X_train_mapper = mapper.transform(X_train_trans)"
   ]
  },
  {
   "cell_type": "markdown",
   "metadata": {},
   "source": [
    "## shap值与预测值关系"
   ]
  },
  {
   "cell_type": "markdown",
   "metadata": {},
   "source": [
    "### LightGBM\n",
    "#### 每个样本shap值与期望值之和 = 模型预测值的odds_ratio转换\n",
    "$$ln\\frac{1-y}{y}$$\n",
    "#### 期望值expected_value = 所有样本模型预测值经odds_ratio转换后的均值\n",
    "$$expected\\_value = \\frac{1}{M}\\sum_{i=1}^{M}ln\\frac{1-y_i}{y_i}$$\n",
    "其实expected_value和模型预测值经odds_ratio转换后的均值并不完全相同，在第14位小数位有1的差异，为什么引起这个差异在后面测试xgboost的时候讲述"
   ]
  },
  {
   "cell_type": "code",
   "execution_count": 71,
   "metadata": {
    "ExecuteTime": {
     "end_time": "2019-05-21T09:24:53.501953Z",
     "start_time": "2019-05-21T09:24:22.676190Z"
    }
   },
   "outputs": [
    {
     "name": "stdout",
     "output_type": "stream",
     "text": [
      "所有样本shap值与期望值之和 - 模型预测值odds_ratio转换的值： [-0.0]\n",
      "shap库得到的expected_value： -3.3545325194123206\n",
      "模型预测值经odds_ratio转换后的均值： -3.354532519412321\n"
     ]
    }
   ],
   "source": [
    "model_lgb = LGBMClassifier(random_state=1234)\n",
    "model_lgb.fit(X_train_mapper,Y_train)\n",
    "\n",
    "explainer_lgb = shap.TreeExplainer(model_lgb)\n",
    "\n",
    "# 每个样本各个特征的shap值\n",
    "shap_values_lgb = explainer_lgb.shap_values(X_train_mapper)\n",
    "# 期望值\n",
    "expected_value_lgb = explainer_lgb.expected_value\n",
    "# 模型预测值 \n",
    "predict_lgb = model_lgb.predict_proba(X_train_mapper)[:, 1]\n",
    "# 对模型预测值进行odds_ratio转换\n",
    "predict_odds_ratio_lgb = np.log(predict_lgb / (1 - predict_lgb))\n",
    "# 每个样本shap值与期望值之和\n",
    "shap_sum_lgb = shap_values_lgb.sum(1) + expected_value_lgb\n",
    "print('所有样本shap值与期望值之和 - 模型预测值odds_ratio转换的值：',\n",
    "      list(set([round(i,4) for i in shap_sum_lgb - predict_odds_ratio_lgb])))\n",
    "print('shap库得到的expected_value：', expected_value_lgb)\n",
    "print('模型预测值经odds_ratio转换后的均值：', predict_odds_ratio_lgb.mean())"
   ]
  },
  {
   "cell_type": "code",
   "execution_count": null,
   "metadata": {},
   "outputs": [],
   "source": []
  },
  {
   "cell_type": "markdown",
   "metadata": {
    "ExecuteTime": {
     "end_time": "2019-05-21T08:28:35.059443Z",
     "start_time": "2019-05-21T08:28:35.056441Z"
    }
   },
   "source": [
    "### XGBoost\n",
    "#### 每个样本shap值与期望值之和是 = 模型预测值的odds_ratio转换\n",
    "#### 期望值expected_value = 所有样本模型预测值经odds_ratio转换后的均值\n",
    "可以看出shap库得到的expected_value为-2.235778，模型预测值经odds_ratio转换后的均值为-2.79391，有-0.5的差异，这个差异是在创建树解释器TreeExplainer的时候产生，因为这个类有一个data参数，默认为None，此时在生成解释器的时候，会将每个数路径下的训练样本作为我们的背景数据集（background dataset），然后记录到TreeExplainer生成的对象中，这时对象里面的背景数据集会与X_train_mapper有差异，而expected_value是预测背景数据集求均值得到的，所以expected_value与所有样本模型预测值经odds_ratio转换后的均值有差异。  \n",
    "如果在创建TreeExplainer的时候传入data，也就是explainer = shap.TreeExplainer(model_xgb, data=X_train_mapper)，这样就会直接使用X_train_mapper作为背景数据集，计算出的expected_value就是所有样本模型预测值经odds_ratio转换后的均值。\n",
    "至于为什么lightgbm基本无差异，xgboost则差异较大，应该是刚好lightgbm创建的模型将每个数路径下的训练样本作为我们的背景数据集时基本可以等同X_train_mapper，而xgboost则有差异"
   ]
  },
  {
   "cell_type": "code",
   "execution_count": 72,
   "metadata": {
    "ExecuteTime": {
     "end_time": "2019-05-21T09:25:05.974667Z",
     "start_time": "2019-05-21T09:25:01.028384Z"
    }
   },
   "outputs": [
    {
     "name": "stdout",
     "output_type": "stream",
     "text": [
      "所有样本shap值与期望值之和 - 模型预测值odds_ratio转换的值： [0.0]\n",
      "shap库得到的expected_value： -2.235778\n",
      "模型预测值经odds_ratio转换后的均值： -2.79391\n"
     ]
    }
   ],
   "source": [
    "model_xgb = XGBClassifier(random_state=1234)\n",
    "model_xgb.fit(X_train_mapper,Y_train)\n",
    "\n",
    "explainer_xgb = shap.TreeExplainer(model_xgb)\n",
    "\n",
    "# 每个样本各个特征的shap值\n",
    "shap_values_xgb = explainer_xgb.shap_values(X_train_mapper)\n",
    "# 期望值\n",
    "expected_value_xgb = explainer_xgb.expected_value\n",
    "# 模型预测值 \n",
    "predict_xgb = model_xgb.predict_proba(X_train_mapper)[:, 1]\n",
    "# 对模型预测值进行odds_ratio转换\n",
    "predict_odds_ratio_xgb = np.log(predict_xgb / (1 - predict_xgb))\n",
    "# 每个样本shap值与期望值之和\n",
    "shap_sum_xgb = shap_values_xgb.sum(1) + expected_value_xgb\n",
    "print('所有样本shap值与期望值之和 - 模型预测值odds_ratio转换的值：',\n",
    "      list(set([round(i,4) for i in shap_sum_xgb - predict_odds_ratio_xgb])))\n",
    "print('shap库得到的expected_value：', expected_value_xgb)\n",
    "print('模型预测值经odds_ratio转换后的均值：', predict_odds_ratio_xgb.mean())"
   ]
  },
  {
   "cell_type": "code",
   "execution_count": 69,
   "metadata": {
    "ExecuteTime": {
     "end_time": "2019-05-21T09:11:21.931478Z",
     "start_time": "2019-05-21T09:11:21.793467Z"
    }
   },
   "outputs": [
    {
     "name": "stdout",
     "output_type": "stream",
     "text": [
      "新的expected_value -2.793910030637288\n"
     ]
    }
   ],
   "source": [
    "explainer = shap.TreeExplainer(model_xgb, data=X_train_mapper)\n",
    "print('新的expected_value',explainer.expected_value)"
   ]
  },
  {
   "cell_type": "code",
   "execution_count": null,
   "metadata": {},
   "outputs": [],
   "source": []
  },
  {
   "cell_type": "markdown",
   "metadata": {},
   "source": [
    "### GBDT\n",
    "#### 每个样本shap值与期望值之和 = 模型预测值的odds_ratio转换\n",
    "#### 期望值expected_value = 所有样本模型预测值经odds_ratio转换后的均值\n",
    "可以看到expected_value和模型预测值经odds_ratio转换后的均值在第8位小数位开始有差异，这个差异在前面有说明"
   ]
  },
  {
   "cell_type": "code",
   "execution_count": 73,
   "metadata": {
    "ExecuteTime": {
     "end_time": "2019-05-21T09:25:26.233826Z",
     "start_time": "2019-05-21T09:25:21.293544Z"
    }
   },
   "outputs": [
    {
     "name": "stdout",
     "output_type": "stream",
     "text": [
      "所有样本shap值与期望值之和 - 模型预测值odds_ratio转换的值： [0.0]\n",
      "shap库得到的expected_value： -2.7378472773670883\n",
      "模型预测值经odds_ratio转换后的均值： -2.7378472802852625\n"
     ]
    }
   ],
   "source": [
    "model_gbdt = GradientBoostingClassifier(random_state=1234)\n",
    "model_gbdt.fit(X_train_mapper,Y_train)\n",
    "\n",
    "explainer_gbdt = shap.TreeExplainer(model_gbdt)\n",
    "\n",
    "# 每个样本各个特征的shap值\n",
    "shap_values_gbdt = explainer_gbdt.shap_values(X_train_mapper)\n",
    "# 期望值\n",
    "expected_value_gbdt = explainer_gbdt.expected_value\n",
    "# 模型预测值 \n",
    "predict_gbdt = model_gbdt.predict_proba(X_train_mapper)[:, 1]\n",
    "# 对模型预测值进行odds_ratio转换\n",
    "predict_odds_ratio_gbdt = np.log(predict_gbdt / (1 - predict_gbdt))\n",
    "# 每个样本shap值与期望值之和f\n",
    "shap_sum_gbdt = shap_values_gbdt.sum(1) + expected_value_gbdt\n",
    "print('所有样本shap值与期望值之和 - 模型预测值odds_ratio转换的值：',\n",
    "      list(set([round(i,4) for i in shap_sum_gbdt - predict_odds_ratio_gbdt])))\n",
    "print('shap库得到的expected_value：', expected_value_gbdt)\n",
    "print('模型预测值经odds_ratio转换后的均值：', predict_odds_ratio_gbdt.mean())"
   ]
  },
  {
   "cell_type": "code",
   "execution_count": null,
   "metadata": {},
   "outputs": [],
   "source": []
  },
  {
   "cell_type": "markdown",
   "metadata": {},
   "source": [
    "### 随机森林\n",
    "#### 每个样本shap值与期望值之和 = 模型预测值\n",
    "#### 期望值expected_value = 所有样本模型预测值的均值\n",
    "随机森林与其他模型不同，期望值expected_value并不等于所有样本模型预测值经odds_ratio转换后的均值，而是原始预测值的均值，这个是因为作者在源码中有对GBDT、LightGBM、XGBoost进行特殊处理，但随机森林却未做这个处理。  \n",
    "可以看到expected_value和模型预测值均值有0.003的差异，这个差异在前面有说明。  \n",
    "但是[2638, 4025, 8356]样本的shap值与期望值之和和模型预测值的差异有一次，为什么有这个异常的原因未发现。"
   ]
  },
  {
   "cell_type": "code",
   "execution_count": 38,
   "metadata": {
    "ExecuteTime": {
     "end_time": "2019-05-23T03:32:20.234250Z",
     "start_time": "2019-05-23T03:30:29.630914Z"
    }
   },
   "outputs": [
    {
     "name": "stdout",
     "output_type": "stream",
     "text": [
      "所有样本shap值与期望值之和 - 模型预测值： [-0.0, 0.1]\n",
      "shap库得到的expected_value： 0.10447041131556034\n",
      "模型预测值的均值： 0.10786670559248396\n"
     ]
    }
   ],
   "source": [
    "model_rf = RandomForestClassifier(random_state=1234)\n",
    "model_rf.fit(X_train_mapper,Y_train)\n",
    "\n",
    "explainer_rf = shap.TreeExplainer(model_rf)\n",
    "\n",
    "# 每个样本各个特征的shap值，这里用了索引[1]\n",
    "shap_values_rf = explainer_rf.shap_values(X_train_mapper)[1]\n",
    "# 期望值\n",
    "expected_value_rf = explainer_rf.expected_value[1]\n",
    "# 模型预测值 \n",
    "predict_rf = model_rf.predict_proba(X_train_mapper)[:, 1]\n",
    "# 每个样本shap值与期望值之和f\n",
    "shap_sum_rf = shap_values_rf.sum(1) + expected_value_rf\n",
    "print('所有样本shap值与期望值之和 - 模型预测值：',\n",
    "      list(set([round(i,4) for i in shap_sum_rf - predict_rf])))\n",
    "print('shap库得到的expected_value：', expected_value_rf)\n",
    "print('模型预测值的均值：', predict_rf.mean())"
   ]
  },
  {
   "cell_type": "code",
   "execution_count": 46,
   "metadata": {
    "ExecuteTime": {
     "end_time": "2019-05-23T03:33:24.598932Z",
     "start_time": "2019-05-23T03:33:24.441923Z"
    }
   },
   "outputs": [
    {
     "name": "stdout",
     "output_type": "stream",
     "text": [
      "shap值与期望值之和不等于模型预测值的样本: (array([2638, 4025, 8356], dtype=int64),)\n"
     ]
    }
   ],
   "source": [
    "# 从上面的输出可以看到有样本的shap值与期望值之和不等于模型预测值\n",
    "print('shap值与期望值之和不等于模型预测值的样本:',np.where([round(i,4) != 0 for i in shap_sum_rf - predict_rf]))"
   ]
  },
  {
   "cell_type": "code",
   "execution_count": 57,
   "metadata": {
    "ExecuteTime": {
     "end_time": "2019-05-23T03:36:46.310484Z",
     "start_time": "2019-05-23T03:36:46.276481Z"
    }
   },
   "outputs": [
    {
     "name": "stdout",
     "output_type": "stream",
     "text": [
      "异常样本的shap值与期望值之和 [0.1        0.1        1.00000001]\n",
      "异常样本的模型预测值 [0.  0.  0.9]\n"
     ]
    }
   ],
   "source": [
    "print('异常样本的shap值与期望值之和',shap_values_rf[[2638, 4025, 8356]].sum(1) + expected_value_rf)\n",
    "print('异常样本的模型预测值',model_rf.predict_proba(X_train_mapper)[[2638, 4025, 8356],1])"
   ]
  },
  {
   "cell_type": "markdown",
   "metadata": {},
   "source": [
    "## SHAP值与SHAP交互值的关系"
   ]
  },
  {
   "cell_type": "code",
   "execution_count": 58,
   "metadata": {
    "ExecuteTime": {
     "end_time": "2019-05-23T03:45:57.841069Z",
     "start_time": "2019-05-23T03:40:55.340745Z"
    }
   },
   "outputs": [],
   "source": [
    "model = LGBMClassifier(random_state=1234)\n",
    "model.fit(X_train_mapper,Y_train)\n",
    "\n",
    "explainer = shap.TreeExplainer(model)\n",
    "\n",
    "# 每个样本各个特征的SH值\n",
    "shap_values = explainer.shap_values(X_train_mapper)\n",
    "# 每个样本每两个特征的shap值\n",
    "shap_interaction_values = explainer.shap_interaction_values(X_train_mapper)"
   ]
  },
  {
   "cell_type": "code",
   "execution_count": 68,
   "metadata": {
    "ExecuteTime": {
     "end_time": "2019-05-23T03:54:26.029884Z",
     "start_time": "2019-05-23T03:54:25.021824Z"
    }
   },
   "outputs": [
    {
     "data": {
      "text/plain": [
       "<matplotlib.collections.PathCollection at 0x20023f56a20>"
      ]
     },
     "execution_count": 68,
     "metadata": {},
     "output_type": "execute_result"
    },
    {
     "data": {
      "image/png": "[encoded data removed]",
      "text/plain": [
       "<Figure size 720x360 with 1 Axes>"
      ]
     },
     "metadata": {
      "needs_background": "light"
     },
     "output_type": "display_data"
    }
   ],
   "source": [
    "# 首先我们知道每个样本的每个特征都是有一个shap值的，如果用特征值和shap值绘制散点图，就可以显示特征值和shap值的关系\n",
    "# 以CREDIT_SCORE为例\n",
    "plt.figure(figsize=[10,5])\n",
    "plt.scatter(X_train_mapper[:,0], shap_values[:,0], s=2)"
   ]
  },
  {
   "cell_type": "code",
   "execution_count": 70,
   "metadata": {
    "ExecuteTime": {
     "end_time": "2019-05-23T03:55:41.141184Z",
     "start_time": "2019-05-23T03:55:40.279134Z"
    }
   },
   "outputs": [
    {
     "data": {
      "text/plain": [
       "<matplotlib.collections.PathCollection at 0x20023fa0e10>"
      ]
     },
     "execution_count": 70,
     "metadata": {},
     "output_type": "execute_result"
    },
    {
     "data": {
      "image/png": "[encoded data removed]",
      "text/plain": [
       "<Figure size 720x360 with 1 Axes>"
      ]
     },
     "metadata": {
      "needs_background": "light"
     },
     "output_type": "display_data"
    }
   ],
   "source": [
    "# 用特征值和主要影响绘制散点图\n",
    "plt.figure(figsize=[10,5])\n",
    "plt.scatter(X_train_mapper[:,0], shap_interaction_values[:, 0, 0], s=2)"
   ]
  },
  {
   "cell_type": "markdown",
   "metadata": {},
   "source": [
    "可以看出特征值和shap值绘制散点图在垂直距离上较为分散，而特征值和主要影响绘制散点图则没有那么分散，主要原因是shap值受到了其他变量交互的影响，而主要影响则考虑了交互影响，主要影响的计算如下：\n",
    "$$\\phi _{i,i}=\\phi_i-\\sum_{j\\neq i}\\phi _{i,j}$$\n"
   ]
  },
  {
   "cell_type": "code",
   "execution_count": 87,
   "metadata": {
    "ExecuteTime": {
     "end_time": "2019-05-23T06:58:53.803858Z",
     "start_time": "2019-05-23T06:58:53.780854Z"
    }
   },
   "outputs": [
    {
     "name": "stdout",
     "output_type": "stream",
     "text": [
      "CREDIT_SCORE特征的主要影响（自己与自己的shap交互值）为: [ 0.04019067  1.54846066  0.09746918 ... -0.10330252  0.04792201\n",
      "  0.63945399]\n",
      "CREDIT_SCORE特征的shap值为: [-0.20521829  1.1487128   0.62079991 ...  0.33816258 -0.0178521\n",
      "  1.02926118]\n",
      "CREDIT_SCORE特征和其他特征的shap交互值累加为: [-0.24540895 -0.39974787  0.52333073 ...  0.4414651  -0.06577411\n",
      "  0.38980719]\n"
     ]
    }
   ],
   "source": [
    "print('CREDIT_SCORE特征的主要影响（自己与自己的shap交互值）为:', shap_interaction_values[:, 0, 0])\n",
    "print('CREDIT_SCORE特征的shap值为:', shap_values[:,0])\n",
    "print('CREDIT_SCORE特征和其他特征的shap交互值累加为:',shap_interaction_values[:,0,1:].sum(1))"
   ]
  },
  {
   "cell_type": "code",
   "execution_count": 88,
   "metadata": {
    "ExecuteTime": {
     "end_time": "2019-05-23T06:59:39.546476Z",
     "start_time": "2019-05-23T06:59:39.505472Z"
    }
   },
   "outputs": [
    {
     "name": "stdout",
     "output_type": "stream",
     "text": [
      "CREDIT_SCORE特征的shap值减去和其他特征的shap交互值累加减去主要影响为: [ 8.88178420e-16 -2.88657986e-15 -1.80411242e-16 ... -2.22044605e-16\n",
      "  1.38777878e-16 -1.44328993e-15]\n"
     ]
    }
   ],
   "source": [
    "print('CREDIT_SCORE特征的shap值减去和其他特征的shap交互值累加减去主要影响为:', \n",
    "      shap_values[:,0] - shap_interaction_values[:,0,1:].sum(1) - shap_interaction_values[:, 0, 0])"
   ]
  },
  {
   "cell_type": "code",
   "execution_count": null,
   "metadata": {},
   "outputs": [],
   "source": []
  }
 ],
 "metadata": {
  "kernelspec": {
   "display_name": "Python 3",
   "language": "python",
   "name": "python3"
  },
  "language_info": {
   "codemirror_mode": {
    "name": "ipython",
    "version": 3
   },
   "file_extension": ".py",
   "mimetype": "text/x-python",
   "name": "python",
   "nbconvert_exporter": "python",
   "pygments_lexer": "ipython3",
   "version": "3.6.5"
  },
  "toc": {
   "base_numbering": 1,
   "nav_menu": {},
   "number_sections": true,
   "sideBar": true,
   "skip_h1_title": false,
   "title_cell": "Table of Contents",
   "title_sidebar": "Contents",
   "toc_cell": false,
   "toc_position": {},
   "toc_section_display": true,
   "toc_window_display": false
  },
  "varInspector": {
   "cols": {
    "lenName": 16,
    "lenType": 16,
    "lenVar": 40
   },
   "kernels_config": {
    "python": {
     "delete_cmd_postfix": "",
     "delete_cmd_prefix": "del ",
     "library": "var_list.py",
     "varRefreshCmd": "print(var_dic_list())"
    },
    "r": {
     "delete_cmd_postfix": ") ",
     "delete_cmd_prefix": "rm(",
     "library": "var_list.r",
     "varRefreshCmd": "cat(var_dic_list()) "
    }
   },
   "types_to_exclude": [
    "module",
    "function",
    "builtin_function_or_method",
    "instance",
    "_Feature"
   ],
   "window_display": false
  }
 },
 "nbformat": 4,
 "nbformat_minor": 2
}
