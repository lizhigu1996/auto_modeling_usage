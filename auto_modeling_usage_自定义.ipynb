{
 "cells": [
  {
   "cell_type": "markdown",
   "metadata": {},
   "source": [
    "## 导入数据集\n",
    "此处输入 **建模数据和陪跑数据(如果没有陪跑则无需导入)**  \n",
    "1. **建模数据格式：**（需有TARGET(目前脚本只支持二分类模型,目标值为1,非目标值为0)、(DATE(格式为yyyy-mm-dd或yyyy-mm))以及变量X1、...、Xn） \n",
    "\n",
    "| TARGET | (DATE) | X1 | ... | Xn |\n",
    "|----|----|----|----|----|\n",
    "|1|2018-12(-10)|x11|...|x1n|\n",
    "|0|2018-12(-11)|x12|...|x2n|\n",
    "\n",
    "2. **陪跑数据格式：**（需有DATE(格式为yyyy-mm-dd或yyyy-mm)以及变量X1、...、Xn） \n",
    "\n",
    "| DATE | X1 | ... | Xn |\n",
    "|----|----|----|----|\n",
    "|2018-12(-10)|x11|...|x1n|\n",
    "|2018-12(-11)|x12|...|x2n|\n"
   ]
  },
  {
   "cell_type": "code",
   "execution_count": 6,
   "metadata": {
    "ExecuteTime": {
     "end_time": "2019-09-10T06:58:42.878357Z",
     "start_time": "2019-09-10T06:58:42.874357Z"
    }
   },
   "outputs": [],
   "source": [
    "import pandas as pd\n",
    "import numpy as np"
   ]
  },
  {
   "cell_type": "code",
   "execution_count": 7,
   "metadata": {
    "ExecuteTime": {
     "end_time": "2019-09-10T06:58:46.042538Z",
     "start_time": "2019-09-10T06:58:43.335385Z"
    }
   },
   "outputs": [
    {
     "data": {
      "text/html": [
       "<div>\n",
       "<style scoped>\n",
       "    .dataframe tbody tr th:only-of-type {\n",
       "        vertical-align: middle;\n",
       "    }\n",
       "\n",
       "    .dataframe tbody tr th {\n",
       "        vertical-align: top;\n",
       "    }\n",
       "\n",
       "    .dataframe thead th {\n",
       "        text-align: right;\n",
       "    }\n",
       "</style>\n",
       "<table border=\"1\" class=\"dataframe\">\n",
       "  <thead>\n",
       "    <tr style=\"text-align: right;\">\n",
       "      <th></th>\n",
       "      <th>SK_ID_CURR</th>\n",
       "      <th>TARGET</th>\n",
       "      <th>NAME_CONTRACT_TYPE</th>\n",
       "      <th>CODE_GENDER</th>\n",
       "      <th>FLAG_OWN_CAR</th>\n",
       "      <th>FLAG_OWN_REALTY</th>\n",
       "      <th>CNT_CHILDREN</th>\n",
       "      <th>AMT_INCOME_TOTAL</th>\n",
       "      <th>AMT_CREDIT</th>\n",
       "      <th>AMT_ANNUITY</th>\n",
       "      <th>...</th>\n",
       "      <th>FLAG_DOCUMENT_19</th>\n",
       "      <th>FLAG_DOCUMENT_20</th>\n",
       "      <th>FLAG_DOCUMENT_21</th>\n",
       "      <th>AMT_REQ_CREDIT_BUREAU_HOUR</th>\n",
       "      <th>AMT_REQ_CREDIT_BUREAU_DAY</th>\n",
       "      <th>AMT_REQ_CREDIT_BUREAU_WEEK</th>\n",
       "      <th>AMT_REQ_CREDIT_BUREAU_MON</th>\n",
       "      <th>AMT_REQ_CREDIT_BUREAU_QRT</th>\n",
       "      <th>AMT_REQ_CREDIT_BUREAU_YEAR</th>\n",
       "      <th>DATE</th>\n",
       "    </tr>\n",
       "  </thead>\n",
       "  <tbody>\n",
       "    <tr>\n",
       "      <th>0</th>\n",
       "      <td>145457</td>\n",
       "      <td>0</td>\n",
       "      <td>Cash loans</td>\n",
       "      <td>M</td>\n",
       "      <td>Y</td>\n",
       "      <td>N</td>\n",
       "      <td>0</td>\n",
       "      <td>288000.0</td>\n",
       "      <td>242595.0</td>\n",
       "      <td>10813.5</td>\n",
       "      <td>...</td>\n",
       "      <td>0</td>\n",
       "      <td>0</td>\n",
       "      <td>0</td>\n",
       "      <td>0.0</td>\n",
       "      <td>0.0</td>\n",
       "      <td>0.0</td>\n",
       "      <td>0.0</td>\n",
       "      <td>0.0</td>\n",
       "      <td>2.0</td>\n",
       "      <td>2018-05</td>\n",
       "    </tr>\n",
       "    <tr>\n",
       "      <th>1</th>\n",
       "      <td>128979</td>\n",
       "      <td>0</td>\n",
       "      <td>Cash loans</td>\n",
       "      <td>F</td>\n",
       "      <td>N</td>\n",
       "      <td>N</td>\n",
       "      <td>0</td>\n",
       "      <td>94500.0</td>\n",
       "      <td>646920.0</td>\n",
       "      <td>20866.5</td>\n",
       "      <td>...</td>\n",
       "      <td>0</td>\n",
       "      <td>0</td>\n",
       "      <td>0</td>\n",
       "      <td>0.0</td>\n",
       "      <td>0.0</td>\n",
       "      <td>0.0</td>\n",
       "      <td>0.0</td>\n",
       "      <td>0.0</td>\n",
       "      <td>3.0</td>\n",
       "      <td>2018-05</td>\n",
       "    </tr>\n",
       "    <tr>\n",
       "      <th>2</th>\n",
       "      <td>145448</td>\n",
       "      <td>0</td>\n",
       "      <td>Cash loans</td>\n",
       "      <td>M</td>\n",
       "      <td>Y</td>\n",
       "      <td>Y</td>\n",
       "      <td>1</td>\n",
       "      <td>225000.0</td>\n",
       "      <td>183294.0</td>\n",
       "      <td>14823.0</td>\n",
       "      <td>...</td>\n",
       "      <td>0</td>\n",
       "      <td>0</td>\n",
       "      <td>0</td>\n",
       "      <td>0.0</td>\n",
       "      <td>0.0</td>\n",
       "      <td>0.0</td>\n",
       "      <td>0.0</td>\n",
       "      <td>0.0</td>\n",
       "      <td>5.0</td>\n",
       "      <td>2018-03</td>\n",
       "    </tr>\n",
       "    <tr>\n",
       "      <th>3</th>\n",
       "      <td>294475</td>\n",
       "      <td>0</td>\n",
       "      <td>Cash loans</td>\n",
       "      <td>M</td>\n",
       "      <td>Y</td>\n",
       "      <td>N</td>\n",
       "      <td>0</td>\n",
       "      <td>180000.0</td>\n",
       "      <td>260640.0</td>\n",
       "      <td>20169.0</td>\n",
       "      <td>...</td>\n",
       "      <td>0</td>\n",
       "      <td>0</td>\n",
       "      <td>0</td>\n",
       "      <td>0.0</td>\n",
       "      <td>0.0</td>\n",
       "      <td>0.0</td>\n",
       "      <td>1.0</td>\n",
       "      <td>0.0</td>\n",
       "      <td>1.0</td>\n",
       "      <td>2018-04</td>\n",
       "    </tr>\n",
       "    <tr>\n",
       "      <th>4</th>\n",
       "      <td>216609</td>\n",
       "      <td>0</td>\n",
       "      <td>Revolving loans</td>\n",
       "      <td>M</td>\n",
       "      <td>Y</td>\n",
       "      <td>Y</td>\n",
       "      <td>1</td>\n",
       "      <td>112500.0</td>\n",
       "      <td>180000.0</td>\n",
       "      <td>9000.0</td>\n",
       "      <td>...</td>\n",
       "      <td>0</td>\n",
       "      <td>0</td>\n",
       "      <td>0</td>\n",
       "      <td>0.0</td>\n",
       "      <td>0.0</td>\n",
       "      <td>1.0</td>\n",
       "      <td>0.0</td>\n",
       "      <td>0.0</td>\n",
       "      <td>0.0</td>\n",
       "      <td>2018-03</td>\n",
       "    </tr>\n",
       "  </tbody>\n",
       "</table>\n",
       "<p>5 rows × 123 columns</p>\n",
       "</div>"
      ],
      "text/plain": [
       "   SK_ID_CURR  TARGET NAME_CONTRACT_TYPE CODE_GENDER FLAG_OWN_CAR  \\\n",
       "0      145457       0         Cash loans           M            Y   \n",
       "1      128979       0         Cash loans           F            N   \n",
       "2      145448       0         Cash loans           M            Y   \n",
       "3      294475       0         Cash loans           M            Y   \n",
       "4      216609       0    Revolving loans           M            Y   \n",
       "\n",
       "  FLAG_OWN_REALTY  CNT_CHILDREN  AMT_INCOME_TOTAL  AMT_CREDIT  AMT_ANNUITY  \\\n",
       "0               N             0          288000.0    242595.0      10813.5   \n",
       "1               N             0           94500.0    646920.0      20866.5   \n",
       "2               Y             1          225000.0    183294.0      14823.0   \n",
       "3               N             0          180000.0    260640.0      20169.0   \n",
       "4               Y             1          112500.0    180000.0       9000.0   \n",
       "\n",
       "   ...  FLAG_DOCUMENT_19 FLAG_DOCUMENT_20 FLAG_DOCUMENT_21  \\\n",
       "0  ...                 0                0                0   \n",
       "1  ...                 0                0                0   \n",
       "2  ...                 0                0                0   \n",
       "3  ...                 0                0                0   \n",
       "4  ...                 0                0                0   \n",
       "\n",
       "  AMT_REQ_CREDIT_BUREAU_HOUR AMT_REQ_CREDIT_BUREAU_DAY  \\\n",
       "0                        0.0                       0.0   \n",
       "1                        0.0                       0.0   \n",
       "2                        0.0                       0.0   \n",
       "3                        0.0                       0.0   \n",
       "4                        0.0                       0.0   \n",
       "\n",
       "  AMT_REQ_CREDIT_BUREAU_WEEK  AMT_REQ_CREDIT_BUREAU_MON  \\\n",
       "0                        0.0                        0.0   \n",
       "1                        0.0                        0.0   \n",
       "2                        0.0                        0.0   \n",
       "3                        0.0                        1.0   \n",
       "4                        1.0                        0.0   \n",
       "\n",
       "   AMT_REQ_CREDIT_BUREAU_QRT  AMT_REQ_CREDIT_BUREAU_YEAR     DATE  \n",
       "0                        0.0                         2.0  2018-05  \n",
       "1                        0.0                         3.0  2018-05  \n",
       "2                        0.0                         5.0  2018-03  \n",
       "3                        0.0                         1.0  2018-04  \n",
       "4                        0.0                         0.0  2018-03  \n",
       "\n",
       "[5 rows x 123 columns]"
      ]
     },
     "execution_count": 7,
     "metadata": {},
     "output_type": "execute_result"
    }
   ],
   "source": [
    "with open(r'./usage/data/application_train.csv') as data:\n",
    "    data = pd.read_csv(data, low_memory=False)\n",
    "data.columns = [x.upper() for x in data.columns]\n",
    "\n",
    "data.head()"
   ]
  },
  {
   "cell_type": "code",
   "execution_count": 8,
   "metadata": {
    "ExecuteTime": {
     "end_time": "2019-09-10T06:58:48.257673Z",
     "start_time": "2019-09-10T06:58:46.349565Z"
    }
   },
   "outputs": [
    {
     "data": {
      "text/html": [
       "<div>\n",
       "<style scoped>\n",
       "    .dataframe tbody tr th:only-of-type {\n",
       "        vertical-align: middle;\n",
       "    }\n",
       "\n",
       "    .dataframe tbody tr th {\n",
       "        vertical-align: top;\n",
       "    }\n",
       "\n",
       "    .dataframe thead th {\n",
       "        text-align: right;\n",
       "    }\n",
       "</style>\n",
       "<table border=\"1\" class=\"dataframe\">\n",
       "  <thead>\n",
       "    <tr style=\"text-align: right;\">\n",
       "      <th></th>\n",
       "      <th>SK_ID_CURR</th>\n",
       "      <th>NAME_CONTRACT_TYPE</th>\n",
       "      <th>CODE_GENDER</th>\n",
       "      <th>FLAG_OWN_CAR</th>\n",
       "      <th>FLAG_OWN_REALTY</th>\n",
       "      <th>CNT_CHILDREN</th>\n",
       "      <th>AMT_INCOME_TOTAL</th>\n",
       "      <th>AMT_CREDIT</th>\n",
       "      <th>AMT_ANNUITY</th>\n",
       "      <th>AMT_GOODS_PRICE</th>\n",
       "      <th>...</th>\n",
       "      <th>FLAG_DOCUMENT_19</th>\n",
       "      <th>FLAG_DOCUMENT_20</th>\n",
       "      <th>FLAG_DOCUMENT_21</th>\n",
       "      <th>AMT_REQ_CREDIT_BUREAU_HOUR</th>\n",
       "      <th>AMT_REQ_CREDIT_BUREAU_DAY</th>\n",
       "      <th>AMT_REQ_CREDIT_BUREAU_WEEK</th>\n",
       "      <th>AMT_REQ_CREDIT_BUREAU_MON</th>\n",
       "      <th>AMT_REQ_CREDIT_BUREAU_QRT</th>\n",
       "      <th>AMT_REQ_CREDIT_BUREAU_YEAR</th>\n",
       "      <th>DATE</th>\n",
       "    </tr>\n",
       "  </thead>\n",
       "  <tbody>\n",
       "    <tr>\n",
       "      <th>0</th>\n",
       "      <td>100001</td>\n",
       "      <td>Cash loans</td>\n",
       "      <td>F</td>\n",
       "      <td>N</td>\n",
       "      <td>Y</td>\n",
       "      <td>0</td>\n",
       "      <td>135000.0</td>\n",
       "      <td>568800.0</td>\n",
       "      <td>20560.5</td>\n",
       "      <td>450000.0</td>\n",
       "      <td>...</td>\n",
       "      <td>0</td>\n",
       "      <td>0</td>\n",
       "      <td>0</td>\n",
       "      <td>0.0</td>\n",
       "      <td>0.0</td>\n",
       "      <td>0.0</td>\n",
       "      <td>0.0</td>\n",
       "      <td>0.0</td>\n",
       "      <td>0.0</td>\n",
       "      <td>2018-06</td>\n",
       "    </tr>\n",
       "    <tr>\n",
       "      <th>1</th>\n",
       "      <td>100005</td>\n",
       "      <td>Cash loans</td>\n",
       "      <td>M</td>\n",
       "      <td>N</td>\n",
       "      <td>Y</td>\n",
       "      <td>0</td>\n",
       "      <td>99000.0</td>\n",
       "      <td>222768.0</td>\n",
       "      <td>17370.0</td>\n",
       "      <td>180000.0</td>\n",
       "      <td>...</td>\n",
       "      <td>0</td>\n",
       "      <td>0</td>\n",
       "      <td>0</td>\n",
       "      <td>0.0</td>\n",
       "      <td>0.0</td>\n",
       "      <td>0.0</td>\n",
       "      <td>0.0</td>\n",
       "      <td>0.0</td>\n",
       "      <td>3.0</td>\n",
       "      <td>2018-11</td>\n",
       "    </tr>\n",
       "    <tr>\n",
       "      <th>2</th>\n",
       "      <td>100013</td>\n",
       "      <td>Cash loans</td>\n",
       "      <td>M</td>\n",
       "      <td>Y</td>\n",
       "      <td>Y</td>\n",
       "      <td>0</td>\n",
       "      <td>202500.0</td>\n",
       "      <td>663264.0</td>\n",
       "      <td>69777.0</td>\n",
       "      <td>630000.0</td>\n",
       "      <td>...</td>\n",
       "      <td>0</td>\n",
       "      <td>0</td>\n",
       "      <td>0</td>\n",
       "      <td>0.0</td>\n",
       "      <td>0.0</td>\n",
       "      <td>0.0</td>\n",
       "      <td>0.0</td>\n",
       "      <td>1.0</td>\n",
       "      <td>4.0</td>\n",
       "      <td>2018-09</td>\n",
       "    </tr>\n",
       "    <tr>\n",
       "      <th>3</th>\n",
       "      <td>100028</td>\n",
       "      <td>Cash loans</td>\n",
       "      <td>F</td>\n",
       "      <td>N</td>\n",
       "      <td>Y</td>\n",
       "      <td>2</td>\n",
       "      <td>315000.0</td>\n",
       "      <td>1575000.0</td>\n",
       "      <td>49018.5</td>\n",
       "      <td>1575000.0</td>\n",
       "      <td>...</td>\n",
       "      <td>0</td>\n",
       "      <td>0</td>\n",
       "      <td>0</td>\n",
       "      <td>0.0</td>\n",
       "      <td>0.0</td>\n",
       "      <td>0.0</td>\n",
       "      <td>0.0</td>\n",
       "      <td>0.0</td>\n",
       "      <td>3.0</td>\n",
       "      <td>2018-06</td>\n",
       "    </tr>\n",
       "    <tr>\n",
       "      <th>4</th>\n",
       "      <td>100038</td>\n",
       "      <td>Cash loans</td>\n",
       "      <td>M</td>\n",
       "      <td>Y</td>\n",
       "      <td>N</td>\n",
       "      <td>1</td>\n",
       "      <td>180000.0</td>\n",
       "      <td>625500.0</td>\n",
       "      <td>32067.0</td>\n",
       "      <td>625500.0</td>\n",
       "      <td>...</td>\n",
       "      <td>0</td>\n",
       "      <td>0</td>\n",
       "      <td>0</td>\n",
       "      <td>NaN</td>\n",
       "      <td>NaN</td>\n",
       "      <td>NaN</td>\n",
       "      <td>NaN</td>\n",
       "      <td>NaN</td>\n",
       "      <td>NaN</td>\n",
       "      <td>2018-08</td>\n",
       "    </tr>\n",
       "  </tbody>\n",
       "</table>\n",
       "<p>5 rows × 122 columns</p>\n",
       "</div>"
      ],
      "text/plain": [
       "   SK_ID_CURR NAME_CONTRACT_TYPE CODE_GENDER FLAG_OWN_CAR FLAG_OWN_REALTY  \\\n",
       "0      100001         Cash loans           F            N               Y   \n",
       "1      100005         Cash loans           M            N               Y   \n",
       "2      100013         Cash loans           M            Y               Y   \n",
       "3      100028         Cash loans           F            N               Y   \n",
       "4      100038         Cash loans           M            Y               N   \n",
       "\n",
       "   CNT_CHILDREN  AMT_INCOME_TOTAL  AMT_CREDIT  AMT_ANNUITY  AMT_GOODS_PRICE  \\\n",
       "0             0          135000.0    568800.0      20560.5         450000.0   \n",
       "1             0           99000.0    222768.0      17370.0         180000.0   \n",
       "2             0          202500.0    663264.0      69777.0         630000.0   \n",
       "3             2          315000.0   1575000.0      49018.5        1575000.0   \n",
       "4             1          180000.0    625500.0      32067.0         625500.0   \n",
       "\n",
       "   ... FLAG_DOCUMENT_19 FLAG_DOCUMENT_20 FLAG_DOCUMENT_21  \\\n",
       "0  ...                0                0                0   \n",
       "1  ...                0                0                0   \n",
       "2  ...                0                0                0   \n",
       "3  ...                0                0                0   \n",
       "4  ...                0                0                0   \n",
       "\n",
       "  AMT_REQ_CREDIT_BUREAU_HOUR AMT_REQ_CREDIT_BUREAU_DAY  \\\n",
       "0                        0.0                       0.0   \n",
       "1                        0.0                       0.0   \n",
       "2                        0.0                       0.0   \n",
       "3                        0.0                       0.0   \n",
       "4                        NaN                       NaN   \n",
       "\n",
       "   AMT_REQ_CREDIT_BUREAU_WEEK  AMT_REQ_CREDIT_BUREAU_MON  \\\n",
       "0                         0.0                        0.0   \n",
       "1                         0.0                        0.0   \n",
       "2                         0.0                        0.0   \n",
       "3                         0.0                        0.0   \n",
       "4                         NaN                        NaN   \n",
       "\n",
       "   AMT_REQ_CREDIT_BUREAU_QRT  AMT_REQ_CREDIT_BUREAU_YEAR     DATE  \n",
       "0                        0.0                         0.0  2018-06  \n",
       "1                        0.0                         3.0  2018-11  \n",
       "2                        1.0                         4.0  2018-09  \n",
       "3                        0.0                         3.0  2018-06  \n",
       "4                        NaN                         NaN  2018-08  \n",
       "\n",
       "[5 rows x 122 columns]"
      ]
     },
     "execution_count": 8,
     "metadata": {},
     "output_type": "execute_result"
    }
   ],
   "source": [
    "with open(r'./usage/data/application_pp.csv') as pp_data:\n",
    "    pp_data = pd.read_csv(pp_data, low_memory=False)\n",
    "pp_data.columns = [x.upper() for x in pp_data.columns]\n",
    "\n",
    "pp_data.head()"
   ]
  },
  {
   "cell_type": "markdown",
   "metadata": {},
   "source": [
    "## auto_modeling: 自动化建模脚本\n",
    "\n",
    "输入规定格式数据集,可全自动化或半自动化建模\n",
    "\n",
    "### 方法\n",
    "\n",
    "建模流程主要通过以下几种方法完成:\n",
    "\n",
    "1. 数据集划分\n",
    "2. 特征筛选\n",
    "3. 超参数优化\n",
    "4. 可视化结果报表\n",
    "\n",
    "### 用法\n",
    "\n",
    "参考auto\\_modeling\\_usage\\_自定义.ipynb和auto\\_modeling\\_usage\\_全自动.ipynb了解如何使用\n",
    " \n",
    "\n",
    "\n",
    "### 依赖\n",
    "\n",
    "* numpy = 1.16.2\n",
    "* pandas = 0.24.2\n",
    "* scikit-learn = 0.20.3\n",
    "* scipy = 1.2.1\n",
    "* matplotlib = 3.0.3\n",
    "* seaborn = 0.9.0\n",
    "* warnings\n",
    "* time\n",
    "* gc\n",
    "* lightgbm = 2.2.3\n",
    "* xgboost = 0.82\n",
    "* sklearn_pandas = 1.8.0\n",
    "* sklearn2pmml = 0.43.0\n",
    "* hyperopt = 0.1.2 (可使用贝叶斯优化的tpe算法和随机搜索优化超参数,官方文档:[hyperopt](https://github.com/hyperopt/hyperopt))\n",
    "* bayesian-optimization = 1.0.1 (可使用贝叶斯的高斯过程算法优化超参数,官方文档:[Bayesian Optimization](https://github.com/fmfn/BayesianOptimization))\n",
    "* plotly = 3.7.1 (生成交互式可视化报表,官方文档:[plotly](https://plot.ly/python/))\n",
    "* shap = 0.28.5 (解释机器学习模型,官方文档:[shap](https://github.com/slundberg/shap))\n",
    "* codecs\n",
    "* os\n",
    "* sys\n",
    "* webbrowser\n",
    "\n",
    "\n",
    "### 结构\n",
    "\n",
    "> ### auto_modeling\n",
    "> * \\_\\_init\\_\\_.py\n",
    "> * data\\_split.py\n",
    ">     > data\\_split -- 数据集划分\n",
    "> * feature\\_select.py\n",
    ">     > feature\\_select -- 特征选择\n",
    "> * para\\_optimize.py\n",
    ">     > para\\_optimize -- 超参数优化\n",
    "> * result\\_report.py\n",
    ">     > result\\_report -- 可视化结果报表\n",
    "> * other\\_function.py\n",
    ">     > get\\_coltype\\_datalist -- 处理数据集、区分变量类型\n",
    ">     \n",
    ">     > get\\_mapper -- 封装变量处理方法\n",
    ">     \n",
    ">     > get\\_learning\\_curve -- 绘制学习曲线\n",
    ">     \n",
    ">     > get\\_bset\\_para\\_model -- 选择模型并建立\n",
    ">     \n",
    ">     > get\\_pp\\_data\\_trans -- 处理陪跑数据集\n",
    ">     \n",
    ">     > get\\_group\\_final -- 按照正态分布分组的方案\n",
    ">\n",
    ">     > get\\_result\\_table -- 各组/各等分情况\n",
    ">     \n",
    ">     > get\\_group\\_score -- 各组预测结果阈值\n",
    ">     \n",
    ">     > get\\_model\\_file -- 输出模型文件\n",
    ">\n",
    ">     > get\\_index\\_values -- 计算各指标值\n",
    "> \n",
    ">     > get\\_data\\_trans -- 处理其他数据集\n",
    "> \n",
    ">     > read\\_model\\_pkl -- 读取pkl文件\n",
    "> \n",
    ">     > modifying\\_pmml -- 修改pmml文件\n",
    "> \n",
    ">     > get\\_model\\_explain -- 回溯模型解释器\n",
    "> \n",
    ">     > get\\_predict\\_explain -- 获取单样本预测值解释\n",
    ">\n",
    ">     > get\\_model\\_predict -- 获取模型预测结果(pipeline、pkl文件、pmml文件)\n",
    "> * full\\_automatic.py\n",
    ">     > full\\_automatic\\_simplet -- 简单模式全自动建模\n",
    ">     \n",
    ">     > full\\_automatic\\_complete -- 完整模式全自动建模"
   ]
  },
  {
   "cell_type": "code",
   "execution_count": 9,
   "metadata": {
    "ExecuteTime": {
     "end_time": "2019-09-10T06:58:48.564682Z",
     "start_time": "2019-09-10T06:58:48.559687Z"
    }
   },
   "outputs": [],
   "source": [
    "import auto_modeling as am"
   ]
  },
  {
   "cell_type": "markdown",
   "metadata": {},
   "source": [
    "## 数据集划分"
   ]
  },
  {
   "cell_type": "code",
   "execution_count": 10,
   "metadata": {
    "ExecuteTime": {
     "end_time": "2019-09-10T06:58:48.879698Z",
     "start_time": "2019-09-10T06:58:48.845698Z"
    }
   },
   "outputs": [
    {
     "name": "stdout",
     "output_type": "stream",
     "text": [
      ">> Error:建模数据量太少,无法建模,请增加样本量\n"
     ]
    }
   ],
   "source": [
    "# 样本量小于500时自动划分\n",
    "X_train, Y_train, X_test, Y_test, X_time_test, Y_time_test = am.data_split(data=data.sample(n=400, random_state=1234), \n",
    "                                                                           test_size=0.3, time_test_type=True)"
   ]
  },
  {
   "cell_type": "code",
   "execution_count": 11,
   "metadata": {
    "ExecuteTime": {
     "end_time": "2019-09-10T06:58:49.303727Z",
     "start_time": "2019-09-10T06:58:49.045711Z"
    }
   },
   "outputs": [
    {
     "name": "stdout",
     "output_type": "stream",
     "text": [
      ">> 数据集自动划分成功,数据量不足以划分跨时间测试集\n",
      ">> 训练集样本数: 4165\n",
      ">> 测试集样本数: 1785\n",
      ">> 训练集目标情况如下:\n",
      "   训练集TARGET为 0 的数量: 3809  占比: 91.45%\n",
      "   训练集TARGET为 1 的数量: 356  占比: 8.55%\n"
     ]
    }
   ],
   "source": [
    "# 样本量小于10000时自动划分\n",
    "X_train, Y_train, X_test, Y_test, X_time_test, Y_time_test = am.data_split(data=data.sample(n=5950, random_state=1234), \n",
    "                                                                           test_size=0.3, time_test_type=True)"
   ]
  },
  {
   "cell_type": "code",
   "execution_count": 12,
   "metadata": {
    "ExecuteTime": {
     "end_time": "2019-09-10T06:58:50.045773Z",
     "start_time": "2019-09-10T06:58:49.598746Z"
    }
   },
   "outputs": [
    {
     "name": "stdout",
     "output_type": "stream",
     "text": [
      ">> 数据集自动划分成功,按时间升序,后3000样本作为跨时间测试集\n",
      ">> 训练集样本数: 6304\n",
      ">> 测试集样本数: 2702\n",
      ">> 跨时间测试集样本数: 5994\n",
      ">> 训练集目标情况如下:\n",
      "   训练集TARGET为 0 的数量: 5768  占比: 91.50%\n",
      "   训练集TARGET为 1 的数量: 536  占比: 8.50%\n"
     ]
    }
   ],
   "source": [
    "# 样本量小于20000时自动划分\n",
    "X_train, Y_train, X_test, Y_test, X_time_test, Y_time_test = am.data_split(data=data.sample(n=15000, random_state=1234), \n",
    "                                                                           test_size=0.3, time_test_type=True)"
   ]
  },
  {
   "cell_type": "code",
   "execution_count": 13,
   "metadata": {
    "ExecuteTime": {
     "end_time": "2019-09-10T06:58:51.589858Z",
     "start_time": "2019-09-10T06:58:50.407794Z"
    }
   },
   "outputs": [
    {
     "name": "stdout",
     "output_type": "stream",
     "text": [
      ">> 数据集自动划分成功,按时间升序,后50%样本作为跨时间测试集\n",
      ">> 训练集样本数: 17122\n",
      ">> 测试集样本数: 7339\n",
      ">> 跨时间测试集样本数: 37041\n",
      ">> 训练集目标情况如下:\n",
      "   训练集TARGET为 0 的数量: 15744  占比: 91.95%\n",
      "   训练集TARGET为 1 的数量: 1378  占比: 8.05%\n"
     ]
    }
   ],
   "source": [
    "# 样本量大于20000时自动划分\n",
    "X_train, Y_train, X_test, Y_test, X_time_test, Y_time_test= am.data_split(data=data, test_size=0.3, time_test_type=True)"
   ]
  },
  {
   "cell_type": "code",
   "execution_count": 14,
   "metadata": {
    "ExecuteTime": {
     "end_time": "2019-09-10T06:58:53.199945Z",
     "start_time": "2019-09-10T06:58:51.972879Z"
    }
   },
   "outputs": [
    {
     "name": "stdout",
     "output_type": "stream",
     "text": [
      ">> 数据集划分成功,时间大于2018-03的样本作为跨时间测试集\n",
      ">> 训练集样本数: 25777\n",
      ">> 测试集样本数: 11048\n",
      ">> 跨时间测试集样本数: 24677\n",
      ">> 训练集目标情况如下:\n",
      "   训练集TARGET为 0 的数量: 23735  占比: 92.08%\n",
      "   训练集TARGET为 1 的数量: 2042  占比: 7.92%\n"
     ]
    }
   ],
   "source": [
    "# 自己设置按照时间划分跨时间测试\n",
    "X_train, Y_train, X_test, Y_test, X_time_test, Y_time_test = am.data_split(data=data, test_size=0.3, time_test_type='2018-03')"
   ]
  },
  {
   "cell_type": "code",
   "execution_count": 15,
   "metadata": {
    "ExecuteTime": {
     "end_time": "2019-09-10T06:58:54.912049Z",
     "start_time": "2019-09-10T06:58:53.582979Z"
    }
   },
   "outputs": [
    {
     "name": "stdout",
     "output_type": "stream",
     "text": [
      ">> 数据集划分成功\n",
      ">> 训练集样本数: 43051\n",
      ">> 测试集样本数: 18451\n",
      ">> 跨时间测试集样本数: 61502\n",
      ">> 训练集目标情况如下:\n",
      "   训练集TARGET为 0 的数量: 39583  占比: 91.94%\n",
      "   训练集TARGET为 1 的数量: 3468  占比: 8.06%\n"
     ]
    }
   ],
   "source": [
    "# 自己参入跨时间测试集\n",
    "X_train, Y_train, X_test, Y_test, X_time_test, Y_time_test = am.data_split(data=data, test_size=0.3, time_test_type=data)"
   ]
  },
  {
   "cell_type": "code",
   "execution_count": 16,
   "metadata": {
    "ExecuteTime": {
     "end_time": "2019-09-10T06:58:56.756155Z",
     "start_time": "2019-09-10T06:58:55.378081Z"
    }
   },
   "outputs": [
    {
     "name": "stdout",
     "output_type": "stream",
     "text": [
      ">> 数据集划分成功,无跨时间测试集\n",
      ">> 训练集样本数: 43051\n",
      ">> 测试集样本数: 18451\n",
      ">> 训练集目标情况如下:\n",
      "   训练集TARGET为 0 的数量: 39583  占比: 91.94%\n",
      "   训练集TARGET为 1 的数量: 3468  占比: 8.06%\n"
     ]
    }
   ],
   "source": [
    "# 不划分跨时间测试集\n",
    "X_train, Y_train, X_test, Y_test, X_time_test, Y_time_test = am.data_split(data=data, test_size=0.3, time_test_type=False)"
   ]
  },
  {
   "cell_type": "code",
   "execution_count": 17,
   "metadata": {
    "ExecuteTime": {
     "end_time": "2019-09-10T06:58:58.352240Z",
     "start_time": "2019-09-10T06:58:57.118173Z"
    }
   },
   "outputs": [
    {
     "name": "stdout",
     "output_type": "stream",
     "text": [
      ">> 数据集自动划分成功,按时间升序,后50%样本作为跨时间测试集\n",
      ">> 训练集样本数: 24461\n",
      ">> 跨时间测试集样本数: 37041\n",
      ">> 训练集目标情况如下:\n",
      "   训练集TARGET为 0 的数量: 22507  占比: 92.01%\n",
      "   训练集TARGET为 1 的数量: 1954  占比: 7.99%\n"
     ]
    }
   ],
   "source": [
    "# 不划分测试集,即将test_size设置为0\n",
    "X_train, Y_train, X_test, Y_test, X_time_test, Y_time_test = am.data_split(data=data, test_size=0, time_test_type=True)"
   ]
  },
  {
   "cell_type": "code",
   "execution_count": 18,
   "metadata": {
    "ExecuteTime": {
     "end_time": "2019-09-10T06:58:59.891328Z",
     "start_time": "2019-09-10T06:58:58.678264Z"
    }
   },
   "outputs": [
    {
     "name": "stdout",
     "output_type": "stream",
     "text": [
      ">> 数据集自动划分成功,按时间升序,后50%样本作为跨时间测试集\n",
      ">> 训练集样本数: 17122\n",
      ">> 测试集样本数: 7339\n",
      ">> 跨时间测试集样本数: 37041\n",
      ">> 训练集目标情况如下:\n",
      "   训练集TARGET为 0 的数量: 15744  占比: 91.95%\n",
      "   训练集TARGET为 1 的数量: 1378  占比: 8.05%\n"
     ]
    }
   ],
   "source": [
    "# 本usage统一用自动划分数据集作为后面的演示\n",
    "X_train, Y_train, X_test, Y_test, X_time_test, Y_time_test = am.data_split(data=data, test_size=0.3, time_test_type=True)"
   ]
  },
  {
   "cell_type": "markdown",
   "metadata": {},
   "source": [
    "## 特征选择"
   ]
  },
  {
   "cell_type": "code",
   "execution_count": 19,
   "metadata": {
    "ExecuteTime": {
     "end_time": "2019-09-10T06:59:02.775503Z",
     "start_time": "2019-09-10T06:59:00.272360Z"
    }
   },
   "outputs": [
    {
     "name": "stdout",
     "output_type": "stream",
     "text": [
      ">> 根据缺失率删除 0 个变量\n",
      ">> 根据同质性删除 4 个变量\n",
      ">> 根据最大计数类别删除 0 个变量\n",
      ">> 根据相关性删除 0 个变量\n",
      ">> 经过特征筛选,最终保留 117 个变量\n",
      ">> 具体保留变量如下:\n",
      "   ['AMT_ANNUITY', 'AMT_CREDIT', 'AMT_GOODS_PRICE', 'AMT_INCOME_TOTAL', 'AMT_REQ_CREDIT_BUREAU_DAY', 'AMT_REQ_CREDIT_BUREAU_HOUR', 'AMT_REQ_CREDIT_BUREAU_MON', 'AMT_REQ_CREDIT_BUREAU_QRT', 'AMT_REQ_CREDIT_BUREAU_WEEK', 'AMT_REQ_CREDIT_BUREAU_YEAR', 'APARTMENTS_AVG', 'APARTMENTS_MEDI', 'APARTMENTS_MODE', 'BASEMENTAREA_AVG', 'BASEMENTAREA_MEDI', 'BASEMENTAREA_MODE', 'CNT_CHILDREN', 'CNT_FAM_MEMBERS', 'CODE_GENDER', 'COMMONAREA_AVG', 'COMMONAREA_MEDI', 'COMMONAREA_MODE', 'DAYS_BIRTH', 'DAYS_EMPLOYED', 'DAYS_ID_PUBLISH', 'DAYS_LAST_PHONE_CHANGE', 'DAYS_REGISTRATION', 'DEF_30_CNT_SOCIAL_CIRCLE', 'DEF_60_CNT_SOCIAL_CIRCLE', 'ELEVATORS_AVG', 'ELEVATORS_MEDI', 'ELEVATORS_MODE', 'EMERGENCYSTATE_MODE', 'ENTRANCES_AVG', 'ENTRANCES_MEDI', 'ENTRANCES_MODE', 'EXT_SOURCE_1', 'EXT_SOURCE_2', 'EXT_SOURCE_3', 'FLAG_CONT_MOBILE', 'FLAG_DOCUMENT_11', 'FLAG_DOCUMENT_13', 'FLAG_DOCUMENT_14', 'FLAG_DOCUMENT_15', 'FLAG_DOCUMENT_16', 'FLAG_DOCUMENT_17', 'FLAG_DOCUMENT_18', 'FLAG_DOCUMENT_19', 'FLAG_DOCUMENT_20', 'FLAG_DOCUMENT_21', 'FLAG_DOCUMENT_3', 'FLAG_DOCUMENT_4', 'FLAG_DOCUMENT_5', 'FLAG_DOCUMENT_6', 'FLAG_DOCUMENT_7', 'FLAG_DOCUMENT_8', 'FLAG_DOCUMENT_9', 'FLAG_EMAIL', 'FLAG_EMP_PHONE', 'FLAG_OWN_CAR', 'FLAG_OWN_REALTY', 'FLAG_PHONE', 'FLAG_WORK_PHONE', 'FLOORSMAX_AVG', 'FLOORSMAX_MEDI', 'FLOORSMAX_MODE', 'FLOORSMIN_AVG', 'FLOORSMIN_MEDI', 'FLOORSMIN_MODE', 'FONDKAPREMONT_MODE', 'HOUR_APPR_PROCESS_START', 'HOUSETYPE_MODE', 'LANDAREA_AVG', 'LANDAREA_MEDI', 'LANDAREA_MODE', 'LIVE_CITY_NOT_WORK_CITY', 'LIVE_REGION_NOT_WORK_REGION', 'LIVINGAPARTMENTS_AVG', 'LIVINGAPARTMENTS_MEDI', 'LIVINGAPARTMENTS_MODE', 'LIVINGAREA_AVG', 'LIVINGAREA_MEDI', 'LIVINGAREA_MODE', 'NAME_CONTRACT_TYPE', 'NAME_EDUCATION_TYPE', 'NAME_FAMILY_STATUS', 'NAME_HOUSING_TYPE', 'NAME_INCOME_TYPE', 'NAME_TYPE_SUITE', 'NONLIVINGAPARTMENTS_AVG', 'NONLIVINGAPARTMENTS_MEDI', 'NONLIVINGAPARTMENTS_MODE', 'NONLIVINGAREA_AVG', 'NONLIVINGAREA_MEDI', 'NONLIVINGAREA_MODE', 'OBS_30_CNT_SOCIAL_CIRCLE', 'OBS_60_CNT_SOCIAL_CIRCLE', 'OCCUPATION_TYPE', 'ORGANIZATION_TYPE', 'OWN_CAR_AGE', 'REGION_POPULATION_RELATIVE', 'REGION_RATING_CLIENT', 'REGION_RATING_CLIENT_W_CITY', 'REG_CITY_NOT_LIVE_CITY', 'REG_CITY_NOT_WORK_CITY', 'REG_REGION_NOT_LIVE_REGION', 'REG_REGION_NOT_WORK_REGION', 'SK_ID_CURR', 'TOTALAREA_MODE', 'WALLSMATERIAL_MODE', 'WEEKDAY_APPR_PROCESS_START', 'YEARS_BEGINEXPLUATATION_AVG', 'YEARS_BEGINEXPLUATATION_MEDI', 'YEARS_BEGINEXPLUATATION_MODE', 'YEARS_BUILD_AVG', 'YEARS_BUILD_MEDI', 'YEARS_BUILD_MODE']\n"
     ]
    }
   ],
   "source": [
    "# 不根据特征重要度筛选，此时cols_number无作用\n",
    "# 其他参数默认\n",
    "keep_cols, keep_cols_dict, remove_cols_info = am.feature_select(X_train, Y_train, missing=0.8, homogeny=1, category=1, \n",
    "                                                                category_miss=False, collinear=1, feature_importance=False)"
   ]
  },
  {
   "cell_type": "code",
   "execution_count": 20,
   "metadata": {
    "ExecuteTime": {
     "end_time": "2019-09-10T07:03:10.980364Z",
     "start_time": "2019-09-10T06:59:03.119519Z"
    }
   },
   "outputs": [
    {
     "name": "stdout",
     "output_type": "stream",
     "text": [
      ">> 根据缺失率删除 0 个变量\n",
      ">> 根据最大计数类别删除 0 个变量\n",
      ">> 根据相关性删除 35 个变量\n",
      ">> 根据最大psi值删除 0 个变量\n",
      ">> 根据iv值删除 48 个变量\n",
      ">> 经过特征筛选,最终保留 38 个变量\n",
      ">> 具体保留变量如下:\n",
      "   ['AMT_ANNUITY', 'AMT_CREDIT', 'AMT_REQ_CREDIT_BUREAU_DAY', 'AMT_REQ_CREDIT_BUREAU_HOUR', 'AMT_REQ_CREDIT_BUREAU_MON', 'AMT_REQ_CREDIT_BUREAU_QRT', 'AMT_REQ_CREDIT_BUREAU_WEEK', 'AMT_REQ_CREDIT_BUREAU_YEAR', 'APARTMENTS_AVG', 'BASEMENTAREA_AVG', 'CODE_GENDER', 'DAYS_BIRTH', 'DAYS_EMPLOYED', 'DAYS_ID_PUBLISH', 'DAYS_LAST_PHONE_CHANGE', 'DAYS_REGISTRATION', 'ELEVATORS_AVG', 'EXT_SOURCE_1', 'EXT_SOURCE_2', 'EXT_SOURCE_3', 'FLOORSMAX_AVG', 'FLOORSMIN_AVG', 'HOUR_APPR_PROCESS_START', 'LANDAREA_AVG', 'NAME_EDUCATION_TYPE', 'NAME_FAMILY_STATUS', 'NAME_INCOME_TYPE', 'NONLIVINGAREA_AVG', 'OCCUPATION_TYPE', 'ORGANIZATION_TYPE', 'OWN_CAR_AGE', 'REGION_POPULATION_RELATIVE', 'REGION_RATING_CLIENT', 'REG_CITY_NOT_WORK_CITY', 'SK_ID_CURR', 'WALLSMATERIAL_MODE', 'YEARS_BEGINEXPLUATATION_AVG', 'YEARS_BUILD_AVG']\n"
     ]
    }
   ],
   "source": [
    "# 不根据特征重要度筛选\n",
    "# 缺失率阈值改为0.7, 不根据同质性筛选, 最大计数类别阈值改为0.01, 计算计数类别时考虑缺失值, 相关性阈值给为0.9\n",
    "# 加入psi和iv值选择参数，psi阈值设置为0.1，iv值阈值设置为0.02，使用最优ks分箱\n",
    "keep_cols, keep_cols_dict, remove_cols_info = am.feature_select(X_train, Y_train, missing=0.7, homogeny=False, category=0.01, \n",
    "                                                                category_miss=True, collinear=0.9, max_psi=0.25, iv=0.02, \n",
    "                                                                bin_method='best_ks', feature_importance=False)"
   ]
  },
  {
   "cell_type": "code",
   "execution_count": 21,
   "metadata": {
    "ExecuteTime": {
     "end_time": "2019-09-10T07:03:11.329375Z",
     "start_time": "2019-09-10T07:03:11.317375Z"
    }
   },
   "outputs": [
    {
     "data": {
      "text/plain": [
       "{'missing': {},\n",
       " 'category': {},\n",
       " 'collinear': {'AMT_GOODS_PRICE': {'AMT_CREDIT': 0.9869902908809428},\n",
       "  'APARTMENTS_MEDI': {'APARTMENTS_AVG': 0.9927531669287931},\n",
       "  'APARTMENTS_MODE': {'APARTMENTS_AVG': 0.972971015760083,\n",
       "   'APARTMENTS_MEDI': 0.9807161434149408},\n",
       "  'BASEMENTAREA_MEDI': {'BASEMENTAREA_AVG': 0.9972955834510854},\n",
       "  'BASEMENTAREA_MODE': {'BASEMENTAREA_AVG': 0.973703735371231,\n",
       "   'BASEMENTAREA_MEDI': 0.9756673533677118},\n",
       "  'COMMONAREA_MEDI': {'COMMONAREA_AVG': 0.9987124951867642},\n",
       "  'COMMONAREA_MODE': {'COMMONAREA_AVG': 0.9840713049086192,\n",
       "   'COMMONAREA_MEDI': 0.9839089491132557},\n",
       "  'ELEVATORS_MEDI': {'ELEVATORS_AVG': 0.9953937937498675},\n",
       "  'ELEVATORS_MODE': {'ELEVATORS_AVG': 0.9787274561444876,\n",
       "   'ELEVATORS_MEDI': 0.9838649274940386},\n",
       "  'ENTRANCES_MEDI': {'ENTRANCES_AVG': 0.9965463886213405},\n",
       "  'ENTRANCES_MODE': {'ENTRANCES_AVG': 0.9784725151440771,\n",
       "   'ENTRANCES_MEDI': 0.9816800072777095},\n",
       "  'FLAG_EMP_PHONE': {'DAYS_EMPLOYED': -0.999293774721346},\n",
       "  'FLOORSMAX_MEDI': {'FLOORSMAX_AVG': 0.9973257560525364},\n",
       "  'FLOORSMAX_MODE': {'FLOORSMAX_AVG': 0.9860619430898416,\n",
       "   'FLOORSMAX_MEDI': 0.9883462378498368},\n",
       "  'FLOORSMIN_MEDI': {'FLOORSMIN_AVG': 0.997137255828705},\n",
       "  'FLOORSMIN_MODE': {'FLOORSMIN_AVG': 0.9853685777657101,\n",
       "   'FLOORSMIN_MEDI': 0.9883670105395826},\n",
       "  'LANDAREA_MEDI': {'LANDAREA_AVG': 0.9979342884312317},\n",
       "  'LANDAREA_MODE': {'LANDAREA_AVG': 0.9794823135239302,\n",
       "   'LANDAREA_MEDI': 0.9816942007750177},\n",
       "  'LIVINGAPARTMENTS_AVG': {'APARTMENTS_AVG': 0.9746542182452432,\n",
       "   'APARTMENTS_MEDI': 0.9606771712541482,\n",
       "   'APARTMENTS_MODE': 0.9347666487374463},\n",
       "  'LIVINGAPARTMENTS_MEDI': {'APARTMENTS_AVG': 0.965002934302406,\n",
       "   'APARTMENTS_MEDI': 0.9728336761917719,\n",
       "   'APARTMENTS_MODE': 0.9470081552625798,\n",
       "   'LIVINGAPARTMENTS_AVG': 0.9873062356783824},\n",
       "  'LIVINGAPARTMENTS_MODE': {'APARTMENTS_AVG': 0.9488864899991092,\n",
       "   'APARTMENTS_MEDI': 0.9571390095184813,\n",
       "   'APARTMENTS_MODE': 0.9627316743949912,\n",
       "   'LIVINGAPARTMENTS_AVG': 0.9709750686408913,\n",
       "   'LIVINGAPARTMENTS_MEDI': 0.9835266197440418},\n",
       "  'LIVINGAREA_AVG': {'APARTMENTS_AVG': 0.9118438158605409,\n",
       "   'APARTMENTS_MEDI': 0.9123135157686805,\n",
       "   'LIVINGAPARTMENTS_MEDI': 0.9022094559027759},\n",
       "  'LIVINGAREA_MEDI': {'APARTMENTS_AVG': 0.9176443113370529,\n",
       "   'APARTMENTS_MEDI': 0.9231572086575507,\n",
       "   'APARTMENTS_MODE': 0.9019595161993047,\n",
       "   'LIVINGAPARTMENTS_AVG': 0.9034945952644299,\n",
       "   'LIVINGAPARTMENTS_MEDI': 0.9152463714929293,\n",
       "   'LIVINGAREA_AVG': 0.9870528399887523},\n",
       "  'LIVINGAREA_MODE': {'APARTMENTS_AVG': 0.9024430406835585,\n",
       "   'APARTMENTS_MEDI': 0.908219255188117,\n",
       "   'APARTMENTS_MODE': 0.9209904087062094,\n",
       "   'LIVINGAPARTMENTS_MODE': 0.9008715238292935,\n",
       "   'LIVINGAREA_AVG': 0.9606955660327382,\n",
       "   'LIVINGAREA_MEDI': 0.9741617505945119},\n",
       "  'NONLIVINGAPARTMENTS_MEDI': {'NONLIVINGAPARTMENTS_AVG': 0.9974611133170151},\n",
       "  'NONLIVINGAPARTMENTS_MODE': {'NONLIVINGAPARTMENTS_AVG': 0.9267194887093564,\n",
       "   'NONLIVINGAPARTMENTS_MEDI': 0.9297612151983492},\n",
       "  'NONLIVINGAREA_MEDI': {'NONLIVINGAREA_AVG': 0.9958268992436209},\n",
       "  'NONLIVINGAREA_MODE': {'NONLIVINGAREA_AVG': 0.9745755986898241,\n",
       "   'NONLIVINGAREA_MEDI': 0.9792227353137659},\n",
       "  'OBS_60_CNT_SOCIAL_CIRCLE': {'OBS_30_CNT_SOCIAL_CIRCLE': 0.9980570845604687},\n",
       "  'REGION_RATING_CLIENT_W_CITY': {'REGION_RATING_CLIENT': 0.9462273134197574},\n",
       "  'TOTALAREA_MODE': {'LIVINGAREA_AVG': 0.9262041418184328,\n",
       "   'LIVINGAREA_MEDI': 0.9256636739057876,\n",
       "   'LIVINGAREA_MODE': 0.9090699469679056},\n",
       "  'YEARS_BEGINEXPLUATATION_MEDI': {'YEARS_BEGINEXPLUATATION_AVG': 0.9945697018908608},\n",
       "  'YEARS_BEGINEXPLUATATION_MODE': {'YEARS_BEGINEXPLUATATION_AVG': 0.9763779366996269,\n",
       "   'YEARS_BEGINEXPLUATATION_MEDI': 0.9671008684251088},\n",
       "  'YEARS_BUILD_MEDI': {'YEARS_BUILD_AVG': 0.9989895983854372},\n",
       "  'YEARS_BUILD_MODE': {'YEARS_BUILD_AVG': 0.9930769732006072,\n",
       "   'YEARS_BUILD_MEDI': 0.9929226785277873}},\n",
       " 'max_psi': {},\n",
       " 'iv': {'AMT_INCOME_TOTAL': 0.017430328060780636,\n",
       "  'CNT_CHILDREN': 0.0012432755677737974,\n",
       "  'CNT_FAM_MEMBERS': 0.00410024583811702,\n",
       "  'COMMONAREA_AVG': 0.018120510747466352,\n",
       "  'DEF_30_CNT_SOCIAL_CIRCLE': 0.006662766316901041,\n",
       "  'DEF_60_CNT_SOCIAL_CIRCLE': 0.00991721115649452,\n",
       "  'ENTRANCES_AVG': 0.018268198979818597,\n",
       "  'FLAG_CONT_MOBILE': 0.0,\n",
       "  'FLAG_DOCUMENT_10': 0.0,\n",
       "  'FLAG_DOCUMENT_11': 0.0,\n",
       "  'FLAG_DOCUMENT_12': 0.0,\n",
       "  'FLAG_DOCUMENT_13': 0.0,\n",
       "  'FLAG_DOCUMENT_14': 0.0,\n",
       "  'FLAG_DOCUMENT_15': 0.0,\n",
       "  'FLAG_DOCUMENT_16': 0.0,\n",
       "  'FLAG_DOCUMENT_17': 0.0,\n",
       "  'FLAG_DOCUMENT_18': 0.0,\n",
       "  'FLAG_DOCUMENT_19': 0.0,\n",
       "  'FLAG_DOCUMENT_2': 0.0,\n",
       "  'FLAG_DOCUMENT_20': 0.0,\n",
       "  'FLAG_DOCUMENT_21': 0.0,\n",
       "  'FLAG_DOCUMENT_3': 0.018053716439444124,\n",
       "  'FLAG_DOCUMENT_4': 0.0,\n",
       "  'FLAG_DOCUMENT_5': 0.0,\n",
       "  'FLAG_DOCUMENT_6': 0.010064244947740558,\n",
       "  'FLAG_DOCUMENT_7': 0.0,\n",
       "  'FLAG_DOCUMENT_8': 0.0011951809040115897,\n",
       "  'FLAG_DOCUMENT_9': 0.0,\n",
       "  'FLAG_EMAIL': 0.00014960877940786246,\n",
       "  'FLAG_MOBIL': 0.0,\n",
       "  'FLAG_PHONE': 0.0073203992978553714,\n",
       "  'FLAG_WORK_PHONE': 0.01597572663652997,\n",
       "  'LIVE_CITY_NOT_WORK_CITY': 0.009322141297589868,\n",
       "  'LIVE_REGION_NOT_WORK_REGION': 0.0,\n",
       "  'NONLIVINGAPARTMENTS_AVG': 0.017839845058760104,\n",
       "  'OBS_30_CNT_SOCIAL_CIRCLE': 0.0021914097620449914,\n",
       "  'REG_CITY_NOT_LIVE_CITY': 0.018647275388140185,\n",
       "  'REG_REGION_NOT_LIVE_REGION': 0.0,\n",
       "  'REG_REGION_NOT_WORK_REGION': 9.962555892804459e-05,\n",
       "  'EMERGENCYSTATE_MODE': 0.013655945959709873,\n",
       "  'FLAG_OWN_CAR': 0.008211197460362389,\n",
       "  'FLAG_OWN_REALTY': 0.0008949024579599126,\n",
       "  'FONDKAPREMONT_MODE': 0.015834266840916454,\n",
       "  'HOUSETYPE_MODE': 0.014244064938139123,\n",
       "  'NAME_CONTRACT_TYPE': 0.01712754200379002,\n",
       "  'NAME_HOUSING_TYPE': 0.008997681147806379,\n",
       "  'NAME_TYPE_SUITE': 0.01993032870158269,\n",
       "  'WEEKDAY_APPR_PROCESS_START': 0.00891578759141637}}"
      ]
     },
     "execution_count": 21,
     "metadata": {},
     "output_type": "execute_result"
    }
   ],
   "source": [
    "# 查看每个过程删除的变量\n",
    "remove_cols_info"
   ]
  },
  {
   "cell_type": "code",
   "execution_count": 22,
   "metadata": {
    "ExecuteTime": {
     "end_time": "2019-09-10T07:03:37.505880Z",
     "start_time": "2019-09-10T07:03:11.660400Z"
    }
   },
   "outputs": [
    {
     "name": "stdout",
     "output_type": "stream",
     "text": [
      ">> 根据缺失率删除 0 个变量\n",
      ">> 根据同质性删除 4 个变量\n",
      ">> 根据最大计数类别删除 0 个变量\n",
      ">> 根据相关性删除 0 个变量\n",
      ">> 根据特征重要度最终保留 30 个变量\n",
      ">> 具体保留变量如下:\n",
      "   ['EXT_SOURCE_2', 'EXT_SOURCE_3', 'EXT_SOURCE_1', 'ORGANIZATION_TYPE', 'DAYS_REGISTRATION', 'DAYS_EMPLOYED', 'AMT_CREDIT', 'AMT_ANNUITY', 'DAYS_BIRTH', 'SK_ID_CURR', 'AMT_INCOME_TOTAL', 'DAYS_LAST_PHONE_CHANGE', 'AMT_GOODS_PRICE', 'DAYS_ID_PUBLISH', 'REGION_POPULATION_RELATIVE', 'OWN_CAR_AGE', 'AMT_REQ_CREDIT_BUREAU_YEAR', 'HOUR_APPR_PROCESS_START', 'NAME_EDUCATION_TYPE', 'OCCUPATION_TYPE', 'TOTALAREA_MODE', 'YEARS_BEGINEXPLUATATION_AVG', 'NONLIVINGAREA_AVG', 'OBS_30_CNT_SOCIAL_CIRCLE', 'LANDAREA_AVG', 'CODE_GENDER', 'BASEMENTAREA_AVG', 'YEARS_BUILD_AVG', 'COMMONAREA_AVG', 'LIVINGAREA_MODE']\n"
     ]
    }
   ],
   "source": [
    "# 其他参数默认,根据特征重要度选择前30个变量\n",
    "keep_cols, keep_cols_dict, remove_cols_info = am.feature_select(X_train, Y_train, missing=0.8, homogeny=1, category=1, \n",
    "                                                                category_miss=False, collinear=1, feature_importance=True, \n",
    "                                                                cols_number=30, auto_iteration=False)"
   ]
  },
  {
   "cell_type": "code",
   "execution_count": 71,
   "metadata": {
    "ExecuteTime": {
     "end_time": "2019-09-10T10:33:44.241848Z",
     "start_time": "2019-09-10T10:12:53.538225Z"
    }
   },
   "outputs": [
    {
     "name": "stdout",
     "output_type": "stream",
     "text": [
      ">> 根据缺失率删除 0 个变量\n",
      ">> 根据同质性删除 4 个变量\n",
      ">> 根据最大计数类别删除 0 个变量\n",
      ">> 根据相关性删除 0 个变量\n",
      ">> 特征重要度迭代次数 |■■■■■■■■■■■■■■■■■■■■■■■■■■■■■■■■■■■■■■■■■|   根据条件提前停止迭代\n",
      ">> 根据特征重要度最终保留 48 个变量\n",
      ">> 具体保留变量如下:\n",
      "   ['EXT_SOURCE_2', 'EXT_SOURCE_3', 'EXT_SOURCE_1', 'ORGANIZATION_TYPE', 'DAYS_REGISTRATION', 'SK_ID_CURR', 'DAYS_BIRTH', 'DAYS_EMPLOYED', 'AMT_ANNUITY', 'AMT_CREDIT', 'DAYS_ID_PUBLISH', 'DAYS_LAST_PHONE_CHANGE', 'AMT_INCOME_TOTAL', 'AMT_GOODS_PRICE', 'REGION_POPULATION_RELATIVE', 'OWN_CAR_AGE', 'AMT_REQ_CREDIT_BUREAU_YEAR', 'HOUR_APPR_PROCESS_START', 'YEARS_BEGINEXPLUATATION_AVG', 'YEARS_BUILD_AVG', 'NAME_EDUCATION_TYPE', 'TOTALAREA_MODE', 'OCCUPATION_TYPE', 'LANDAREA_AVG', 'LIVINGAREA_MODE', 'BASEMENTAREA_MODE', 'OBS_30_CNT_SOCIAL_CIRCLE', 'APARTMENTS_AVG', 'CODE_GENDER', 'NONLIVINGAREA_AVG', 'LANDAREA_MODE', 'BASEMENTAREA_AVG', 'APARTMENTS_MODE', 'ENTRANCES_AVG', 'LIVINGAPARTMENTS_AVG', 'COMMONAREA_AVG', 'NONLIVINGAREA_MEDI', 'CNT_FAM_MEMBERS', 'COMMONAREA_MODE', 'NONLIVINGAREA_MODE', 'AMT_REQ_CREDIT_BUREAU_MON', 'LIVINGAREA_AVG', 'YEARS_BEGINEXPLUATATION_MODE', 'AMT_REQ_CREDIT_BUREAU_QRT', 'LIVINGAREA_MEDI', 'OBS_60_CNT_SOCIAL_CIRCLE', 'FLAG_WORK_PHONE', 'NAME_FAMILY_STATUS']\n"
     ]
    }
   ],
   "source": [
    "# 根据特征重要度选择前50个迭代并继续迭代,自动选择变量，不打印迭代信息\n",
    "keep_cols, keep_cols_dict, remove_cols_info = am.feature_select(X_train, Y_train, missing=0.8, homogeny=1, category=1, \n",
    "                                                                category_miss=False, collinear=1, feature_importance=True, \n",
    "                                                                cols_number=50, auto_iteration=True, verbose=False)"
   ]
  },
  {
   "cell_type": "code",
   "execution_count": 72,
   "metadata": {
    "ExecuteTime": {
     "end_time": "2019-09-10T10:54:30.682234Z",
     "start_time": "2019-09-10T10:33:44.855882Z"
    },
    "scrolled": false
   },
   "outputs": [
    {
     "name": "stdout",
     "output_type": "stream",
     "text": [
      ">> 根据缺失率删除 0 个变量\n",
      ">> 根据同质性删除 4 个变量\n",
      ">> 根据最大计数类别删除 0 个变量\n",
      ">> 根据相关性删除 0 个变量\n",
      ">> 特征重要度开始迭代\n",
      "   剩余变量数: 50  交叉验证AUC: 0.71912\n",
      "   剩余变量数: 49  交叉验证AUC: 0.71666\n",
      "   剩余变量数: 48  交叉验证AUC: 0.72461\n",
      "   剩余变量数: 47  交叉验证AUC: 0.72139\n",
      "   剩余变量数: 46  交叉验证AUC: 0.71851\n",
      "   剩余变量数: 45  交叉验证AUC: 0.71824\n",
      "   剩余变量数: 44  交叉验证AUC: 0.71759\n",
      "   剩余变量数: 43  交叉验证AUC: 0.71864\n",
      "   剩余变量数: 42  交叉验证AUC: 0.71553\n",
      "   剩余变量数: 41  交叉验证AUC: 0.71858\n",
      "   剩余变量数: 40  交叉验证AUC: 0.71500\n",
      "   剩余变量数: 39  交叉验证AUC: 0.71888\n",
      "   剩余变量数: 38  交叉验证AUC: 0.71710\n",
      "   剩余变量数: 37  交叉验证AUC: 0.71869\n",
      "   剩余变量数: 36  交叉验证AUC: 0.71681\n",
      "   剩余变量数: 35  交叉验证AUC: 0.71728\n",
      "   剩余变量数: 34  交叉验证AUC: 0.71041\n",
      "   剩余变量数: 33  交叉验证AUC: 0.71301\n",
      "   剩余变量数: 32  交叉验证AUC: 0.71364\n",
      "   剩余变量数: 31  交叉验证AUC: 0.71694\n",
      "   剩余变量数: 30  交叉验证AUC: 0.71170\n",
      "   剩余变量数: 29  交叉验证AUC: 0.71277\n",
      "   剩余变量数: 28  交叉验证AUC: 0.71580\n",
      "   剩余变量数: 27  交叉验证AUC: 0.71375\n",
      "   剩余变量数: 26  交叉验证AUC: 0.71627\n",
      "   剩余变量数: 25  交叉验证AUC: 0.71356\n",
      "   剩余变量数: 24  交叉验证AUC: 0.71504\n",
      "   剩余变量数: 23  交叉验证AUC: 0.71450\n",
      "   剩余变量数: 22  交叉验证AUC: 0.71186\n",
      "   剩余变量数: 21  交叉验证AUC: 0.71002\n",
      "   剩余变量数: 20  交叉验证AUC: 0.71159\n",
      "   剩余变量数: 19  交叉验证AUC: 0.71331\n",
      "   剩余变量数: 18  交叉验证AUC: 0.71599\n",
      "   剩余变量数: 17  交叉验证AUC: 0.71042\n",
      "   剩余变量数: 16  交叉验证AUC: 0.70869\n",
      "   剩余变量数: 15  交叉验证AUC: 0.70942\n",
      "   剩余变量数: 14  交叉验证AUC: 0.70460\n",
      "   剩余变量数: 13  交叉验证AUC: 0.70410\n",
      "   剩余变量数: 12  交叉验证AUC: 0.70560\n",
      "   剩余变量数: 11  交叉验证AUC: 0.70436\n",
      "   剩余变量数: 10  交叉验证AUC: 0.70545\n",
      "   根据条件提前停止迭代\n",
      ">> 根据特征重要度最终保留 48 个变量\n",
      ">> 具体保留变量如下:\n",
      "   ['EXT_SOURCE_2', 'EXT_SOURCE_3', 'EXT_SOURCE_1', 'ORGANIZATION_TYPE', 'DAYS_REGISTRATION', 'SK_ID_CURR', 'DAYS_BIRTH', 'DAYS_EMPLOYED', 'AMT_ANNUITY', 'AMT_CREDIT', 'DAYS_ID_PUBLISH', 'DAYS_LAST_PHONE_CHANGE', 'AMT_INCOME_TOTAL', 'AMT_GOODS_PRICE', 'REGION_POPULATION_RELATIVE', 'OWN_CAR_AGE', 'AMT_REQ_CREDIT_BUREAU_YEAR', 'HOUR_APPR_PROCESS_START', 'YEARS_BEGINEXPLUATATION_AVG', 'YEARS_BUILD_AVG', 'NAME_EDUCATION_TYPE', 'TOTALAREA_MODE', 'OCCUPATION_TYPE', 'LANDAREA_AVG', 'LIVINGAREA_MODE', 'BASEMENTAREA_MODE', 'OBS_30_CNT_SOCIAL_CIRCLE', 'APARTMENTS_AVG', 'CODE_GENDER', 'NONLIVINGAREA_AVG', 'LANDAREA_MODE', 'BASEMENTAREA_AVG', 'APARTMENTS_MODE', 'ENTRANCES_AVG', 'LIVINGAPARTMENTS_AVG', 'COMMONAREA_AVG', 'NONLIVINGAREA_MEDI', 'CNT_FAM_MEMBERS', 'COMMONAREA_MODE', 'NONLIVINGAREA_MODE', 'AMT_REQ_CREDIT_BUREAU_MON', 'LIVINGAREA_AVG', 'YEARS_BEGINEXPLUATATION_MODE', 'AMT_REQ_CREDIT_BUREAU_QRT', 'LIVINGAREA_MEDI', 'OBS_60_CNT_SOCIAL_CIRCLE', 'FLAG_WORK_PHONE', 'NAME_FAMILY_STATUS']\n"
     ]
    }
   ],
   "source": [
    "# 根据特征重要度选择前50个迭代并继续迭代,自动选择变量，并打印迭代信息\n",
    "keep_cols, keep_cols_dict, remove_cols_info = am.feature_select(X_train, Y_train, missing=0.8, homogeny=1, category=1, \n",
    "                                                                category_miss=False, collinear=1, feature_importance=True, \n",
    "                                                                cols_number=50, auto_iteration=True, verbose=True)"
   ]
  },
  {
   "cell_type": "code",
   "execution_count": 73,
   "metadata": {
    "ExecuteTime": {
     "end_time": "2019-09-10T10:54:31.292261Z",
     "start_time": "2019-09-10T10:54:31.287262Z"
    },
    "scrolled": false
   },
   "outputs": [],
   "source": [
    "# 可以对第二个返回结果进行索引,选择其他变量子集\n",
    "# keep_cols = keep_cols_dict[10]"
   ]
  },
  {
   "cell_type": "markdown",
   "metadata": {},
   "source": [
    "## 超参数优化"
   ]
  },
  {
   "cell_type": "code",
   "execution_count": 74,
   "metadata": {
    "ExecuteTime": {
     "end_time": "2019-09-10T10:54:32.105311Z",
     "start_time": "2019-09-10T10:54:31.884295Z"
    }
   },
   "outputs": [],
   "source": [
    "# 转换数据集\n",
    "X_train_trans, X_test_trans, X_time_test_trans, num_cols, char_cols = am.get_coltype_datalist(X_train, X_test, X_time_test, keep_cols)"
   ]
  },
  {
   "cell_type": "code",
   "execution_count": 75,
   "metadata": {
    "ExecuteTime": {
     "end_time": "2019-09-10T10:54:32.716351Z",
     "start_time": "2019-09-10T10:54:32.711343Z"
    }
   },
   "outputs": [],
   "source": [
    "# 封装变量处理方法\n",
    "mapper = am.get_mapper(num_cols, char_cols)"
   ]
  },
  {
   "cell_type": "code",
   "execution_count": null,
   "metadata": {},
   "outputs": [],
   "source": []
  },
  {
   "cell_type": "code",
   "execution_count": 76,
   "metadata": {
    "ExecuteTime": {
     "end_time": "2019-09-10T14:01:37.482149Z",
     "start_time": "2019-09-10T10:54:33.310382Z"
    },
    "scrolled": false
   },
   "outputs": [
    {
     "name": "stdout",
     "output_type": "stream",
     "text": [
      ">> 开始使用贝叶斯优化的TPE算法对 XGBoost 进行超参数优化\n",
      "100%|███████████████████████████████████████████████| 50/50 [2:14:11<00:00, 171.08s/it, best loss: -0.7406149111258313]\n",
      ">> XGBoost 最优超参数交叉验证结果为：训练集平均AUC：0.8477  验证集平均AUC：0.7406\n",
      ">> 模型超参数优化完成,最优模型为 XGBoost\n"
     ]
    },
    {
     "data": {
      "image/png": "[encoded data removed]",
      "text/plain": [
       "<Figure size 432x288 with 1 Axes>"
      ]
     },
     "metadata": {
      "needs_background": "light"
     },
     "output_type": "display_data"
    }
   ],
   "source": [
    "# 利用贝叶斯优化的tpe算法对xgboost调参，迭代次数为50（默认为100）\n",
    "# 通过学习曲线可以看到模型的训练验证集虽有有0.16间距，有非常明显的过拟合现象\n",
    "best_para_dict = am.para_optimize(X_train_trans, Y_train, mapper, algo='tpe', iter_num=50, model_list=['xgb'])"
   ]
  },
  {
   "cell_type": "code",
   "execution_count": 77,
   "metadata": {
    "ExecuteTime": {
     "end_time": "2019-09-10T15:53:32.891712Z",
     "start_time": "2019-09-10T14:01:38.083187Z"
    }
   },
   "outputs": [
    {
     "name": "stdout",
     "output_type": "stream",
     "text": [
      ">> 开始使用贝叶斯优化的TPE算法对 XGBoost 进行超参数优化\n",
      "100%|███████████████████████████████████████████████| 50/50 [1:33:45<00:00, 100.09s/it, best loss: -0.7254107288021727]\n",
      ">> XGBoost 最优超参数交叉验证结果为：训练集平均AUC：0.754  验证集平均AUC：0.7297\n",
      ">> 模型超参数优化完成,最优模型为 XGBoost\n"
     ]
    },
    {
     "data": {
      "image/png": "[encoded data removed]",
      "text/plain": [
       "<Figure size 432x288 with 1 Axes>"
      ]
     },
     "metadata": {
      "needs_background": "light"
     },
     "output_type": "display_data"
    }
   ],
   "source": [
    "# 利用贝叶斯优化的tpe算法对xgboost调参，并加入惩罚，当训练集和测试集auc差值大于0.02时，以1的权重进行惩罚，迭代次数为50（默认为100）\n",
    "# 使交叉验证中训练集与测试集的auc拉近，这样训练的模型会比较简单，一般用于减小过拟合现象（训练集验证集差距过大）\n",
    "# 加入惩罚后在一定程度上减少了训练集和验证集的间距，但有些时候也可能因为惩罚会让模型过于简单，同时也降低了验证集的auc\n",
    "# 对比上面没有加入惩罚项的情况，可以看到加入惩罚项后，验证集auc只下降了0.01，但明显没有了过拟合现象\n",
    "# 可以看到由于模型过于简单，在样本量比较少的情况，训练集的auc也是0.5\n",
    "best_para_dict = am.para_optimize(X_train_trans, Y_train, mapper, algo='tpe', iter_num=50, model_list=['xgb'], \n",
    "                                  penalty_space=0.02, penalty_weight=1)"
   ]
  },
  {
   "cell_type": "code",
   "execution_count": 78,
   "metadata": {
    "ExecuteTime": {
     "end_time": "2019-09-10T16:04:49.252447Z",
     "start_time": "2019-09-10T15:53:33.493748Z"
    }
   },
   "outputs": [
    {
     "name": "stdout",
     "output_type": "stream",
     "text": [
      ">> 开始使用贝叶斯优化的TPE算法对 LightGBM 进行超参数优化\n",
      "100%|██████████████████████████████████████████████████| 50/50 [09:04<00:00, 10.94s/it, best loss: -0.7123154888379722]\n",
      ">> LightGBM 最优超参数交叉验证结果为：训练集平均AUC：0.7612  验证集平均AUC：0.7267\n",
      ">> 模型超参数优化完成,最优模型为 LightGBM\n"
     ]
    },
    {
     "data": {
      "image/png": "[encoded data removed]",
      "text/plain": [
       "<Figure size 432x288 with 1 Axes>"
      ]
     },
     "metadata": {
      "needs_background": "light"
     },
     "output_type": "display_data"
    }
   ],
   "source": [
    "# 利用贝叶斯优化的tpe算法对lightgbm调参，并加入惩罚，迭代次数为50（默认为100）\n",
    "# 自己设置域空间。具体格式可对方法shift + tab查看源代码的说明，格式必须与说明中的相同，不能缺少参数\n",
    "lgbm_parameter = lgbm_parameter = {\n",
    "            'n_estimators': [50, 400, 10],\n",
    "            'num_leaves': [10, 500, 10],\n",
    "            'min_child_samples': [10, 300, 2],\n",
    "            'min_child_weight': [0.0001, 0.01],\n",
    "            'min_split_gain': [0.0, 1.0],\n",
    "            'subsample': [0.3, 1.0],\n",
    "            'colsample_bytree': [0.3, 1.0],\n",
    "            'reg_lambda': [0.0, 3.0],\n",
    "            'reg_alpha': [0.0, 3.0],\n",
    "            'learning_rate': [0.01, 0.3]\n",
    "        }\n",
    "best_para_dict = am.para_optimize(X_train_trans, Y_train, mapper, algo='tpe', iter_num=50, model_list=['lgbm'], \n",
    "                                  penalty_space=0.02, penalty_weight=1, lgbm_parameter=lgbm_parameter)"
   ]
  },
  {
   "cell_type": "code",
   "execution_count": 79,
   "metadata": {
    "ExecuteTime": {
     "end_time": "2019-09-10T19:27:32.480997Z",
     "start_time": "2019-09-10T16:04:49.858483Z"
    }
   },
   "outputs": [
    {
     "name": "stdout",
     "output_type": "stream",
     "text": [
      ">> 开始使用贝叶斯优化的高斯过程算法对 XGBoost 进行超参数优化\n",
      "   |■■■■■■■■■■■■■■■■■■■■■■■■■■■■■■■■■■■■■■■■■■■■■■■■■■|   [01:29:07,  best loss: 0.7217294889538457]\n",
      ">> XGBoost 最优超参数交叉验证结果为：训练集平均AUC：0.7474  验证集平均AUC：0.7246\n",
      ">> 开始使用贝叶斯优化的高斯过程算法对 LightGBM 进行超参数优化\n",
      "   |■■■■■■■■■■■■■■■■■■■■■■■■■■■■■■■■■■■■■■■■■■■■■■■■■■|   [00:22:27,  best loss: 0.7210304263305279]\n",
      ">> LightGBM 最优超参数交叉验证结果为：训练集平均AUC：0.747  验证集平均AUC：0.724\n",
      ">> 开始使用贝叶斯优化的高斯过程算法对 GBDT 进行超参数优化\n",
      "   |■■■■■■■■■■■■■■■■■■■■■■■■■■■■■■■■■■■■■■■■■■■■■■■■■■|   [01:11:26,  best loss: 0.7173609635855375]\n",
      ">> GBDT 最优超参数交叉验证结果为：训练集平均AUC：0.7517  验证集平均AUC：0.7245\n",
      ">> 模型超参数优化完成,最优模型为 XGBoost\n"
     ]
    },
    {
     "data": {
      "image/png": "[encoded data removed]",
      "text/plain": [
       "<Figure size 432x288 with 1 Axes>"
      ]
     },
     "metadata": {
      "needs_background": "light"
     },
     "output_type": "display_data"
    }
   ],
   "source": [
    "# 利用贝叶斯优化的gp算法对三个模型调参，并加入惩罚，迭代次数为50（默认为100）\n",
    "best_para_dict = am.para_optimize(X_train_trans, Y_train, mapper, algo='gp', iter_num=50, model_list=['xgb', 'lgbm', 'gbdt'], \n",
    "                                  penalty_space=0.02, penalty_weight=1)"
   ]
  },
  {
   "cell_type": "code",
   "execution_count": 80,
   "metadata": {
    "ExecuteTime": {
     "end_time": "2019-09-10T21:44:54.558987Z",
     "start_time": "2019-09-10T19:27:33.088041Z"
    }
   },
   "outputs": [
    {
     "name": "stdout",
     "output_type": "stream",
     "text": [
      ">> 开始使用随机搜索对 XGBoost 进行超参数优化\n",
      "100%|████████████████████████████████████████████████| 50/50 [1:43:58<00:00, 81.14s/it, best loss: -0.7187156631365615]\n",
      ">> XGBoost 最优超参数交叉验证结果为：训练集平均AUC：0.7668  验证集平均AUC：0.7328\n",
      ">> 开始使用随机搜索对 LightGBM 进行超参数优化\n",
      "100%|██████████████████████████████████████████████████| 50/50 [12:50<00:00, 14.41s/it, best loss: -0.6989685921222848]\n",
      ">> LightGBM 最优超参数交叉验证结果为：训练集平均AUC：0.7845  验证集平均AUC：0.7317\n",
      ">> 模型超参数优化完成,最优模型为 XGBoost\n"
     ]
    },
    {
     "data": {
      "image/png": "[encoded data removed]",
      "text/plain": [
       "<Figure size 432x288 with 1 Axes>"
      ]
     },
     "metadata": {
      "needs_background": "light"
     },
     "output_type": "display_data"
    }
   ],
   "source": [
    "# 利用随机搜索算法对两个模型调参，并加入惩罚，迭代次数为50（默认为100）\n",
    "best_para_dict = am.para_optimize(X_train_trans, Y_train, mapper, algo='rand', iter_num=50, model_list=['xgb', 'lgbm'], \n",
    "                                  penalty_space=0.02, penalty_weight=1)"
   ]
  },
  {
   "cell_type": "code",
   "execution_count": 81,
   "metadata": {
    "ExecuteTime": {
     "end_time": "2019-09-11T04:39:03.882612Z",
     "start_time": "2019-09-10T21:44:55.161025Z"
    }
   },
   "outputs": [
    {
     "name": "stdout",
     "output_type": "stream",
     "text": [
      ">> 开始使用贝叶斯优化的TPE算法对 XGBoost 进行超参数优化\n",
      "100%|█████████████████████████████████████████████| 100/100 [3:00:03<00:00, 179.93s/it, best loss: -0.7267741177738487]\n",
      ">> XGBoost 最优超参数交叉验证结果为：训练集平均AUC：0.7652  验证集平均AUC：0.736\n",
      ">> 开始使用贝叶斯优化的TPE算法对 LightGBM 进行超参数优化\n",
      "100%|█████████████████████████████████████████████████| 100/100 [20:05<00:00,  9.23s/it, best loss: -0.712472397641699]\n",
      ">> LightGBM 最优超参数交叉验证结果为：训练集平均AUC：0.7649  验证集平均AUC：0.7287\n",
      ">> 开始使用贝叶斯优化的TPE算法对 GBDT 进行超参数优化\n",
      "100%|██████████████████████████████████████████████| 100/100 [2:26:50<00:00, 130.48s/it, best loss: -0.709435412006163]\n",
      ">> GBDT 最优超参数交叉验证结果为：训练集平均AUC：0.7554  验证集平均AUC：0.7224\n",
      ">> 开始使用贝叶斯优化的TPE算法对 随机森林 进行超参数优化\n",
      "100%|████████████████████████████████████████████████| 100/100 [45:53<00:00, 36.03s/it, best loss: -0.7099188933653386]\n",
      ">> 随机森林 最优超参数交叉验证结果为：训练集平均AUC：0.7356  验证集平均AUC：0.7128\n",
      ">> 模型超参数优化完成,最优模型为 XGBoost\n"
     ]
    },
    {
     "data": {
      "image/png": "[encoded data removed]",
      "text/plain": [
       "<Figure size 432x288 with 1 Axes>"
      ]
     },
     "metadata": {
      "needs_background": "light"
     },
     "output_type": "display_data"
    }
   ],
   "source": [
    "# 利用贝叶斯优化的tpe算法对四个模型调参，并加入惩罚，迭代次数为默认的100\n",
    "best_para_dict = am.para_optimize(X_train_trans, Y_train, mapper, algo='tpe', model_list=['xgb', 'lgbm', 'gbdt', 'rf'],\n",
    "                                  penalty_space=0.02, penalty_weight=1)"
   ]
  },
  {
   "cell_type": "code",
   "execution_count": null,
   "metadata": {},
   "outputs": [],
   "source": []
  },
  {
   "cell_type": "code",
   "execution_count": 82,
   "metadata": {
    "ExecuteTime": {
     "end_time": "2019-09-11T04:39:08.529877Z",
     "start_time": "2019-09-11T04:39:04.498650Z"
    }
   },
   "outputs": [
    {
     "name": "stdout",
     "output_type": "stream",
     "text": [
      ">> LightGBM 模型效果如下:\n",
      ">> 训练KS值: 0.4024  AUC值: 0.7693\n",
      ">> 测试KS值: 0.3792  AUC值: 0.7348\n"
     ]
    }
   ],
   "source": [
    "# 按照parameter_optimization返回的结果,建立lightgbm模型,且无跨时间测试数据集\n",
    "model = am.get_bset_para_model(best_para_dict, 'lgbm', mapper, [[X_train_trans,Y_train],[X_test_trans,Y_test],[None,None]])"
   ]
  },
  {
   "cell_type": "code",
   "execution_count": 83,
   "metadata": {
    "ExecuteTime": {
     "end_time": "2019-09-11T04:39:41.549770Z",
     "start_time": "2019-09-11T04:39:09.134914Z"
    }
   },
   "outputs": [
    {
     "name": "stdout",
     "output_type": "stream",
     "text": [
      ">> XGBoost 模型效果如下:\n",
      ">> 训练KS值: 0.4112  AUC值: 0.7734\n",
      ">> 测试KS值: 0.3772  AUC值: 0.7396\n",
      ">> 跨时间测试KS值: 0.3492  AUC值: 0.7334\n"
     ]
    }
   ],
   "source": [
    "# 按照parameter_optimization返回的结果,建立最优模型\n",
    "model = am.get_bset_para_model(best_para_dict, 'best', mapper,\n",
    "                               [[X_train_trans,Y_train],[X_test_trans,Y_test],[X_time_test_trans,Y_time_test]])"
   ]
  },
  {
   "cell_type": "markdown",
   "metadata": {},
   "source": [
    "## 生成结果报表"
   ]
  },
  {
   "cell_type": "code",
   "execution_count": 84,
   "metadata": {
    "ExecuteTime": {
     "end_time": "2019-09-11T04:39:42.635835Z",
     "start_time": "2019-09-11T04:39:42.154803Z"
    }
   },
   "outputs": [],
   "source": [
    "# 转换陪跑数据集\n",
    "pp_data_trans = am.get_pp_data_trans(pp_data, keep_cols, date_span=6)\n",
    "\n",
    "datalist = [[X_train_trans,Y_train],[X_test_trans,Y_test],[X_time_test_trans,Y_time_test],[pp_data_trans]]"
   ]
  },
  {
   "cell_type": "code",
   "execution_count": null,
   "metadata": {},
   "outputs": [],
   "source": []
  },
  {
   "cell_type": "code",
   "execution_count": 85,
   "metadata": {
    "ExecuteTime": {
     "end_time": "2019-09-11T04:41:00.338285Z",
     "start_time": "2019-09-11T04:39:43.512886Z"
    },
    "scrolled": true
   },
   "outputs": [
    {
     "name": "stdout",
     "output_type": "stream",
     "text": [
      ">> 开始尝试分组方案 [■■■■■■■■■■■■■■■■■■■■■■■■■■■■■■■■■■■■■■■■■■■■■■■■■■]\n",
      ">> 共尝试了81种分组方案,最优分组方案为 [12, 33, 67, 88]\n",
      ">> 该分组方案各组数目占比累加值为 [0.12, 0.33, 0.67, 0.88]\n"
     ]
    },
    {
     "data": {
      "text/html": [
       "[12, 33, 67, 88]"
      ],
      "text/plain": [
       "[12, 33, 67, 88]"
      ]
     },
     "execution_count": 85,
     "metadata": {},
     "output_type": "execute_result"
    }
   ],
   "source": [
    "# 需要分组时,生成最优分组方案\n",
    "group_final = am.get_group_final(datalist, model=model, mapper=mapper, group_nums=5, group_norm='pp')\n",
    "group_final"
   ]
  },
  {
   "cell_type": "code",
   "execution_count": 86,
   "metadata": {
    "ExecuteTime": {
     "end_time": "2019-09-11T04:41:34.952271Z",
     "start_time": "2019-09-11T04:41:01.213339Z"
    }
   },
   "outputs": [
    {
     "data": {
      "text/html": [
       "<div>\n",
       "<style scoped>\n",
       "    .dataframe tbody tr th:only-of-type {\n",
       "        vertical-align: middle;\n",
       "    }\n",
       "\n",
       "    .dataframe tbody tr th {\n",
       "        vertical-align: top;\n",
       "    }\n",
       "\n",
       "    .dataframe thead th {\n",
       "        text-align: right;\n",
       "    }\n",
       "</style>\n",
       "<table border=\"1\" class=\"dataframe\">\n",
       "  <thead>\n",
       "    <tr style=\"text-align: right;\">\n",
       "      <th></th>\n",
       "      <th>训练集总数</th>\n",
       "      <th>训练集目标数</th>\n",
       "      <th>训练集分组占比</th>\n",
       "      <th>训练集目标占比</th>\n",
       "      <th>测试集总数</th>\n",
       "      <th>测试集目标数</th>\n",
       "      <th>测试集分组占比</th>\n",
       "      <th>测试集目标占比</th>\n",
       "      <th>跨时间测试集总数</th>\n",
       "      <th>跨时间测试集目标数</th>\n",
       "      <th>跨时间测试集分组占比</th>\n",
       "      <th>跨时间测试集目标占比</th>\n",
       "      <th>陪跑总数</th>\n",
       "      <th>陪跑分组占比</th>\n",
       "      <th>预测结果阈值</th>\n",
       "    </tr>\n",
       "    <tr>\n",
       "      <th>rank</th>\n",
       "      <th></th>\n",
       "      <th></th>\n",
       "      <th></th>\n",
       "      <th></th>\n",
       "      <th></th>\n",
       "      <th></th>\n",
       "      <th></th>\n",
       "      <th></th>\n",
       "      <th></th>\n",
       "      <th></th>\n",
       "      <th></th>\n",
       "      <th></th>\n",
       "      <th></th>\n",
       "      <th></th>\n",
       "      <th></th>\n",
       "    </tr>\n",
       "  </thead>\n",
       "  <tbody>\n",
       "    <tr>\n",
       "      <th>1.0</th>\n",
       "      <td>2133</td>\n",
       "      <td>570</td>\n",
       "      <td>0.1246</td>\n",
       "      <td>0.2672</td>\n",
       "      <td>910</td>\n",
       "      <td>191</td>\n",
       "      <td>0.1240</td>\n",
       "      <td>0.2099</td>\n",
       "      <td>4645</td>\n",
       "      <td>1092</td>\n",
       "      <td>0.1254</td>\n",
       "      <td>0.2351</td>\n",
       "      <td>5020</td>\n",
       "      <td>0.12</td>\n",
       "      <td>1.0000</td>\n",
       "    </tr>\n",
       "    <tr>\n",
       "      <th>2.0</th>\n",
       "      <td>3597</td>\n",
       "      <td>407</td>\n",
       "      <td>0.2101</td>\n",
       "      <td>0.1131</td>\n",
       "      <td>1595</td>\n",
       "      <td>200</td>\n",
       "      <td>0.2173</td>\n",
       "      <td>0.1254</td>\n",
       "      <td>7775</td>\n",
       "      <td>878</td>\n",
       "      <td>0.2099</td>\n",
       "      <td>0.1129</td>\n",
       "      <td>8785</td>\n",
       "      <td>0.21</td>\n",
       "      <td>0.1550</td>\n",
       "    </tr>\n",
       "    <tr>\n",
       "      <th>3.0</th>\n",
       "      <td>5756</td>\n",
       "      <td>291</td>\n",
       "      <td>0.3362</td>\n",
       "      <td>0.0506</td>\n",
       "      <td>2415</td>\n",
       "      <td>119</td>\n",
       "      <td>0.3291</td>\n",
       "      <td>0.0493</td>\n",
       "      <td>12714</td>\n",
       "      <td>739</td>\n",
       "      <td>0.3432</td>\n",
       "      <td>0.0581</td>\n",
       "      <td>14224</td>\n",
       "      <td>0.34</td>\n",
       "      <td>0.0801</td>\n",
       "    </tr>\n",
       "    <tr>\n",
       "      <th>4.0</th>\n",
       "      <td>3626</td>\n",
       "      <td>94</td>\n",
       "      <td>0.2118</td>\n",
       "      <td>0.0259</td>\n",
       "      <td>1557</td>\n",
       "      <td>52</td>\n",
       "      <td>0.2122</td>\n",
       "      <td>0.0334</td>\n",
       "      <td>7711</td>\n",
       "      <td>226</td>\n",
       "      <td>0.2082</td>\n",
       "      <td>0.0293</td>\n",
       "      <td>8785</td>\n",
       "      <td>0.21</td>\n",
       "      <td>0.0396</td>\n",
       "    </tr>\n",
       "    <tr>\n",
       "      <th>5.0</th>\n",
       "      <td>2010</td>\n",
       "      <td>16</td>\n",
       "      <td>0.1174</td>\n",
       "      <td>0.0080</td>\n",
       "      <td>862</td>\n",
       "      <td>14</td>\n",
       "      <td>0.1175</td>\n",
       "      <td>0.0162</td>\n",
       "      <td>4196</td>\n",
       "      <td>89</td>\n",
       "      <td>0.1133</td>\n",
       "      <td>0.0212</td>\n",
       "      <td>5020</td>\n",
       "      <td>0.12</td>\n",
       "      <td>0.0253</td>\n",
       "    </tr>\n",
       "  </tbody>\n",
       "</table>\n",
       "</div>"
      ],
      "text/plain": [
       "      训练集总数  训练集目标数  训练集分组占比  训练集目标占比  测试集总数  测试集目标数  测试集分组占比  测试集目标占比  \\\n",
       "rank                                                                     \n",
       "1.0    2133     570   0.1246   0.2672    910     191   0.1240   0.2099   \n",
       "2.0    3597     407   0.2101   0.1131   1595     200   0.2173   0.1254   \n",
       "3.0    5756     291   0.3362   0.0506   2415     119   0.3291   0.0493   \n",
       "4.0    3626      94   0.2118   0.0259   1557      52   0.2122   0.0334   \n",
       "5.0    2010      16   0.1174   0.0080    862      14   0.1175   0.0162   \n",
       "\n",
       "      跨时间测试集总数  跨时间测试集目标数  跨时间测试集分组占比  跨时间测试集目标占比   陪跑总数  陪跑分组占比  预测结果阈值  \n",
       "rank                                                                      \n",
       "1.0       4645       1092      0.1254      0.2351   5020    0.12  1.0000  \n",
       "2.0       7775        878      0.2099      0.1129   8785    0.21  0.1550  \n",
       "3.0      12714        739      0.3432      0.0581  14224    0.34  0.0801  \n",
       "4.0       7711        226      0.2082      0.0293   8785    0.21  0.0396  \n",
       "5.0       4196         89      0.1133      0.0212   5020    0.12  0.0253  "
      ]
     },
     "execution_count": 86,
     "metadata": {},
     "output_type": "execute_result"
    }
   ],
   "source": [
    "# get_group_final方法选出的最优分组方案的各组情况\n",
    "result_rank, pp_rank = am.get_result_table(datalist, model=model, mapper=mapper, group_method=group_final, group_norm='pp')\n",
    "result_rank"
   ]
  },
  {
   "cell_type": "code",
   "execution_count": 87,
   "metadata": {
    "ExecuteTime": {
     "end_time": "2019-09-11T04:42:07.518131Z",
     "start_time": "2019-09-11T04:41:35.844314Z"
    }
   },
   "outputs": [
    {
     "data": {
      "text/html": [
       "<div>\n",
       "<style scoped>\n",
       "    .dataframe tbody tr th:only-of-type {\n",
       "        vertical-align: middle;\n",
       "    }\n",
       "\n",
       "    .dataframe tbody tr th {\n",
       "        vertical-align: top;\n",
       "    }\n",
       "\n",
       "    .dataframe thead th {\n",
       "        text-align: right;\n",
       "    }\n",
       "</style>\n",
       "<table border=\"1\" class=\"dataframe\">\n",
       "  <thead>\n",
       "    <tr style=\"text-align: right;\">\n",
       "      <th></th>\n",
       "      <th>训练集总数</th>\n",
       "      <th>训练集目标数</th>\n",
       "      <th>训练集目标占比</th>\n",
       "      <th>测试集总数</th>\n",
       "      <th>测试集目标数</th>\n",
       "      <th>测试集目标占比</th>\n",
       "      <th>跨时间测试集总数</th>\n",
       "      <th>跨时间测试集目标数</th>\n",
       "      <th>跨时间测试集目标占比</th>\n",
       "    </tr>\n",
       "    <tr>\n",
       "      <th>rank</th>\n",
       "      <th></th>\n",
       "      <th></th>\n",
       "      <th></th>\n",
       "      <th></th>\n",
       "      <th></th>\n",
       "      <th></th>\n",
       "      <th></th>\n",
       "      <th></th>\n",
       "      <th></th>\n",
       "    </tr>\n",
       "  </thead>\n",
       "  <tbody>\n",
       "    <tr>\n",
       "      <th>1.0</th>\n",
       "      <td>1713</td>\n",
       "      <td>495</td>\n",
       "      <td>0.2890</td>\n",
       "      <td>734</td>\n",
       "      <td>160</td>\n",
       "      <td>0.2180</td>\n",
       "      <td>3705</td>\n",
       "      <td>916</td>\n",
       "      <td>0.2472</td>\n",
       "    </tr>\n",
       "    <tr>\n",
       "      <th>2.0</th>\n",
       "      <td>1712</td>\n",
       "      <td>266</td>\n",
       "      <td>0.1554</td>\n",
       "      <td>734</td>\n",
       "      <td>120</td>\n",
       "      <td>0.1635</td>\n",
       "      <td>3704</td>\n",
       "      <td>553</td>\n",
       "      <td>0.1493</td>\n",
       "    </tr>\n",
       "    <tr>\n",
       "      <th>3.0</th>\n",
       "      <td>1712</td>\n",
       "      <td>173</td>\n",
       "      <td>0.1011</td>\n",
       "      <td>734</td>\n",
       "      <td>80</td>\n",
       "      <td>0.1090</td>\n",
       "      <td>3704</td>\n",
       "      <td>403</td>\n",
       "      <td>0.1088</td>\n",
       "    </tr>\n",
       "    <tr>\n",
       "      <th>4.0</th>\n",
       "      <td>1712</td>\n",
       "      <td>112</td>\n",
       "      <td>0.0654</td>\n",
       "      <td>734</td>\n",
       "      <td>69</td>\n",
       "      <td>0.0940</td>\n",
       "      <td>3704</td>\n",
       "      <td>292</td>\n",
       "      <td>0.0788</td>\n",
       "    </tr>\n",
       "    <tr>\n",
       "      <th>5.0</th>\n",
       "      <td>1712</td>\n",
       "      <td>100</td>\n",
       "      <td>0.0584</td>\n",
       "      <td>734</td>\n",
       "      <td>44</td>\n",
       "      <td>0.0599</td>\n",
       "      <td>3704</td>\n",
       "      <td>248</td>\n",
       "      <td>0.0670</td>\n",
       "    </tr>\n",
       "    <tr>\n",
       "      <th>6.0</th>\n",
       "      <td>1712</td>\n",
       "      <td>75</td>\n",
       "      <td>0.0438</td>\n",
       "      <td>733</td>\n",
       "      <td>26</td>\n",
       "      <td>0.0355</td>\n",
       "      <td>3704</td>\n",
       "      <td>172</td>\n",
       "      <td>0.0464</td>\n",
       "    </tr>\n",
       "    <tr>\n",
       "      <th>7.0</th>\n",
       "      <td>1712</td>\n",
       "      <td>67</td>\n",
       "      <td>0.0391</td>\n",
       "      <td>734</td>\n",
       "      <td>20</td>\n",
       "      <td>0.0272</td>\n",
       "      <td>3704</td>\n",
       "      <td>149</td>\n",
       "      <td>0.0402</td>\n",
       "    </tr>\n",
       "    <tr>\n",
       "      <th>8.0</th>\n",
       "      <td>1712</td>\n",
       "      <td>50</td>\n",
       "      <td>0.0292</td>\n",
       "      <td>734</td>\n",
       "      <td>31</td>\n",
       "      <td>0.0422</td>\n",
       "      <td>3704</td>\n",
       "      <td>117</td>\n",
       "      <td>0.0316</td>\n",
       "    </tr>\n",
       "    <tr>\n",
       "      <th>9.0</th>\n",
       "      <td>1712</td>\n",
       "      <td>27</td>\n",
       "      <td>0.0158</td>\n",
       "      <td>734</td>\n",
       "      <td>12</td>\n",
       "      <td>0.0163</td>\n",
       "      <td>3704</td>\n",
       "      <td>99</td>\n",
       "      <td>0.0267</td>\n",
       "    </tr>\n",
       "    <tr>\n",
       "      <th>10.0</th>\n",
       "      <td>1713</td>\n",
       "      <td>13</td>\n",
       "      <td>0.0076</td>\n",
       "      <td>734</td>\n",
       "      <td>14</td>\n",
       "      <td>0.0191</td>\n",
       "      <td>3704</td>\n",
       "      <td>75</td>\n",
       "      <td>0.0202</td>\n",
       "    </tr>\n",
       "  </tbody>\n",
       "</table>\n",
       "</div>"
      ],
      "text/plain": [
       "      训练集总数  训练集目标数  训练集目标占比  测试集总数  测试集目标数  测试集目标占比  跨时间测试集总数  跨时间测试集目标数  \\\n",
       "rank                                                                        \n",
       "1.0    1713     495   0.2890    734     160   0.2180      3705        916   \n",
       "2.0    1712     266   0.1554    734     120   0.1635      3704        553   \n",
       "3.0    1712     173   0.1011    734      80   0.1090      3704        403   \n",
       "4.0    1712     112   0.0654    734      69   0.0940      3704        292   \n",
       "5.0    1712     100   0.0584    734      44   0.0599      3704        248   \n",
       "6.0    1712      75   0.0438    733      26   0.0355      3704        172   \n",
       "7.0    1712      67   0.0391    734      20   0.0272      3704        149   \n",
       "8.0    1712      50   0.0292    734      31   0.0422      3704        117   \n",
       "9.0    1712      27   0.0158    734      12   0.0163      3704         99   \n",
       "10.0   1713      13   0.0076    734      14   0.0191      3704         75   \n",
       "\n",
       "      跨时间测试集目标占比  \n",
       "rank              \n",
       "1.0       0.2472  \n",
       "2.0       0.1493  \n",
       "3.0       0.1088  \n",
       "4.0       0.0788  \n",
       "5.0       0.0670  \n",
       "6.0       0.0464  \n",
       "7.0       0.0402  \n",
       "8.0       0.0316  \n",
       "9.0       0.0267  \n",
       "10.0      0.0202  "
      ]
     },
     "execution_count": 87,
     "metadata": {},
     "output_type": "execute_result"
    }
   ],
   "source": [
    "# 查看十等分情况\n",
    "result_rank, pp_rank = am.get_result_table(datalist, model=model, mapper=mapper, group_method=10)\n",
    "result_rank"
   ]
  },
  {
   "cell_type": "code",
   "execution_count": null,
   "metadata": {
    "ExecuteTime": {
     "end_time": "2019-06-27T01:17:00.266105Z",
     "start_time": "2019-06-27T01:17:00.261103Z"
    }
   },
   "outputs": [],
   "source": []
  },
  {
   "cell_type": "code",
   "execution_count": 88,
   "metadata": {
    "ExecuteTime": {
     "end_time": "2019-09-11T04:59:06.709505Z",
     "start_time": "2019-09-11T04:42:08.393191Z"
    }
   },
   "outputs": [
    {
     "name": "stdout",
     "output_type": "stream",
     "text": [
      ">> 模型训练样本情况绘制完成\n",
      ">> 模型分组排序情况绘制完成\n",
      ">> 跨时间分组分布绘制完成\n",
      ">> 模型解释绘制完成\n",
      ">> 可视化报表已输出\n"
     ]
    }
   ],
   "source": [
    "# 生成最优分组方案的报表，因datalist中陪跑数据集非None，并且以陪跑为分组标准，报表会展示陪跑分布\n",
    "am.result_report(datalist, model=model, mapper=mapper, group_method=group_final, group_norm='pp', \n",
    "                 report_file=r'./usage/result/result_report_defined_group.html')"
   ]
  },
  {
   "cell_type": "code",
   "execution_count": 89,
   "metadata": {
    "ExecuteTime": {
     "end_time": "2019-09-11T05:15:57.711391Z",
     "start_time": "2019-09-11T04:59:07.712555Z"
    }
   },
   "outputs": [
    {
     "name": "stdout",
     "output_type": "stream",
     "text": [
      ">> 模型训练样本情况绘制完成\n",
      ">> 模型分组排序情况绘制完成\n",
      ">> 模型解释绘制完成\n",
      ">> 可视化报表已输出\n"
     ]
    }
   ],
   "source": [
    "# 生成十等分方案的报表\n",
    "am.result_report(datalist, model=model, mapper=mapper, group_method=10, report_file=r'./usage/result/result_report_defined_10.html')"
   ]
  },
  {
   "cell_type": "code",
   "execution_count": null,
   "metadata": {},
   "outputs": [],
   "source": []
  },
  {
   "cell_type": "code",
   "execution_count": 90,
   "metadata": {
    "ExecuteTime": {
     "end_time": "2019-09-11T05:17:05.532273Z",
     "start_time": "2019-09-11T05:15:58.691446Z"
    }
   },
   "outputs": [
    {
     "name": "stdout",
     "output_type": "stream",
     "text": [
      ">> 模型建立完成,模型文件已输出\n"
     ]
    }
   ],
   "source": [
    "# 输出pkl、pmml文件\n",
    "am.get_model_file(model, mapper, X_train_trans, Y_train, pkl_file=r'./usage/result/model_defined.pkl', \n",
    "                  pmml_file=r'./usage/result/model_defined.pmml')"
   ]
  },
  {
   "cell_type": "code",
   "execution_count": 91,
   "metadata": {
    "ExecuteTime": {
     "end_time": "2019-09-11T05:17:07.546392Z",
     "start_time": "2019-09-11T05:17:06.419327Z"
    }
   },
   "outputs": [
    {
     "name": "stdout",
     "output_type": "stream",
     "text": [
      ">> PMML文件修改完成,按照各组阈值增加新输出Group\n"
     ]
    }
   ],
   "source": [
    "# 获得分组阈值\n",
    "group_score = am.get_group_score(datalist, model_pkl=r'./usage/result/model_defined.pkl', group_final=group_final, group_norm='pp')\n",
    "\n",
    "# 修改pmml文件，增加group输出\n",
    "am.modifying_pmml(pmml_file_in=r'./usage/result/model_defined.pmml',\n",
    "                  pmml_file_out=r'./usage/result/model_defined_modifying.pmml',\n",
    "                  group_score=group_score)"
   ]
  },
  {
   "cell_type": "code",
   "execution_count": null,
   "metadata": {},
   "outputs": [],
   "source": []
  },
  {
   "cell_type": "code",
   "execution_count": 92,
   "metadata": {
    "ExecuteTime": {
     "end_time": "2019-09-11T05:19:34.764824Z",
     "start_time": "2019-09-11T05:17:08.430443Z"
    }
   },
   "outputs": [
    {
     "name": "stdout",
     "output_type": "stream",
     "text": [
      "已计算完成1000个样本\n",
      "已计算完成2000个样本\n",
      "已计算完成3000个样本\n",
      "已计算完成4000个样本\n",
      "已计算完成5000个样本\n",
      "已计算完成6000个样本\n",
      "已计算完成7000个样本\n",
      "全部样本计算完成\n"
     ]
    },
    {
     "data": {
      "text/html": [
       "<div>\n",
       "<style scoped>\n",
       "    .dataframe tbody tr th:only-of-type {\n",
       "        vertical-align: middle;\n",
       "    }\n",
       "\n",
       "    .dataframe tbody tr th {\n",
       "        vertical-align: top;\n",
       "    }\n",
       "\n",
       "    .dataframe thead th {\n",
       "        text-align: right;\n",
       "    }\n",
       "</style>\n",
       "<table border=\"1\" class=\"dataframe\">\n",
       "  <thead>\n",
       "    <tr style=\"text-align: right;\">\n",
       "      <th></th>\n",
       "      <th>predict</th>\n",
       "      <th>group</th>\n",
       "    </tr>\n",
       "  </thead>\n",
       "  <tbody>\n",
       "    <tr>\n",
       "      <th>369</th>\n",
       "      <td>0.136163</td>\n",
       "      <td>D</td>\n",
       "    </tr>\n",
       "    <tr>\n",
       "      <th>27923</th>\n",
       "      <td>0.064907</td>\n",
       "      <td>C</td>\n",
       "    </tr>\n",
       "    <tr>\n",
       "      <th>60726</th>\n",
       "      <td>0.032103</td>\n",
       "      <td>A</td>\n",
       "    </tr>\n",
       "    <tr>\n",
       "      <th>45143</th>\n",
       "      <td>0.059516</td>\n",
       "      <td>B</td>\n",
       "    </tr>\n",
       "    <tr>\n",
       "      <th>8653</th>\n",
       "      <td>0.217302</td>\n",
       "      <td>D</td>\n",
       "    </tr>\n",
       "  </tbody>\n",
       "</table>\n",
       "</div>"
      ],
      "text/plain": [
       "        predict group\n",
       "369    0.136163     D\n",
       "27923  0.064907     C\n",
       "60726  0.032103     A\n",
       "45143  0.059516     B\n",
       "8653   0.217302     D"
      ]
     },
     "execution_count": 92,
     "metadata": {},
     "output_type": "execute_result"
    }
   ],
   "source": [
    "# 使用带有分组的pmml文件预测\n",
    "am.get_model_predict(r'./usage/result/model_complete_fullmodify1.pmml', X_test_trans).head()"
   ]
  },
  {
   "cell_type": "code",
   "execution_count": null,
   "metadata": {},
   "outputs": [],
   "source": []
  }
 ],
 "metadata": {
  "kernelspec": {
   "display_name": "Python 3",
   "language": "python",
   "name": "python3"
  },
  "language_info": {
   "codemirror_mode": {
    "name": "ipython",
    "version": 3
   },
   "file_extension": ".py",
   "mimetype": "text/x-python",
   "name": "python",
   "nbconvert_exporter": "python",
   "pygments_lexer": "ipython3",
   "version": "3.6.5"
  },
  "toc": {
   "base_numbering": 1,
   "nav_menu": {},
   "number_sections": true,
   "sideBar": true,
   "skip_h1_title": false,
   "title_cell": "Table of Contents",
   "title_sidebar": "Contents",
   "toc_cell": false,
   "toc_position": {},
   "toc_section_display": true,
   "toc_window_display": false
  },
  "varInspector": {
   "cols": {
    "lenName": 16,
    "lenType": 16,
    "lenVar": 40
   },
   "kernels_config": {
    "python": {
     "delete_cmd_postfix": "",
     "delete_cmd_prefix": "del ",
     "library": "var_list.py",
     "varRefreshCmd": "print(var_dic_list())"
    },
    "r": {
     "delete_cmd_postfix": ") ",
     "delete_cmd_prefix": "rm(",
     "library": "var_list.r",
     "varRefreshCmd": "cat(var_dic_list()) "
    }
   },
   "types_to_exclude": [
    "module",
    "function",
    "builtin_function_or_method",
    "instance",
    "_Feature"
   ],
   "window_display": false
  }
 },
 "nbformat": 4,
 "nbformat_minor": 2
}
