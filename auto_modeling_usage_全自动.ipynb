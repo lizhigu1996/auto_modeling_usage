{
 "cells": [
  {
   "cell_type": "markdown",
   "metadata": {
    "ExecuteTime": {
     "end_time": "2019-06-21T03:23:34.853661Z",
     "start_time": "2019-06-21T03:23:34.846658Z"
    }
   },
   "source": [
    "## 导入数据集\n",
    "此处输入 **建模数据和陪跑数据(如果没有陪跑则无需导入)**  \n",
    "1. **建模数据格式：**（需有TARGET(目前脚本只支持二分类模型,目标值为1,非目标值为0)、(DATE(格式为yyyy-mm-dd或yyyy-mm))以及变量X1、...、Xn） \n",
    "\n",
    "| TARGET | (DATE) | X1 | ... | Xn |\n",
    "|----|----|----|----|----|\n",
    "|1|2018-12(-10)|x11|...|x1n|\n",
    "|0|2018-12(-11)|x12|...|x2n|\n",
    "\n",
    "2. **陪跑数据格式：**（需有DATE(格式为yyyy-mm-dd或yyyy-mm)以及变量X1、...、Xn） \n",
    "\n",
    "| DATE | X1 | ... | Xn |\n",
    "|----|----|----|----|\n",
    "|2018-12(-10)|x11|...|x1n|\n",
    "|2018-12(-11)|x12|...|x2n|\n"
   ]
  },
  {
   "cell_type": "code",
   "execution_count": 1,
   "metadata": {
    "ExecuteTime": {
     "end_time": "2019-09-09T08:00:53.105740Z",
     "start_time": "2019-09-09T08:00:52.362692Z"
    }
   },
   "outputs": [],
   "source": [
    "import numpy as np\n",
    "import pandas as pd"
   ]
  },
  {
   "cell_type": "code",
   "execution_count": 2,
   "metadata": {
    "ExecuteTime": {
     "end_time": "2019-09-09T08:00:56.883959Z",
     "start_time": "2019-09-09T08:00:54.143801Z"
    }
   },
   "outputs": [
    {
     "data": {
      "text/html": [
       "<div>\n",
       "<style scoped>\n",
       "    .dataframe tbody tr th:only-of-type {\n",
       "        vertical-align: middle;\n",
       "    }\n",
       "\n",
       "    .dataframe tbody tr th {\n",
       "        vertical-align: top;\n",
       "    }\n",
       "\n",
       "    .dataframe thead th {\n",
       "        text-align: right;\n",
       "    }\n",
       "</style>\n",
       "<table border=\"1\" class=\"dataframe\">\n",
       "  <thead>\n",
       "    <tr style=\"text-align: right;\">\n",
       "      <th></th>\n",
       "      <th>SK_ID_CURR</th>\n",
       "      <th>TARGET</th>\n",
       "      <th>NAME_CONTRACT_TYPE</th>\n",
       "      <th>CODE_GENDER</th>\n",
       "      <th>FLAG_OWN_CAR</th>\n",
       "      <th>FLAG_OWN_REALTY</th>\n",
       "      <th>CNT_CHILDREN</th>\n",
       "      <th>AMT_INCOME_TOTAL</th>\n",
       "      <th>AMT_CREDIT</th>\n",
       "      <th>AMT_ANNUITY</th>\n",
       "      <th>...</th>\n",
       "      <th>FLAG_DOCUMENT_19</th>\n",
       "      <th>FLAG_DOCUMENT_20</th>\n",
       "      <th>FLAG_DOCUMENT_21</th>\n",
       "      <th>AMT_REQ_CREDIT_BUREAU_HOUR</th>\n",
       "      <th>AMT_REQ_CREDIT_BUREAU_DAY</th>\n",
       "      <th>AMT_REQ_CREDIT_BUREAU_WEEK</th>\n",
       "      <th>AMT_REQ_CREDIT_BUREAU_MON</th>\n",
       "      <th>AMT_REQ_CREDIT_BUREAU_QRT</th>\n",
       "      <th>AMT_REQ_CREDIT_BUREAU_YEAR</th>\n",
       "      <th>DATE</th>\n",
       "    </tr>\n",
       "  </thead>\n",
       "  <tbody>\n",
       "    <tr>\n",
       "      <th>0</th>\n",
       "      <td>145457</td>\n",
       "      <td>0</td>\n",
       "      <td>Cash loans</td>\n",
       "      <td>M</td>\n",
       "      <td>Y</td>\n",
       "      <td>N</td>\n",
       "      <td>0</td>\n",
       "      <td>288000.0</td>\n",
       "      <td>242595.0</td>\n",
       "      <td>10813.5</td>\n",
       "      <td>...</td>\n",
       "      <td>0</td>\n",
       "      <td>0</td>\n",
       "      <td>0</td>\n",
       "      <td>0.0</td>\n",
       "      <td>0.0</td>\n",
       "      <td>0.0</td>\n",
       "      <td>0.0</td>\n",
       "      <td>0.0</td>\n",
       "      <td>2.0</td>\n",
       "      <td>2018-05</td>\n",
       "    </tr>\n",
       "    <tr>\n",
       "      <th>1</th>\n",
       "      <td>128979</td>\n",
       "      <td>0</td>\n",
       "      <td>Cash loans</td>\n",
       "      <td>F</td>\n",
       "      <td>N</td>\n",
       "      <td>N</td>\n",
       "      <td>0</td>\n",
       "      <td>94500.0</td>\n",
       "      <td>646920.0</td>\n",
       "      <td>20866.5</td>\n",
       "      <td>...</td>\n",
       "      <td>0</td>\n",
       "      <td>0</td>\n",
       "      <td>0</td>\n",
       "      <td>0.0</td>\n",
       "      <td>0.0</td>\n",
       "      <td>0.0</td>\n",
       "      <td>0.0</td>\n",
       "      <td>0.0</td>\n",
       "      <td>3.0</td>\n",
       "      <td>2018-05</td>\n",
       "    </tr>\n",
       "    <tr>\n",
       "      <th>2</th>\n",
       "      <td>145448</td>\n",
       "      <td>0</td>\n",
       "      <td>Cash loans</td>\n",
       "      <td>M</td>\n",
       "      <td>Y</td>\n",
       "      <td>Y</td>\n",
       "      <td>1</td>\n",
       "      <td>225000.0</td>\n",
       "      <td>183294.0</td>\n",
       "      <td>14823.0</td>\n",
       "      <td>...</td>\n",
       "      <td>0</td>\n",
       "      <td>0</td>\n",
       "      <td>0</td>\n",
       "      <td>0.0</td>\n",
       "      <td>0.0</td>\n",
       "      <td>0.0</td>\n",
       "      <td>0.0</td>\n",
       "      <td>0.0</td>\n",
       "      <td>5.0</td>\n",
       "      <td>2018-03</td>\n",
       "    </tr>\n",
       "    <tr>\n",
       "      <th>3</th>\n",
       "      <td>294475</td>\n",
       "      <td>0</td>\n",
       "      <td>Cash loans</td>\n",
       "      <td>M</td>\n",
       "      <td>Y</td>\n",
       "      <td>N</td>\n",
       "      <td>0</td>\n",
       "      <td>180000.0</td>\n",
       "      <td>260640.0</td>\n",
       "      <td>20169.0</td>\n",
       "      <td>...</td>\n",
       "      <td>0</td>\n",
       "      <td>0</td>\n",
       "      <td>0</td>\n",
       "      <td>0.0</td>\n",
       "      <td>0.0</td>\n",
       "      <td>0.0</td>\n",
       "      <td>1.0</td>\n",
       "      <td>0.0</td>\n",
       "      <td>1.0</td>\n",
       "      <td>2018-04</td>\n",
       "    </tr>\n",
       "    <tr>\n",
       "      <th>4</th>\n",
       "      <td>216609</td>\n",
       "      <td>0</td>\n",
       "      <td>Revolving loans</td>\n",
       "      <td>M</td>\n",
       "      <td>Y</td>\n",
       "      <td>Y</td>\n",
       "      <td>1</td>\n",
       "      <td>112500.0</td>\n",
       "      <td>180000.0</td>\n",
       "      <td>9000.0</td>\n",
       "      <td>...</td>\n",
       "      <td>0</td>\n",
       "      <td>0</td>\n",
       "      <td>0</td>\n",
       "      <td>0.0</td>\n",
       "      <td>0.0</td>\n",
       "      <td>1.0</td>\n",
       "      <td>0.0</td>\n",
       "      <td>0.0</td>\n",
       "      <td>0.0</td>\n",
       "      <td>2018-03</td>\n",
       "    </tr>\n",
       "  </tbody>\n",
       "</table>\n",
       "<p>5 rows × 123 columns</p>\n",
       "</div>"
      ],
      "text/plain": [
       "   SK_ID_CURR  TARGET NAME_CONTRACT_TYPE CODE_GENDER FLAG_OWN_CAR  \\\n",
       "0      145457       0         Cash loans           M            Y   \n",
       "1      128979       0         Cash loans           F            N   \n",
       "2      145448       0         Cash loans           M            Y   \n",
       "3      294475       0         Cash loans           M            Y   \n",
       "4      216609       0    Revolving loans           M            Y   \n",
       "\n",
       "  FLAG_OWN_REALTY  CNT_CHILDREN  AMT_INCOME_TOTAL  AMT_CREDIT  AMT_ANNUITY  \\\n",
       "0               N             0          288000.0    242595.0      10813.5   \n",
       "1               N             0           94500.0    646920.0      20866.5   \n",
       "2               Y             1          225000.0    183294.0      14823.0   \n",
       "3               N             0          180000.0    260640.0      20169.0   \n",
       "4               Y             1          112500.0    180000.0       9000.0   \n",
       "\n",
       "   ...  FLAG_DOCUMENT_19 FLAG_DOCUMENT_20 FLAG_DOCUMENT_21  \\\n",
       "0  ...                 0                0                0   \n",
       "1  ...                 0                0                0   \n",
       "2  ...                 0                0                0   \n",
       "3  ...                 0                0                0   \n",
       "4  ...                 0                0                0   \n",
       "\n",
       "  AMT_REQ_CREDIT_BUREAU_HOUR AMT_REQ_CREDIT_BUREAU_DAY  \\\n",
       "0                        0.0                       0.0   \n",
       "1                        0.0                       0.0   \n",
       "2                        0.0                       0.0   \n",
       "3                        0.0                       0.0   \n",
       "4                        0.0                       0.0   \n",
       "\n",
       "  AMT_REQ_CREDIT_BUREAU_WEEK  AMT_REQ_CREDIT_BUREAU_MON  \\\n",
       "0                        0.0                        0.0   \n",
       "1                        0.0                        0.0   \n",
       "2                        0.0                        0.0   \n",
       "3                        0.0                        1.0   \n",
       "4                        1.0                        0.0   \n",
       "\n",
       "   AMT_REQ_CREDIT_BUREAU_QRT  AMT_REQ_CREDIT_BUREAU_YEAR     DATE  \n",
       "0                        0.0                         2.0  2018-05  \n",
       "1                        0.0                         3.0  2018-05  \n",
       "2                        0.0                         5.0  2018-03  \n",
       "3                        0.0                         1.0  2018-04  \n",
       "4                        0.0                         0.0  2018-03  \n",
       "\n",
       "[5 rows x 123 columns]"
      ]
     },
     "execution_count": 2,
     "metadata": {},
     "output_type": "execute_result"
    }
   ],
   "source": [
    "with open(r'./usage/data/application_train.csv') as data:\n",
    "    data = pd.read_csv(data, low_memory=False)\n",
    "data.columns = [x.upper() for x in data.columns]\n",
    "\n",
    "data.head()"
   ]
  },
  {
   "cell_type": "code",
   "execution_count": 3,
   "metadata": {
    "ExecuteTime": {
     "end_time": "2019-09-09T08:00:58.920077Z",
     "start_time": "2019-09-09T08:00:56.987957Z"
    }
   },
   "outputs": [
    {
     "data": {
      "text/html": [
       "<div>\n",
       "<style scoped>\n",
       "    .dataframe tbody tr th:only-of-type {\n",
       "        vertical-align: middle;\n",
       "    }\n",
       "\n",
       "    .dataframe tbody tr th {\n",
       "        vertical-align: top;\n",
       "    }\n",
       "\n",
       "    .dataframe thead th {\n",
       "        text-align: right;\n",
       "    }\n",
       "</style>\n",
       "<table border=\"1\" class=\"dataframe\">\n",
       "  <thead>\n",
       "    <tr style=\"text-align: right;\">\n",
       "      <th></th>\n",
       "      <th>SK_ID_CURR</th>\n",
       "      <th>NAME_CONTRACT_TYPE</th>\n",
       "      <th>CODE_GENDER</th>\n",
       "      <th>FLAG_OWN_CAR</th>\n",
       "      <th>FLAG_OWN_REALTY</th>\n",
       "      <th>CNT_CHILDREN</th>\n",
       "      <th>AMT_INCOME_TOTAL</th>\n",
       "      <th>AMT_CREDIT</th>\n",
       "      <th>AMT_ANNUITY</th>\n",
       "      <th>AMT_GOODS_PRICE</th>\n",
       "      <th>...</th>\n",
       "      <th>FLAG_DOCUMENT_19</th>\n",
       "      <th>FLAG_DOCUMENT_20</th>\n",
       "      <th>FLAG_DOCUMENT_21</th>\n",
       "      <th>AMT_REQ_CREDIT_BUREAU_HOUR</th>\n",
       "      <th>AMT_REQ_CREDIT_BUREAU_DAY</th>\n",
       "      <th>AMT_REQ_CREDIT_BUREAU_WEEK</th>\n",
       "      <th>AMT_REQ_CREDIT_BUREAU_MON</th>\n",
       "      <th>AMT_REQ_CREDIT_BUREAU_QRT</th>\n",
       "      <th>AMT_REQ_CREDIT_BUREAU_YEAR</th>\n",
       "      <th>DATE</th>\n",
       "    </tr>\n",
       "  </thead>\n",
       "  <tbody>\n",
       "    <tr>\n",
       "      <th>0</th>\n",
       "      <td>100001</td>\n",
       "      <td>Cash loans</td>\n",
       "      <td>F</td>\n",
       "      <td>N</td>\n",
       "      <td>Y</td>\n",
       "      <td>0</td>\n",
       "      <td>135000.0</td>\n",
       "      <td>568800.0</td>\n",
       "      <td>20560.5</td>\n",
       "      <td>450000.0</td>\n",
       "      <td>...</td>\n",
       "      <td>0</td>\n",
       "      <td>0</td>\n",
       "      <td>0</td>\n",
       "      <td>0.0</td>\n",
       "      <td>0.0</td>\n",
       "      <td>0.0</td>\n",
       "      <td>0.0</td>\n",
       "      <td>0.0</td>\n",
       "      <td>0.0</td>\n",
       "      <td>2018-06</td>\n",
       "    </tr>\n",
       "    <tr>\n",
       "      <th>1</th>\n",
       "      <td>100005</td>\n",
       "      <td>Cash loans</td>\n",
       "      <td>M</td>\n",
       "      <td>N</td>\n",
       "      <td>Y</td>\n",
       "      <td>0</td>\n",
       "      <td>99000.0</td>\n",
       "      <td>222768.0</td>\n",
       "      <td>17370.0</td>\n",
       "      <td>180000.0</td>\n",
       "      <td>...</td>\n",
       "      <td>0</td>\n",
       "      <td>0</td>\n",
       "      <td>0</td>\n",
       "      <td>0.0</td>\n",
       "      <td>0.0</td>\n",
       "      <td>0.0</td>\n",
       "      <td>0.0</td>\n",
       "      <td>0.0</td>\n",
       "      <td>3.0</td>\n",
       "      <td>2018-11</td>\n",
       "    </tr>\n",
       "    <tr>\n",
       "      <th>2</th>\n",
       "      <td>100013</td>\n",
       "      <td>Cash loans</td>\n",
       "      <td>M</td>\n",
       "      <td>Y</td>\n",
       "      <td>Y</td>\n",
       "      <td>0</td>\n",
       "      <td>202500.0</td>\n",
       "      <td>663264.0</td>\n",
       "      <td>69777.0</td>\n",
       "      <td>630000.0</td>\n",
       "      <td>...</td>\n",
       "      <td>0</td>\n",
       "      <td>0</td>\n",
       "      <td>0</td>\n",
       "      <td>0.0</td>\n",
       "      <td>0.0</td>\n",
       "      <td>0.0</td>\n",
       "      <td>0.0</td>\n",
       "      <td>1.0</td>\n",
       "      <td>4.0</td>\n",
       "      <td>2018-09</td>\n",
       "    </tr>\n",
       "    <tr>\n",
       "      <th>3</th>\n",
       "      <td>100028</td>\n",
       "      <td>Cash loans</td>\n",
       "      <td>F</td>\n",
       "      <td>N</td>\n",
       "      <td>Y</td>\n",
       "      <td>2</td>\n",
       "      <td>315000.0</td>\n",
       "      <td>1575000.0</td>\n",
       "      <td>49018.5</td>\n",
       "      <td>1575000.0</td>\n",
       "      <td>...</td>\n",
       "      <td>0</td>\n",
       "      <td>0</td>\n",
       "      <td>0</td>\n",
       "      <td>0.0</td>\n",
       "      <td>0.0</td>\n",
       "      <td>0.0</td>\n",
       "      <td>0.0</td>\n",
       "      <td>0.0</td>\n",
       "      <td>3.0</td>\n",
       "      <td>2018-06</td>\n",
       "    </tr>\n",
       "    <tr>\n",
       "      <th>4</th>\n",
       "      <td>100038</td>\n",
       "      <td>Cash loans</td>\n",
       "      <td>M</td>\n",
       "      <td>Y</td>\n",
       "      <td>N</td>\n",
       "      <td>1</td>\n",
       "      <td>180000.0</td>\n",
       "      <td>625500.0</td>\n",
       "      <td>32067.0</td>\n",
       "      <td>625500.0</td>\n",
       "      <td>...</td>\n",
       "      <td>0</td>\n",
       "      <td>0</td>\n",
       "      <td>0</td>\n",
       "      <td>NaN</td>\n",
       "      <td>NaN</td>\n",
       "      <td>NaN</td>\n",
       "      <td>NaN</td>\n",
       "      <td>NaN</td>\n",
       "      <td>NaN</td>\n",
       "      <td>2018-08</td>\n",
       "    </tr>\n",
       "  </tbody>\n",
       "</table>\n",
       "<p>5 rows × 122 columns</p>\n",
       "</div>"
      ],
      "text/plain": [
       "   SK_ID_CURR NAME_CONTRACT_TYPE CODE_GENDER FLAG_OWN_CAR FLAG_OWN_REALTY  \\\n",
       "0      100001         Cash loans           F            N               Y   \n",
       "1      100005         Cash loans           M            N               Y   \n",
       "2      100013         Cash loans           M            Y               Y   \n",
       "3      100028         Cash loans           F            N               Y   \n",
       "4      100038         Cash loans           M            Y               N   \n",
       "\n",
       "   CNT_CHILDREN  AMT_INCOME_TOTAL  AMT_CREDIT  AMT_ANNUITY  AMT_GOODS_PRICE  \\\n",
       "0             0          135000.0    568800.0      20560.5         450000.0   \n",
       "1             0           99000.0    222768.0      17370.0         180000.0   \n",
       "2             0          202500.0    663264.0      69777.0         630000.0   \n",
       "3             2          315000.0   1575000.0      49018.5        1575000.0   \n",
       "4             1          180000.0    625500.0      32067.0         625500.0   \n",
       "\n",
       "   ... FLAG_DOCUMENT_19 FLAG_DOCUMENT_20 FLAG_DOCUMENT_21  \\\n",
       "0  ...                0                0                0   \n",
       "1  ...                0                0                0   \n",
       "2  ...                0                0                0   \n",
       "3  ...                0                0                0   \n",
       "4  ...                0                0                0   \n",
       "\n",
       "  AMT_REQ_CREDIT_BUREAU_HOUR AMT_REQ_CREDIT_BUREAU_DAY  \\\n",
       "0                        0.0                       0.0   \n",
       "1                        0.0                       0.0   \n",
       "2                        0.0                       0.0   \n",
       "3                        0.0                       0.0   \n",
       "4                        NaN                       NaN   \n",
       "\n",
       "   AMT_REQ_CREDIT_BUREAU_WEEK  AMT_REQ_CREDIT_BUREAU_MON  \\\n",
       "0                         0.0                        0.0   \n",
       "1                         0.0                        0.0   \n",
       "2                         0.0                        0.0   \n",
       "3                         0.0                        0.0   \n",
       "4                         NaN                        NaN   \n",
       "\n",
       "   AMT_REQ_CREDIT_BUREAU_QRT  AMT_REQ_CREDIT_BUREAU_YEAR     DATE  \n",
       "0                        0.0                         0.0  2018-06  \n",
       "1                        0.0                         3.0  2018-11  \n",
       "2                        1.0                         4.0  2018-09  \n",
       "3                        0.0                         3.0  2018-06  \n",
       "4                        NaN                         NaN  2018-08  \n",
       "\n",
       "[5 rows x 122 columns]"
      ]
     },
     "execution_count": 3,
     "metadata": {},
     "output_type": "execute_result"
    }
   ],
   "source": [
    "with open(r'./usage/data/application_pp.csv') as pp_data:\n",
    "    pp_data = pd.read_csv(pp_data, low_memory=False)\n",
    "pp_data.columns = [x.upper() for x in pp_data.columns]\n",
    "\n",
    "pp_data.head()"
   ]
  },
  {
   "cell_type": "markdown",
   "metadata": {},
   "source": [
    "## auto_modeling: 自动化建模脚本\n",
    "\n",
    "输入规定格式数据集,可全自动化或半自动化建模\n",
    "\n",
    "### 方法\n",
    "\n",
    "建模流程主要通过以下几种方法完成:\n",
    "\n",
    "1. 数据集划分\n",
    "2. 特征筛选\n",
    "3. 超参数优化\n",
    "4. 可视化结果报表\n",
    "\n",
    "### 用法\n",
    "\n",
    "参考auto\\_modeling\\_usage\\_自定义.ipynb和auto\\_modeling\\_usage\\_全自动.ipynb了解如何使用\n",
    " \n",
    "\n",
    "\n",
    "### 依赖\n",
    "\n",
    "* numpy = 1.16.2\n",
    "* pandas = 0.24.2\n",
    "* scikit-learn = 0.20.3\n",
    "* scipy = 1.2.1\n",
    "* matplotlib = 3.0.3\n",
    "* seaborn = 0.9.0\n",
    "* warnings\n",
    "* time\n",
    "* gc\n",
    "* lightgbm = 2.2.3\n",
    "* xgboost = 0.82\n",
    "* sklearn_pandas = 1.8.0\n",
    "* sklearn2pmml = 0.43.0\n",
    "* hyperopt = 0.1.2 (可使用贝叶斯优化的tpe算法和随机搜索优化超参数,官方文档:[hyperopt](https://github.com/hyperopt/hyperopt))\n",
    "* bayesian-optimization = 1.0.1 (可使用贝叶斯的高斯过程算法优化超参数,官方文档:[Bayesian Optimization](https://github.com/fmfn/BayesianOptimization))\n",
    "* plotly = 3.7.1 (生成交互式可视化报表,官方文档:[plotly](https://plot.ly/python/))\n",
    "* shap = 0.28.5 (解释机器学习模型,官方文档:[shap](https://github.com/slundberg/shap))\n",
    "* codecs\n",
    "* os\n",
    "* sys\n",
    "* webbrowser\n",
    "\n",
    "\n",
    "### 结构\n",
    "\n",
    "> ### auto_modeling\n",
    "> * \\_\\_init\\_\\_.py\n",
    "> * data\\_split.py\n",
    ">     > data\\_split -- 数据集划分\n",
    "> * feature\\_select.py\n",
    ">     > feature\\_select -- 特征选择\n",
    "> * para\\_optimize.py\n",
    ">     > para\\_optimize -- 超参数优化\n",
    "> * result\\_report.py\n",
    ">     > result\\_report -- 可视化结果报表\n",
    "> * other\\_function.py\n",
    ">     > get\\_coltype\\_datalist -- 处理数据集、区分变量类型\n",
    ">     \n",
    ">     > get\\_mapper -- 封装变量处理方法\n",
    ">     \n",
    ">     > get\\_learning\\_curve -- 绘制学习曲线\n",
    ">     \n",
    ">     > get\\_bset\\_para\\_model -- 选择模型并建立\n",
    ">     \n",
    ">     > get\\_pp\\_data\\_trans -- 处理陪跑数据集\n",
    ">     \n",
    ">     > get\\_group\\_final -- 按照正态分布分组的方案\n",
    ">\n",
    ">     > get\\_result\\_table -- 各组/各等分情况\n",
    ">     \n",
    ">     > get\\_group\\_score -- 各组预测结果阈值\n",
    ">     \n",
    ">     > get\\_model\\_file -- 输出模型文件\n",
    ">\n",
    ">     > get\\_index\\_values -- 计算各指标值\n",
    "> \n",
    ">     > get\\_data\\_trans -- 处理其他数据集\n",
    "> \n",
    ">     > read\\_model\\_pkl -- 读取pkl文件\n",
    "> \n",
    ">     > modifying\\_pmml -- 修改pmml文件\n",
    "> \n",
    ">     > get\\_model\\_explain -- 回溯模型解释器\n",
    "> \n",
    ">     > get\\_predict\\_explain -- 获取单样本预测值解释\n",
    ">\n",
    ">     > get\\_model\\_predict -- 获取模型预测结果(pipeline、pkl文件、pmml文件)\n",
    "> * full\\_automatic.py\n",
    ">     > full\\_automatic\\_simplet -- 简单模式全自动建模\n",
    ">     \n",
    ">     > full\\_automatic\\_complete -- 完整模式全自动建模"
   ]
  },
  {
   "cell_type": "code",
   "execution_count": 4,
   "metadata": {
    "ExecuteTime": {
     "end_time": "2019-09-09T08:01:05.521451Z",
     "start_time": "2019-09-09T08:00:59.092078Z"
    }
   },
   "outputs": [],
   "source": [
    "import auto_modeling as am"
   ]
  },
  {
   "cell_type": "markdown",
   "metadata": {},
   "source": [
    "## simple模式"
   ]
  },
  {
   "cell_type": "code",
   "execution_count": 5,
   "metadata": {
    "ExecuteTime": {
     "end_time": "2019-09-09T09:09:19.381326Z",
     "start_time": "2019-09-09T08:01:05.685458Z"
    },
    "scrolled": false
   },
   "outputs": [
    {
     "name": "stdout",
     "output_type": "stream",
     "text": [
      ">> Step1: 数据集划分\n",
      ">> 数据集划分成功,无跨时间测试集\n",
      ">> 训练集样本数: 43051\n",
      ">> 测试集样本数: 18451\n",
      ">> 训练集目标情况如下:\n",
      "   训练集TARGET为 0 的数量: 39583  占比: 91.94%\n",
      "   训练集TARGET为 1 的数量: 3468  占比: 8.06%\n",
      ">> --------------------------------------------------------\n",
      ">> Step2: 特征选择\n",
      ">> 根据缺失率删除 0 个变量\n",
      ">> 根据同质性删除 2 个变量\n",
      ">> 根据最大计数类别删除 0 个变量\n",
      ">> 根据相关性删除 0 个变量\n",
      ">> 根据特征重要度最终保留 50 个变量\n",
      ">> 具体保留变量如下:\n",
      "   ['EXT_SOURCE_3', 'EXT_SOURCE_2', 'ORGANIZATION_TYPE', 'EXT_SOURCE_1', 'AMT_CREDIT', 'AMT_ANNUITY', 'DAYS_ID_PUBLISH', 'DAYS_BIRTH', 'DAYS_REGISTRATION', 'AMT_GOODS_PRICE', 'DAYS_EMPLOYED', 'DAYS_LAST_PHONE_CHANGE', 'SK_ID_CURR', 'OCCUPATION_TYPE', 'OWN_CAR_AGE', 'REGION_POPULATION_RELATIVE', 'AMT_INCOME_TOTAL', 'HOUR_APPR_PROCESS_START', 'AMT_REQ_CREDIT_BUREAU_YEAR', 'TOTALAREA_MODE', 'CODE_GENDER', 'NONLIVINGAREA_AVG', 'NAME_EDUCATION_TYPE', 'YEARS_BEGINEXPLUATATION_AVG', 'LANDAREA_AVG', 'NAME_INCOME_TYPE', 'DEF_60_CNT_SOCIAL_CIRCLE', 'FLAG_DOCUMENT_3', 'LANDAREA_MODE', 'BASEMENTAREA_AVG', 'APARTMENTS_AVG', 'REGION_RATING_CLIENT_W_CITY', 'BASEMENTAREA_MODE', 'LIVINGAREA_AVG', 'NONLIVINGAREA_MODE', 'COMMONAREA_AVG', 'AMT_REQ_CREDIT_BUREAU_QRT', 'OBS_30_CNT_SOCIAL_CIRCLE', 'LIVINGAPARTMENTS_AVG', 'YEARS_BEGINEXPLUATATION_MODE', 'NAME_FAMILY_STATUS', 'YEARS_BUILD_AVG', 'APARTMENTS_MODE', 'LIVINGAREA_MODE', 'CNT_FAM_MEMBERS', 'COMMONAREA_MODE', 'YEARS_BEGINEXPLUATATION_MEDI', 'ENTRANCES_AVG', 'LIVINGAPARTMENTS_MODE', 'BASEMENTAREA_MEDI']\n",
      ">> --------------------------------------------------------\n",
      ">> Step3: 超参数优化\n",
      ">> 开始使用贝叶斯优化的TPE算法对 LightGBM 进行超参数优化\n",
      "100%|████████████████████████████████████████████████| 100/100 [55:22<00:00, 31.18s/it, best loss: -0.7512380351612968]\n",
      ">> LightGBM 最优超参数交叉验证结果为：训练集平均AUC：0.8415  验证集平均AUC：0.7512\n",
      ">> 模型超参数优化完成,最优模型为 LightGBM\n"
     ]
    },
    {
     "data": {
      "image/png": "[encoded data removed]",
      "text/plain": [
       "<Figure size 432x288 with 1 Axes>"
      ]
     },
     "metadata": {
      "needs_background": "light"
     },
     "output_type": "display_data"
    },
    {
     "name": "stdout",
     "output_type": "stream",
     "text": [
      ">> LightGBM 模型效果如下:\n",
      ">> 训练KS值: 0.4997  AUC值: 0.8297\n",
      ">> 测试KS值: 0.3567  AUC值: 0.739\n",
      ">> --------------------------------------------------------\n",
      ">> Step4: 可视化结果报表\n",
      ">> 模型训练样本情况绘制完成\n",
      ">> 模型分组排序情况绘制完成\n",
      ">> 模型解释绘制完成\n",
      ">> 可视化报表已输出\n",
      ">> --------------------------------------------------------\n",
      ">> 模型建立完成,模型文件已输出\n",
      ">> --------------------------------------------------------\n"
     ]
    }
   ],
   "source": [
    "# 只有训练、测试集，无跨时间和陪跑，不按照重要性迭代变量子集，报表不绘制单变量归因图，保存未封装的模型和keep_cols\n",
    "am.full_automatic_simple(data, test_size=0.3, time_test_type=False, attribution=False,\n",
    "                         report_file=r'./usage/result/result_report_simple.html', \n",
    "                         pkl_file=r'./usage/result/model_simple.pkl', pmml_file=r'./usage/result/model_simple.pmml',\n",
    "                         model_file=r'./usage/result/model_simple.m', keep_cols_file=r'./usage/result/keep_cols_simple.txt')"
   ]
  },
  {
   "cell_type": "markdown",
   "metadata": {
    "ExecuteTime": {
     "end_time": "2019-06-19T08:32:42.524633Z",
     "start_time": "2019-06-19T08:26:06.042Z"
    }
   },
   "source": [
    "### 模型回溯"
   ]
  },
  {
   "cell_type": "code",
   "execution_count": 6,
   "metadata": {
    "ExecuteTime": {
     "end_time": "2019-09-09T09:11:32.348950Z",
     "start_time": "2019-09-09T09:11:31.101882Z"
    }
   },
   "outputs": [
    {
     "name": "stdout",
     "output_type": "stream",
     "text": [
      ">> 数据集划分成功,无跨时间测试集\n",
      ">> 训练集样本数: 43051\n",
      ">> 测试集样本数: 18451\n",
      ">> 训练集目标情况如下:\n",
      "   训练集TARGET为 0 的数量: 39583  占比: 91.94%\n",
      "   训练集TARGET为 1 的数量: 3468  占比: 8.06%\n"
     ]
    }
   ],
   "source": [
    "# 划分数据集\n",
    "X_train, Y_train, X_test, Y_test, X_time_test, Y_time_test = am.data_split(\n",
    "    data, test_size=0.3, time_test_type=False)"
   ]
  },
  {
   "cell_type": "markdown",
   "metadata": {},
   "source": [
    "#### 简单回溯"
   ]
  },
  {
   "cell_type": "code",
   "execution_count": 7,
   "metadata": {
    "ExecuteTime": {
     "end_time": "2019-09-09T09:11:34.948090Z",
     "start_time": "2019-09-09T09:11:34.243059Z"
    }
   },
   "outputs": [
    {
     "data": {
      "text/plain": [
       "array([[0.96038312, 0.03961688],\n",
       "       [0.94497163, 0.05502837],\n",
       "       [0.8719784 , 0.1280216 ],\n",
       "       ...,\n",
       "       [0.96076134, 0.03923866],\n",
       "       [0.97216418, 0.02783582],\n",
       "       [0.94661111, 0.05338889]])"
      ]
     },
     "execution_count": 7,
     "metadata": {},
     "output_type": "execute_result"
    }
   ],
   "source": [
    "# 读取pkl模型\n",
    "model_pkl = am.read_model(r'./usage/result/model_simple.pkl')\n",
    "# 转换数据集\n",
    "X_test_trans = am.get_data_trans(X_test, keep_cols=r'./usage/result/keep_cols_simple.txt')\n",
    "\n",
    "# 预测\n",
    "model_pkl.predict_proba(X_test_trans)"
   ]
  },
  {
   "cell_type": "markdown",
   "metadata": {},
   "source": [
    "#### 复杂回溯"
   ]
  },
  {
   "cell_type": "code",
   "execution_count": 8,
   "metadata": {
    "ExecuteTime": {
     "end_time": "2019-09-09T09:11:37.258222Z",
     "start_time": "2019-09-09T09:11:36.716209Z"
    }
   },
   "outputs": [
    {
     "data": {
      "text/html": [
       "<div>\n",
       "<style scoped>\n",
       "    .dataframe tbody tr th:only-of-type {\n",
       "        vertical-align: middle;\n",
       "    }\n",
       "\n",
       "    .dataframe tbody tr th {\n",
       "        vertical-align: top;\n",
       "    }\n",
       "\n",
       "    .dataframe thead th {\n",
       "        text-align: right;\n",
       "    }\n",
       "</style>\n",
       "<table border=\"1\" class=\"dataframe\">\n",
       "  <thead>\n",
       "    <tr style=\"text-align: right;\">\n",
       "      <th></th>\n",
       "      <th>predict</th>\n",
       "    </tr>\n",
       "  </thead>\n",
       "  <tbody>\n",
       "    <tr>\n",
       "      <th>21932</th>\n",
       "      <td>0.039617</td>\n",
       "    </tr>\n",
       "    <tr>\n",
       "      <th>25017</th>\n",
       "      <td>0.055028</td>\n",
       "    </tr>\n",
       "    <tr>\n",
       "      <th>33990</th>\n",
       "      <td>0.128022</td>\n",
       "    </tr>\n",
       "    <tr>\n",
       "      <th>13304</th>\n",
       "      <td>0.139267</td>\n",
       "    </tr>\n",
       "    <tr>\n",
       "      <th>31268</th>\n",
       "      <td>0.012590</td>\n",
       "    </tr>\n",
       "  </tbody>\n",
       "</table>\n",
       "</div>"
      ],
      "text/plain": [
       "        predict\n",
       "21932  0.039617\n",
       "25017  0.055028\n",
       "33990  0.128022\n",
       "13304  0.139267\n",
       "31268  0.012590"
      ]
     },
     "execution_count": 8,
     "metadata": {},
     "output_type": "execute_result"
    }
   ],
   "source": [
    "# 使用Pipeline对象预测\n",
    "am.get_model_predict(model_pkl, X_test_trans).head()"
   ]
  },
  {
   "cell_type": "code",
   "execution_count": 9,
   "metadata": {
    "ExecuteTime": {
     "end_time": "2019-09-09T09:37:39.238130Z",
     "start_time": "2019-09-09T09:11:47.435811Z"
    }
   },
   "outputs": [
    {
     "name": "stdout",
     "output_type": "stream",
     "text": [
      "已计算完成1000个样本\n",
      "已计算完成2000个样本\n",
      "已计算完成3000个样本\n",
      "已计算完成4000个样本\n",
      "已计算完成5000个样本\n",
      "已计算完成6000个样本\n",
      "已计算完成7000个样本\n",
      "已计算完成8000个样本\n",
      "已计算完成9000个样本\n",
      "已计算完成10000个样本\n",
      "已计算完成11000个样本\n",
      "已计算完成12000个样本\n",
      "已计算完成13000个样本\n",
      "已计算完成14000个样本\n",
      "已计算完成15000个样本\n",
      "已计算完成16000个样本\n",
      "已计算完成17000个样本\n",
      "已计算完成18000个样本\n",
      "全部样本计算完成\n"
     ]
    },
    {
     "data": {
      "text/html": [
       "<div>\n",
       "<style scoped>\n",
       "    .dataframe tbody tr th:only-of-type {\n",
       "        vertical-align: middle;\n",
       "    }\n",
       "\n",
       "    .dataframe tbody tr th {\n",
       "        vertical-align: top;\n",
       "    }\n",
       "\n",
       "    .dataframe thead th {\n",
       "        text-align: right;\n",
       "    }\n",
       "</style>\n",
       "<table border=\"1\" class=\"dataframe\">\n",
       "  <thead>\n",
       "    <tr style=\"text-align: right;\">\n",
       "      <th></th>\n",
       "      <th>predict</th>\n",
       "      <th>group</th>\n",
       "    </tr>\n",
       "  </thead>\n",
       "  <tbody>\n",
       "    <tr>\n",
       "      <th>21932</th>\n",
       "      <td>0.039617</td>\n",
       "      <td>A</td>\n",
       "    </tr>\n",
       "    <tr>\n",
       "      <th>25017</th>\n",
       "      <td>0.055028</td>\n",
       "      <td>A</td>\n",
       "    </tr>\n",
       "    <tr>\n",
       "      <th>33990</th>\n",
       "      <td>0.128022</td>\n",
       "      <td>A</td>\n",
       "    </tr>\n",
       "    <tr>\n",
       "      <th>13304</th>\n",
       "      <td>0.139267</td>\n",
       "      <td>A</td>\n",
       "    </tr>\n",
       "    <tr>\n",
       "      <th>31268</th>\n",
       "      <td>0.012590</td>\n",
       "      <td>A</td>\n",
       "    </tr>\n",
       "  </tbody>\n",
       "</table>\n",
       "</div>"
      ],
      "text/plain": [
       "        predict group\n",
       "21932  0.039617     A\n",
       "25017  0.055028     A\n",
       "33990  0.128022     A\n",
       "13304  0.139267     A\n",
       "31268  0.012590     A"
      ]
     },
     "execution_count": 9,
     "metadata": {},
     "output_type": "execute_result"
    }
   ],
   "source": [
    "# 使用pmml文件预测，并查看分组\n",
    "# 因为是调用jar进行预测，速度较慢\n",
    "am.get_model_predict(r'./usage/result/model_simple.pmml', X_test_trans, group_score=[0.2, 0.4, 0.8]).head()"
   ]
  },
  {
   "cell_type": "markdown",
   "metadata": {
    "ExecuteTime": {
     "end_time": "2019-06-20T04:44:45.855356Z",
     "start_time": "2019-06-20T04:44:45.852358Z"
    }
   },
   "source": [
    "### 单样本预测结果解释"
   ]
  },
  {
   "cell_type": "code",
   "execution_count": 10,
   "metadata": {
    "ExecuteTime": {
     "end_time": "2019-09-09T09:41:49.986728Z",
     "start_time": "2019-09-09T09:41:44.120660Z"
    }
   },
   "outputs": [
    {
     "data": {
      "image/png": "[encoded data removed]",
      "text/plain": [
       "<Figure size 576x947.368 with 1 Axes>"
      ]
     },
     "metadata": {
      "needs_background": "light"
     },
     "output_type": "display_data"
    }
   ],
   "source": [
    "X_train_trans = am.get_data_trans(X_train, keep_cols=r'./usage/result/keep_cols_simple.txt')\n",
    "\n",
    "# 创建模型解释器，如果不传入keep_cols，X_train则需为按照keep_cols保留完变量的训练集特征空间\n",
    "model_explain = am.get_model_explain(X_train, Y_train, model=r'./usage/result/model_simple.m',\n",
    "                                     keep_cols=r'./usage/result/keep_cols_simple.txt')\n",
    "\n",
    "# 解释测试集第11个样本的预测值\n",
    "# contribution为特征对预测值的贡献，也就是特征与预测值-预测期望的相关关系，正值为正相关，负值为负相关\n",
    "# 可以看到下面样本的CREDIT_SCORE有很大的正贡献，既该值很大的拉高了预测值（预测为1的概率）\n",
    "predict_explain = am.get_predict_explain(model_explain, sample=X_test_trans.iloc[10])"
   ]
  },
  {
   "cell_type": "code",
   "execution_count": 11,
   "metadata": {
    "ExecuteTime": {
     "end_time": "2019-09-09T09:42:16.671370Z",
     "start_time": "2019-09-09T09:42:16.656370Z"
    }
   },
   "outputs": [
    {
     "data": {
      "text/html": [
       "<div>\n",
       "<style scoped>\n",
       "    .dataframe tbody tr th:only-of-type {\n",
       "        vertical-align: middle;\n",
       "    }\n",
       "\n",
       "    .dataframe tbody tr th {\n",
       "        vertical-align: top;\n",
       "    }\n",
       "\n",
       "    .dataframe thead th {\n",
       "        text-align: right;\n",
       "    }\n",
       "</style>\n",
       "<table border=\"1\" class=\"dataframe\">\n",
       "  <thead>\n",
       "    <tr style=\"text-align: right;\">\n",
       "      <th></th>\n",
       "      <th>value</th>\n",
       "      <th>contribution</th>\n",
       "    </tr>\n",
       "  </thead>\n",
       "  <tbody>\n",
       "    <tr>\n",
       "      <th>EXT_SOURCE_3</th>\n",
       "      <td>0.255332</td>\n",
       "      <td>0.667672</td>\n",
       "    </tr>\n",
       "    <tr>\n",
       "      <th>EXT_SOURCE_2</th>\n",
       "      <td>0.402444</td>\n",
       "      <td>0.226809</td>\n",
       "    </tr>\n",
       "    <tr>\n",
       "      <th>EXT_SOURCE_1</th>\n",
       "      <td>-9</td>\n",
       "      <td>0.12304</td>\n",
       "    </tr>\n",
       "    <tr>\n",
       "      <th>DAYS_BIRTH</th>\n",
       "      <td>-12485</td>\n",
       "      <td>0.111117</td>\n",
       "    </tr>\n",
       "    <tr>\n",
       "      <th>AMT_GOODS_PRICE</th>\n",
       "      <td>315000</td>\n",
       "      <td>0.094195</td>\n",
       "    </tr>\n",
       "    <tr>\n",
       "      <th>NAME_INCOME_TYPE</th>\n",
       "      <td>Working</td>\n",
       "      <td>0.0798795</td>\n",
       "    </tr>\n",
       "    <tr>\n",
       "      <th>NAME_FAMILY_STATUS</th>\n",
       "      <td>Civil marriage</td>\n",
       "      <td>0.0631857</td>\n",
       "    </tr>\n",
       "    <tr>\n",
       "      <th>NAME_EDUCATION_TYPE</th>\n",
       "      <td>Secondary / secondary special</td>\n",
       "      <td>0.0630535</td>\n",
       "    </tr>\n",
       "    <tr>\n",
       "      <th>OWN_CAR_AGE</th>\n",
       "      <td>-9</td>\n",
       "      <td>0.0482065</td>\n",
       "    </tr>\n",
       "    <tr>\n",
       "      <th>FLAG_DOCUMENT_3</th>\n",
       "      <td>1</td>\n",
       "      <td>0.0462062</td>\n",
       "    </tr>\n",
       "  </tbody>\n",
       "</table>\n",
       "</div>"
      ],
      "text/plain": [
       "                                             value contribution\n",
       "EXT_SOURCE_3                              0.255332     0.667672\n",
       "EXT_SOURCE_2                              0.402444     0.226809\n",
       "EXT_SOURCE_1                                    -9      0.12304\n",
       "DAYS_BIRTH                                  -12485     0.111117\n",
       "AMT_GOODS_PRICE                             315000     0.094195\n",
       "NAME_INCOME_TYPE                           Working    0.0798795\n",
       "NAME_FAMILY_STATUS                  Civil marriage    0.0631857\n",
       "NAME_EDUCATION_TYPE  Secondary / secondary special    0.0630535\n",
       "OWN_CAR_AGE                                     -9    0.0482065\n",
       "FLAG_DOCUMENT_3                                  1    0.0462062"
      ]
     },
     "execution_count": 11,
     "metadata": {},
     "output_type": "execute_result"
    }
   ],
   "source": [
    "# 查看返回的解释详细表\n",
    "predict_explain.head(10)"
   ]
  },
  {
   "cell_type": "markdown",
   "metadata": {},
   "source": [
    "## complete模式"
   ]
  },
  {
   "cell_type": "code",
   "execution_count": 12,
   "metadata": {
    "ExecuteTime": {
     "end_time": "2019-09-09T12:24:51.183077Z",
     "start_time": "2019-09-09T09:42:22.970728Z"
    }
   },
   "outputs": [
    {
     "name": "stdout",
     "output_type": "stream",
     "text": [
      ">> Step1: 数据集划分\n",
      ">> 数据集自动划分成功,按时间升序,后50%样本作为跨时间测试集\n",
      ">> 训练集样本数: 17122\n",
      ">> 测试集样本数: 7339\n",
      ">> 跨时间测试集样本数: 37041\n",
      ">> 训练集目标情况如下:\n",
      "   训练集TARGET为 0 的数量: 15744  占比: 91.95%\n",
      "   训练集TARGET为 1 的数量: 1378  占比: 8.05%\n",
      ">> --------------------------------------------------------\n",
      ">> Step2: 特征选择\n",
      ">> 根据缺失率删除 0 个变量\n",
      ">> 根据同质性删除 21 个变量\n",
      ">> 根据最大计数类别删除 0 个变量\n",
      ">> 根据相关性删除 0 个变量\n",
      ">> 根据iv值删除 26 个变量\n",
      ">> 特征重要度迭代次数 |■■■■■■■■■■■■■■■■■■■■■■■■■■■■■■■■■■■■■■■■■■■|   根据条件提前停止迭代\n",
      ">> 根据特征重要度最终保留 25 个变量\n",
      ">> 具体保留变量如下:\n",
      "   ['EXT_SOURCE_2', 'EXT_SOURCE_3', 'EXT_SOURCE_1', 'ORGANIZATION_TYPE', 'SK_ID_CURR', 'DAYS_EMPLOYED', 'AMT_ANNUITY', 'DAYS_BIRTH', 'DAYS_REGISTRATION', 'AMT_CREDIT', 'DAYS_ID_PUBLISH', 'DAYS_LAST_PHONE_CHANGE', 'AMT_INCOME_TOTAL', 'AMT_GOODS_PRICE', 'AMT_REQ_CREDIT_BUREAU_YEAR', 'OWN_CAR_AGE', 'REGION_POPULATION_RELATIVE', 'NONLIVINGAREA_MEDI', 'YEARS_BEGINEXPLUATATION_AVG', 'HOUR_APPR_PROCESS_START', 'LIVINGAREA_MODE', 'YEARS_BUILD_AVG', 'BASEMENTAREA_MODE', 'NAME_EDUCATION_TYPE', 'APARTMENTS_AVG']\n",
      ">> --------------------------------------------------------\n",
      ">> Step3: 超参数优化\n",
      ">> 开始使用贝叶斯优化的TPE算法对 XGBoost 进行超参数优化\n",
      "100%|████████████████████████████████████████████████| 100/100 [31:55<00:00, 13.57s/it, best loss: -0.7269409611397877]\n",
      ">> XGBoost 最优超参数交叉验证结果为：训练集平均AUC：0.7568  验证集平均AUC：0.7319\n",
      ">> 开始使用贝叶斯优化的TPE算法对 LightGBM 进行超参数优化\n",
      "100%|████████████████████████████████████████████████| 100/100 [06:57<00:00,  2.41s/it, best loss: -0.7168966338855701]\n",
      ">> LightGBM 最优超参数交叉验证结果为：训练集平均AUC：0.7459  验证集平均AUC：0.7214\n",
      ">> 开始使用贝叶斯优化的TPE算法对 GBDT 进行超参数优化\n",
      "100%|██████████████████████████████████████████████| 100/100 [1:23:59<00:00, 55.04s/it, best loss: -0.7134595714966337]\n",
      ">> GBDT 最优超参数交叉验证结果为：训练集平均AUC：0.7551  验证集平均AUC：0.7243\n",
      ">> 模型超参数优化完成,最优模型为 XGBoost\n"
     ]
    },
    {
     "data": {
      "image/png": "[encoded data removed]",
      "text/plain": [
       "<Figure size 432x288 with 1 Axes>"
      ]
     },
     "metadata": {
      "needs_background": "light"
     },
     "output_type": "display_data"
    },
    {
     "name": "stdout",
     "output_type": "stream",
     "text": [
      ">> XGBoost 模型效果如下:\n",
      ">> 训练KS值: 0.3926  AUC值: 0.7607\n",
      ">> 测试KS值: 0.3743  AUC值: 0.7329\n",
      ">> 跨时间测试KS值: 0.3408  AUC值: 0.7304\n",
      ">> --------------------------------------------------------\n",
      ">> Step4: 可视化结果报表\n",
      ">> 开始尝试分组方案 [■■■■■■■■■■■■]\n",
      ">> 共尝试了48种分组方案,最优分组方案为 [21, 51, 79]\n",
      ">> 该分组方案各组数目占比累加值为 [0.21, 0.49, 0.79]\n",
      ">> 模型训练样本情况绘制完成\n",
      ">> 模型分组排序情况绘制完成\n",
      ">> 跨时间分组分布绘制完成\n",
      ">> 模型解释绘制完成\n",
      ">> 可视化报表已输出\n",
      ">> --------------------------------------------------------\n",
      ">> 模型建立完成,模型文件已输出\n",
      ">> --------------------------------------------------------\n"
     ]
    }
   ],
   "source": [
    "# 自动划分跨时间测试，训练测试7:3，传入陪跑数据\n",
    "# 同质性设置0.95，类别变量最大计数类别设置为0.01，iv值设置为0.02，其他为默认\n",
    "# 封装管道支持缺失值\n",
    "# 选择模型为XGBoost、LightGBM和GBDT\n",
    "# 设置交叉验证惩罚权重1\n",
    "# 结果展示的分组使用正态分组，组数4组，陪跑数据集作为正态标准\n",
    "# 更改输出文件路径和名字，pmml文件忽略无效值\n",
    "am.full_automatic_complete(data, test_size=0.3, time_test_type=True, pp_data=pp_data, homogeny=0.95, category=0.01, iv=0.02,\n",
    "                           missing_in=True, model_list=['xgb', 'lgbm', 'gbdt'], penalty_weight=1, penalty_space=0.02,\n",
    "                           group_method='normal', group_nums=4, group_norm='pp', report_file=r'./usage/result/result_report_complete.html',\n",
    "                           pkl_file=r'./usage/result/model_complete.pkl', pmml_file=r'./usage/result/model_complete.pmml')"
   ]
  },
  {
   "cell_type": "markdown",
   "metadata": {},
   "source": [
    "### 修改pmml文件"
   ]
  },
  {
   "cell_type": "markdown",
   "metadata": {},
   "source": [
    "#### 自动化后单独修改"
   ]
  },
  {
   "cell_type": "code",
   "execution_count": 13,
   "metadata": {
    "ExecuteTime": {
     "end_time": "2019-09-10T01:02:09.694187Z",
     "start_time": "2019-09-10T01:02:08.407108Z"
    }
   },
   "outputs": [
    {
     "name": "stdout",
     "output_type": "stream",
     "text": [
      ">> 数据集自动划分成功,按时间升序,后50%样本作为跨时间测试集\n",
      ">> 训练集样本数: 17122\n",
      ">> 测试集样本数: 7339\n",
      ">> 跨时间测试集样本数: 37041\n",
      ">> 训练集目标情况如下:\n",
      "   训练集TARGET为 0 的数量: 15744  占比: 91.95%\n",
      "   训练集TARGET为 1 的数量: 1378  占比: 8.05%\n"
     ]
    }
   ],
   "source": [
    "# 划分数据集\n",
    "X_train, Y_train, X_test, Y_test, X_time_test, Y_time_test = am.data_split(\n",
    "    data, test_size=0.3, time_test_type=True)"
   ]
  },
  {
   "cell_type": "code",
   "execution_count": 14,
   "metadata": {
    "ExecuteTime": {
     "end_time": "2019-09-10T01:02:16.107555Z",
     "start_time": "2019-09-10T01:02:15.705527Z"
    }
   },
   "outputs": [],
   "source": [
    "# 转换数据集\n",
    "keep_cols = ['EXT_SOURCE_2', 'EXT_SOURCE_3', 'EXT_SOURCE_1', 'ORGANIZATION_TYPE', 'SK_ID_CURR', 'DAYS_EMPLOYED', 'AMT_ANNUITY', \n",
    "             'DAYS_BIRTH', 'DAYS_REGISTRATION', 'AMT_CREDIT', 'DAYS_ID_PUBLISH', 'DAYS_LAST_PHONE_CHANGE', 'AMT_INCOME_TOTAL', \n",
    "             'AMT_GOODS_PRICE', 'AMT_REQ_CREDIT_BUREAU_YEAR', 'OWN_CAR_AGE', 'REGION_POPULATION_RELATIVE', 'NONLIVINGAREA_MEDI', \n",
    "             'YEARS_BEGINEXPLUATATION_AVG', 'HOUR_APPR_PROCESS_START', 'LIVINGAREA_MODE', 'YEARS_BUILD_AVG', 'BASEMENTAREA_MODE', \n",
    "             'NAME_EDUCATION_TYPE', 'APARTMENTS_AVG']\n",
    "X_train_trans = am.get_data_trans(X_train, keep_cols)\n",
    "X_test_trans = am.get_data_trans(X_test, keep_cols)\n",
    "X_time_test_trans = am.get_data_trans(X_time_test, keep_cols)\n",
    "pp_data_trans = am.get_pp_data_trans(pp_data, keep_cols)\n",
    "\n",
    "# 陪跑数据集有提示存在inf值，该值在部分模型会无法通过，但该例子使用的是LightGBM，可以不修改，如要修改用下面代码\n",
    "datalist = [[X_train_trans, Y_train], [X_test_trans, Y_test], [X_time_test_trans, Y_time_test], [pp_data_trans]]"
   ]
  },
  {
   "cell_type": "code",
   "execution_count": 15,
   "metadata": {
    "ExecuteTime": {
     "end_time": "2019-09-10T01:02:20.164780Z",
     "start_time": "2019-09-10T01:02:19.483741Z"
    }
   },
   "outputs": [
    {
     "data": {
      "text/html": [
       "[0.038104, 0.059942, 0.110393, 1]"
      ],
      "text/plain": [
       "[0.038104, 0.059942, 0.110393, 1]"
      ]
     },
     "execution_count": 15,
     "metadata": {},
     "output_type": "execute_result"
    }
   ],
   "source": [
    "# 获取各组预测结果阈值\n",
    "group_score = am.get_group_score(datalist, model_pkl=r'./usage/result/model_complete.pkl', group_final=[21, 51, 79], group_norm='pp')\n",
    "group_score"
   ]
  },
  {
   "cell_type": "code",
   "execution_count": 16,
   "metadata": {
    "ExecuteTime": {
     "end_time": "2019-09-10T01:02:30.167353Z",
     "start_time": "2019-09-10T01:02:30.137397Z"
    }
   },
   "outputs": [
    {
     "name": "stdout",
     "output_type": "stream",
     "text": [
      ">> PMML文件修改完成,按照各组阈值增加新输出Group\n"
     ]
    }
   ],
   "source": [
    "# 修改pmml\n",
    "am.modifying_pmml(pmml_file_in=r'./usage/result/model_complete.pmml',\n",
    "                  pmml_file_out=r'./usage/result/model_complete_modifying.pmml',\n",
    "                  group_score=group_score, rank_name=['A', 'B', 'C', 'D'])"
   ]
  },
  {
   "cell_type": "code",
   "execution_count": 17,
   "metadata": {
    "ExecuteTime": {
     "end_time": "2019-09-10T01:05:10.887565Z",
     "start_time": "2019-09-10T01:02:32.717507Z"
    }
   },
   "outputs": [
    {
     "name": "stdout",
     "output_type": "stream",
     "text": [
      ">> 开始尝试分组方案 [■■■■■■■■■■■■■■■■■■■■■■■■■■■■■■■■■■■■■■■■■■■■■■■■■■]\n",
      ">> 共尝试了243种分组方案,最优分组方案为 [11, 26, 51, 74, 89]\n",
      ">> 该分组方案各组数目占比累加值为 [0.11, 0.26, 0.49, 0.74, 0.89]\n"
     ]
    },
    {
     "data": {
      "text/html": [
       "<div>\n",
       "<style scoped>\n",
       "    .dataframe tbody tr th:only-of-type {\n",
       "        vertical-align: middle;\n",
       "    }\n",
       "\n",
       "    .dataframe tbody tr th {\n",
       "        vertical-align: top;\n",
       "    }\n",
       "\n",
       "    .dataframe thead th {\n",
       "        text-align: right;\n",
       "    }\n",
       "</style>\n",
       "<table border=\"1\" class=\"dataframe\">\n",
       "  <thead>\n",
       "    <tr style=\"text-align: right;\">\n",
       "      <th></th>\n",
       "      <th>训练集总数</th>\n",
       "      <th>训练集目标数</th>\n",
       "      <th>训练集分组占比</th>\n",
       "      <th>训练集目标占比</th>\n",
       "      <th>测试集总数</th>\n",
       "      <th>测试集目标数</th>\n",
       "      <th>测试集分组占比</th>\n",
       "      <th>测试集目标占比</th>\n",
       "      <th>跨时间测试集总数</th>\n",
       "      <th>跨时间测试集目标数</th>\n",
       "      <th>跨时间测试集分组占比</th>\n",
       "      <th>跨时间测试集目标占比</th>\n",
       "      <th>陪跑总数</th>\n",
       "      <th>陪跑分组占比</th>\n",
       "      <th>预测结果阈值</th>\n",
       "    </tr>\n",
       "    <tr>\n",
       "      <th>rank</th>\n",
       "      <th></th>\n",
       "      <th></th>\n",
       "      <th></th>\n",
       "      <th></th>\n",
       "      <th></th>\n",
       "      <th></th>\n",
       "      <th></th>\n",
       "      <th></th>\n",
       "      <th></th>\n",
       "      <th></th>\n",
       "      <th></th>\n",
       "      <th></th>\n",
       "      <th></th>\n",
       "      <th></th>\n",
       "      <th></th>\n",
       "    </tr>\n",
       "  </thead>\n",
       "  <tbody>\n",
       "    <tr>\n",
       "      <th>1.0</th>\n",
       "      <td>1970</td>\n",
       "      <td>518</td>\n",
       "      <td>0.1151</td>\n",
       "      <td>0.2629</td>\n",
       "      <td>839</td>\n",
       "      <td>174</td>\n",
       "      <td>0.1143</td>\n",
       "      <td>0.2074</td>\n",
       "      <td>4254</td>\n",
       "      <td>1001</td>\n",
       "      <td>0.1148</td>\n",
       "      <td>0.2353</td>\n",
       "      <td>4602</td>\n",
       "      <td>0.11</td>\n",
       "      <td>1.0000</td>\n",
       "    </tr>\n",
       "    <tr>\n",
       "      <th>2.0</th>\n",
       "      <td>2520</td>\n",
       "      <td>337</td>\n",
       "      <td>0.1472</td>\n",
       "      <td>0.1337</td>\n",
       "      <td>1129</td>\n",
       "      <td>158</td>\n",
       "      <td>0.1538</td>\n",
       "      <td>0.1399</td>\n",
       "      <td>5610</td>\n",
       "      <td>708</td>\n",
       "      <td>0.1515</td>\n",
       "      <td>0.1262</td>\n",
       "      <td>6275</td>\n",
       "      <td>0.15</td>\n",
       "      <td>0.1566</td>\n",
       "    </tr>\n",
       "    <tr>\n",
       "      <th>3.0</th>\n",
       "      <td>3969</td>\n",
       "      <td>270</td>\n",
       "      <td>0.2318</td>\n",
       "      <td>0.0680</td>\n",
       "      <td>1697</td>\n",
       "      <td>139</td>\n",
       "      <td>0.2312</td>\n",
       "      <td>0.0819</td>\n",
       "      <td>8680</td>\n",
       "      <td>699</td>\n",
       "      <td>0.2343</td>\n",
       "      <td>0.0805</td>\n",
       "      <td>9622</td>\n",
       "      <td>0.23</td>\n",
       "      <td>0.0960</td>\n",
       "    </tr>\n",
       "    <tr>\n",
       "      <th>4.0</th>\n",
       "      <td>4239</td>\n",
       "      <td>179</td>\n",
       "      <td>0.2476</td>\n",
       "      <td>0.0422</td>\n",
       "      <td>1784</td>\n",
       "      <td>58</td>\n",
       "      <td>0.2431</td>\n",
       "      <td>0.0325</td>\n",
       "      <td>9157</td>\n",
       "      <td>398</td>\n",
       "      <td>0.2472</td>\n",
       "      <td>0.0435</td>\n",
       "      <td>10458</td>\n",
       "      <td>0.25</td>\n",
       "      <td>0.0599</td>\n",
       "    </tr>\n",
       "    <tr>\n",
       "      <th>5.0</th>\n",
       "      <td>2608</td>\n",
       "      <td>48</td>\n",
       "      <td>0.1523</td>\n",
       "      <td>0.0184</td>\n",
       "      <td>1094</td>\n",
       "      <td>32</td>\n",
       "      <td>0.1491</td>\n",
       "      <td>0.0293</td>\n",
       "      <td>5490</td>\n",
       "      <td>151</td>\n",
       "      <td>0.1482</td>\n",
       "      <td>0.0275</td>\n",
       "      <td>6275</td>\n",
       "      <td>0.15</td>\n",
       "      <td>0.0411</td>\n",
       "    </tr>\n",
       "    <tr>\n",
       "      <th>6.0</th>\n",
       "      <td>1816</td>\n",
       "      <td>26</td>\n",
       "      <td>0.1061</td>\n",
       "      <td>0.0143</td>\n",
       "      <td>796</td>\n",
       "      <td>15</td>\n",
       "      <td>0.1085</td>\n",
       "      <td>0.0188</td>\n",
       "      <td>3850</td>\n",
       "      <td>67</td>\n",
       "      <td>0.1039</td>\n",
       "      <td>0.0174</td>\n",
       "      <td>4602</td>\n",
       "      <td>0.11</td>\n",
       "      <td>0.0320</td>\n",
       "    </tr>\n",
       "  </tbody>\n",
       "</table>\n",
       "</div>"
      ],
      "text/plain": [
       "      训练集总数  训练集目标数  训练集分组占比  训练集目标占比  测试集总数  测试集目标数  测试集分组占比  测试集目标占比  \\\n",
       "rank                                                                     \n",
       "1.0    1970     518   0.1151   0.2629    839     174   0.1143   0.2074   \n",
       "2.0    2520     337   0.1472   0.1337   1129     158   0.1538   0.1399   \n",
       "3.0    3969     270   0.2318   0.0680   1697     139   0.2312   0.0819   \n",
       "4.0    4239     179   0.2476   0.0422   1784      58   0.2431   0.0325   \n",
       "5.0    2608      48   0.1523   0.0184   1094      32   0.1491   0.0293   \n",
       "6.0    1816      26   0.1061   0.0143    796      15   0.1085   0.0188   \n",
       "\n",
       "      跨时间测试集总数  跨时间测试集目标数  跨时间测试集分组占比  跨时间测试集目标占比   陪跑总数  陪跑分组占比  预测结果阈值  \n",
       "rank                                                                      \n",
       "1.0       4254       1001      0.1148      0.2353   4602    0.11  1.0000  \n",
       "2.0       5610        708      0.1515      0.1262   6275    0.15  0.1566  \n",
       "3.0       8680        699      0.2343      0.0805   9622    0.23  0.0960  \n",
       "4.0       9157        398      0.2472      0.0435  10458    0.25  0.0599  \n",
       "5.0       5490        151      0.1482      0.0275   6275    0.15  0.0411  \n",
       "6.0       3850         67      0.1039      0.0174   4602    0.11  0.0320  "
      ]
     },
     "execution_count": 17,
     "metadata": {},
     "output_type": "execute_result"
    }
   ],
   "source": [
    "# 如果想换其他分组方案并查看效果可运行下面代码\n",
    "group_final = am.get_group_final(datalist, model_pkl=r'./usage/result/model_complete.pkl', group_nums=6, group_norm='pp')\n",
    "result_rank, pp_rank = am.get_result_table(datalist, model_pkl=r'./usage/result/model_complete.pkl',\n",
    "                                           group_method=group_final, group_norm='pp')\n",
    "result_rank"
   ]
  },
  {
   "cell_type": "markdown",
   "metadata": {},
   "source": [
    "#### full_automatic_complete中传入pmml_modify=True直接修改"
   ]
  },
  {
   "cell_type": "code",
   "execution_count": 18,
   "metadata": {
    "ExecuteTime": {
     "end_time": "2019-09-10T03:45:33.277692Z",
     "start_time": "2019-09-10T01:05:17.658952Z"
    }
   },
   "outputs": [
    {
     "name": "stdout",
     "output_type": "stream",
     "text": [
      ">> Step1: 数据集划分\n",
      ">> 数据集自动划分成功,按时间升序,后50%样本作为跨时间测试集\n",
      ">> 训练集样本数: 17122\n",
      ">> 测试集样本数: 7339\n",
      ">> 跨时间测试集样本数: 37041\n",
      ">> 训练集目标情况如下:\n",
      "   训练集TARGET为 0 的数量: 15744  占比: 91.95%\n",
      "   训练集TARGET为 1 的数量: 1378  占比: 8.05%\n",
      ">> --------------------------------------------------------\n",
      ">> Step2: 特征选择\n",
      ">> 根据缺失率删除 0 个变量\n",
      ">> 根据同质性删除 21 个变量\n",
      ">> 根据最大计数类别删除 0 个变量\n",
      ">> 根据相关性删除 0 个变量\n",
      ">> 根据iv值删除 26 个变量\n",
      ">> 特征重要度迭代次数 |■■■■■■■■■■■■■■■■■■■■■■■■■■■■■■■■■■■■■■■■■■■|   根据条件提前停止迭代\n",
      ">> 根据特征重要度最终保留 25 个变量\n",
      ">> 具体保留变量如下:\n",
      "   ['EXT_SOURCE_2', 'EXT_SOURCE_3', 'EXT_SOURCE_1', 'ORGANIZATION_TYPE', 'SK_ID_CURR', 'DAYS_EMPLOYED', 'AMT_ANNUITY', 'DAYS_BIRTH', 'DAYS_REGISTRATION', 'AMT_CREDIT', 'DAYS_ID_PUBLISH', 'DAYS_LAST_PHONE_CHANGE', 'AMT_INCOME_TOTAL', 'AMT_GOODS_PRICE', 'AMT_REQ_CREDIT_BUREAU_YEAR', 'OWN_CAR_AGE', 'REGION_POPULATION_RELATIVE', 'NONLIVINGAREA_MEDI', 'YEARS_BEGINEXPLUATATION_AVG', 'HOUR_APPR_PROCESS_START', 'LIVINGAREA_MODE', 'YEARS_BUILD_AVG', 'BASEMENTAREA_MODE', 'NAME_EDUCATION_TYPE', 'APARTMENTS_AVG']\n",
      ">> --------------------------------------------------------\n",
      ">> Step3: 超参数优化\n",
      ">> 开始使用贝叶斯优化的TPE算法对 XGBoost 进行超参数优化\n",
      "100%|██████████████████████████████████████████████| 100/100 [1:46:17<00:00, 47.27s/it, best loss: -0.7269409611397877]\n",
      ">> XGBoost 最优超参数交叉验证结果为：训练集平均AUC：0.7568  验证集平均AUC：0.7319\n",
      ">> 开始使用贝叶斯优化的TPE算法对 LightGBM 进行超参数优化\n",
      "100%|████████████████████████████████████████████████| 100/100 [15:02<00:00,  6.19s/it, best loss: -0.7198063508774573]\n",
      ">> LightGBM 最优超参数交叉验证结果为：训练集平均AUC：0.7471  验证集平均AUC：0.7235\n",
      ">> 模型超参数优化完成,最优模型为 XGBoost\n"
     ]
    },
    {
     "data": {
      "image/png": "[encoded data removed]",
      "text/plain": [
       "<Figure size 432x288 with 1 Axes>"
      ]
     },
     "metadata": {
      "needs_background": "light"
     },
     "output_type": "display_data"
    },
    {
     "name": "stdout",
     "output_type": "stream",
     "text": [
      ">> XGBoost 模型效果如下:\n",
      ">> 训练KS值: 0.3926  AUC值: 0.7607\n",
      ">> 测试KS值: 0.3743  AUC值: 0.7329\n",
      ">> 跨时间测试KS值: 0.3408  AUC值: 0.7304\n",
      ">> --------------------------------------------------------\n",
      ">> 模型建立完成,模型文件已输出\n",
      ">> 开始尝试分组方案 [■■■■■■■■■■■■]\n",
      ">> 共尝试了48种分组方案,最优分组方案为 [21, 51, 79]\n",
      ">> 该分组方案各组数目占比累加值为 [0.21, 0.49, 0.79]\n",
      ">> PMML文件修改完成,按照各组阈值增加新输出Group\n",
      ">> --------------------------------------------------------\n"
     ]
    }
   ],
   "source": [
    "# 去除GBDT，其他参数设置与上面保持一致，但不输出报表和pkl\n",
    "# 传入pmml_modify=True直接修改pmml文件\n",
    "am.full_automatic_complete(data, test_size=0.3, time_test_type=True, pp_data=pp_data, homogeny=0.95, category=0.01, iv=0.02,\n",
    "                           missing_in=True, model_list=['xgb', 'lgbm'], penalty_weight=1, penalty_space=0.02, group_method='normal',\n",
    "                           group_nums=4, group_norm='pp', report_file=False, pkl_file=False,\n",
    "                           pmml_file=r'./usage/result/model_complete_fullmodify1.pmml', pmml_modify=True)"
   ]
  },
  {
   "cell_type": "markdown",
   "metadata": {},
   "source": [
    "#### 修改后的pmml模型预测结果"
   ]
  },
  {
   "cell_type": "code",
   "execution_count": 19,
   "metadata": {
    "ExecuteTime": {
     "end_time": "2019-09-10T03:49:08.513021Z",
     "start_time": "2019-09-10T03:46:45.683840Z"
    }
   },
   "outputs": [
    {
     "data": {
      "text/html": [
       "<div>\n",
       "<style scoped>\n",
       "    .dataframe tbody tr th:only-of-type {\n",
       "        vertical-align: middle;\n",
       "    }\n",
       "\n",
       "    .dataframe tbody tr th {\n",
       "        vertical-align: top;\n",
       "    }\n",
       "\n",
       "    .dataframe thead th {\n",
       "        text-align: right;\n",
       "    }\n",
       "</style>\n",
       "<table border=\"1\" class=\"dataframe\">\n",
       "  <thead>\n",
       "    <tr style=\"text-align: right;\">\n",
       "      <th></th>\n",
       "      <th>SK_ID_CURR</th>\n",
       "      <th>predict</th>\n",
       "      <th>group</th>\n",
       "    </tr>\n",
       "  </thead>\n",
       "  <tbody>\n",
       "    <tr>\n",
       "      <th>369</th>\n",
       "      <td>335389</td>\n",
       "      <td>0.136163</td>\n",
       "      <td>D</td>\n",
       "    </tr>\n",
       "    <tr>\n",
       "      <th>27923</th>\n",
       "      <td>439739</td>\n",
       "      <td>0.064907</td>\n",
       "      <td>C</td>\n",
       "    </tr>\n",
       "    <tr>\n",
       "      <th>60726</th>\n",
       "      <td>210871</td>\n",
       "      <td>0.032103</td>\n",
       "      <td>A</td>\n",
       "    </tr>\n",
       "    <tr>\n",
       "      <th>45143</th>\n",
       "      <td>145913</td>\n",
       "      <td>0.059516</td>\n",
       "      <td>B</td>\n",
       "    </tr>\n",
       "    <tr>\n",
       "      <th>8653</th>\n",
       "      <td>350613</td>\n",
       "      <td>0.217302</td>\n",
       "      <td>D</td>\n",
       "    </tr>\n",
       "  </tbody>\n",
       "</table>\n",
       "</div>"
      ],
      "text/plain": [
       "       SK_ID_CURR   predict group\n",
       "369        335389  0.136163     D\n",
       "27923      439739  0.064907     C\n",
       "60726      210871  0.032103     A\n",
       "45143      145913  0.059516     B\n",
       "8653       350613  0.217302     D"
      ]
     },
     "execution_count": 19,
     "metadata": {},
     "output_type": "execute_result"
    }
   ],
   "source": [
    "# 使用带有分组的pmml文件预测\n",
    "# 增加id列，不显示预测进度\n",
    "am.get_model_predict(r'./usage/result/model_complete_fullmodify1.pmml', X_test_trans, id_name='SK_ID_CURR', verbose=False).head()"
   ]
  },
  {
   "cell_type": "code",
   "execution_count": null,
   "metadata": {},
   "outputs": [],
   "source": []
  }
 ],
 "metadata": {
  "kernelspec": {
   "display_name": "Python 3",
   "language": "python",
   "name": "python3"
  },
  "language_info": {
   "codemirror_mode": {
    "name": "ipython",
    "version": 3
   },
   "file_extension": ".py",
   "mimetype": "text/x-python",
   "name": "python",
   "nbconvert_exporter": "python",
   "pygments_lexer": "ipython3",
   "version": "3.6.5"
  },
  "toc": {
   "base_numbering": 1,
   "nav_menu": {},
   "number_sections": true,
   "sideBar": true,
   "skip_h1_title": false,
   "title_cell": "Table of Contents",
   "title_sidebar": "Contents",
   "toc_cell": false,
   "toc_position": {},
   "toc_section_display": true,
   "toc_window_display": false
  },
  "varInspector": {
   "cols": {
    "lenName": 16,
    "lenType": 16,
    "lenVar": 40
   },
   "kernels_config": {
    "python": {
     "delete_cmd_postfix": "",
     "delete_cmd_prefix": "del ",
     "library": "var_list.py",
     "varRefreshCmd": "print(var_dic_list())"
    },
    "r": {
     "delete_cmd_postfix": ") ",
     "delete_cmd_prefix": "rm(",
     "library": "var_list.r",
     "varRefreshCmd": "cat(var_dic_list()) "
    }
   },
   "types_to_exclude": [
    "module",
    "function",
    "builtin_function_or_method",
    "instance",
    "_Feature"
   ],
   "window_display": false
  }
 },
 "nbformat": 4,
 "nbformat_minor": 2
}
